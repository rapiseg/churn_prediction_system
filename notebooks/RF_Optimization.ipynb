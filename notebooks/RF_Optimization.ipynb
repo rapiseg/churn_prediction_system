{
 "cells": [
  {
   "cell_type": "code",
   "execution_count": 28,
   "id": "2c2346cf",
   "metadata": {},
   "outputs": [],
   "source": [
    "import pandas as pd\n",
    "import numpy as np\n",
    "from sklearn.model_selection import train_test_split\n",
    "import seaborn as sns\n",
    "import matplotlib.pyplot as plt\n",
    "from sklearn.preprocessing import MinMaxScaler\n",
    "from imblearn.over_sampling import SMOTE\n",
    "from sklearn.ensemble import RandomForestClassifier\n",
    "from sklearn.linear_model import LogisticRegression\n",
    "from sklearn.model_selection import StratifiedKFold\n",
    "from sklearn.metrics import roc_auc_score\n",
    "from sklearn.metrics import f1_score\n",
    "from sklearn.metrics import precision_score, recall_score\n",
    "from keras.wrappers.scikit_learn import KerasClassifier\n",
    "\n",
    "\n",
    "import xgboost as xgb\n",
    "from xgboost import XGBClassifier, XGBRegressor\n",
    "from sklearn.neighbors import KNeighborsClassifier\n",
    "from sklearn.svm import SVC\n",
    "\n",
    "import optuna\n",
    "from sklearn.metrics import roc_auc_score\n",
    "from sklearn.model_selection import StratifiedKFold\n",
    "from sklearn.model_selection import cross_val_score\n",
    "from sklearn.metrics import classification_report, confusion_matrix, ConfusionMatrixDisplay,roc_auc_score, f1_score,accuracy_score,roc_curve\n",
    "\n",
    "from joblib import dump\n",
    "\n",
    "import optuna\n",
    "from sklearn.model_selection import StratifiedKFold\n",
    "from tensorflow.keras.layers import Conv1D, MaxPooling1D, Flatten, Dense, Dropout\n",
    "from tensorflow.keras.models import Sequential\n",
    "from tensorflow.keras.optimizers import Adam\n",
    "from tensorflow.keras.callbacks import EarlyStopping, ReduceLROnPlateau\n",
    "from tensorflow.keras.metrics import AUC\n",
    "import tensorflow as tf"
   ]
  },
  {
   "cell_type": "code",
   "execution_count": 45,
   "id": "e1cee003",
   "metadata": {},
   "outputs": [],
   "source": [
    "def preprocess(df):\n",
    "        # # Encode categorical features\n",
    "    binary_columns = ['Partner', 'Dependents', 'PhoneService', 'MultipleLines', 'OnlineSecurity', 'OnlineBackup',\n",
    "                      'DeviceProtection', 'TechSupport', 'StreamingTV', 'StreamingMovies', 'PaperlessBilling', 'Churn']\n",
    "\n",
    "    for col in binary_columns:\n",
    "        df[col].replace({\"Yes\": 1, \"No\": 0}, inplace=True)\n",
    "\n",
    "    df[\"gender\"].replace({\"Female\": 1, \"Male\": 0}, inplace=True)\n",
    "    # The customerID column is not useful as the feature is used for identification of customers.\n",
    "    df.drop([\"customerID\"],axis=1,inplace = True)\n",
    "    df.drop([\"Unnamed: 0\"],axis=1,inplace = True)\n",
    "    cols_to_scale = [\"tenure\", \"MonthlyCharges\", \"TotalCharges\"]\n",
    "    scaler = MinMaxScaler()\n",
    "    df[cols_to_scale] = scaler.fit_transform(df[cols_to_scale])\n",
    "    # Get dummy data for some of the categorical data\n",
    "    df = pd.get_dummies(data = df, columns=['InternetService', 'Contract', 'PaymentMethod'])\n",
    "    return df"
   ]
  },
  {
   "cell_type": "code",
   "execution_count": 46,
   "id": "2766fda7",
   "metadata": {},
   "outputs": [
    {
     "data": {
      "text/html": [
       "<div>\n",
       "<style scoped>\n",
       "    .dataframe tbody tr th:only-of-type {\n",
       "        vertical-align: middle;\n",
       "    }\n",
       "\n",
       "    .dataframe tbody tr th {\n",
       "        vertical-align: top;\n",
       "    }\n",
       "\n",
       "    .dataframe thead th {\n",
       "        text-align: right;\n",
       "    }\n",
       "</style>\n",
       "<table border=\"1\" class=\"dataframe\">\n",
       "  <thead>\n",
       "    <tr style=\"text-align: right;\">\n",
       "      <th></th>\n",
       "      <th>Unnamed: 0</th>\n",
       "      <th>customerID</th>\n",
       "      <th>gender</th>\n",
       "      <th>SeniorCitizen</th>\n",
       "      <th>Partner</th>\n",
       "      <th>Dependents</th>\n",
       "      <th>tenure</th>\n",
       "      <th>PhoneService</th>\n",
       "      <th>MultipleLines</th>\n",
       "      <th>InternetService</th>\n",
       "      <th>...</th>\n",
       "      <th>DeviceProtection</th>\n",
       "      <th>TechSupport</th>\n",
       "      <th>StreamingTV</th>\n",
       "      <th>StreamingMovies</th>\n",
       "      <th>Contract</th>\n",
       "      <th>PaperlessBilling</th>\n",
       "      <th>PaymentMethod</th>\n",
       "      <th>MonthlyCharges</th>\n",
       "      <th>TotalCharges</th>\n",
       "      <th>Churn</th>\n",
       "    </tr>\n",
       "  </thead>\n",
       "  <tbody>\n",
       "    <tr>\n",
       "      <th>0</th>\n",
       "      <td>3005</td>\n",
       "      <td>0516-QREYC</td>\n",
       "      <td>Female</td>\n",
       "      <td>1</td>\n",
       "      <td>No</td>\n",
       "      <td>No</td>\n",
       "      <td>24</td>\n",
       "      <td>Yes</td>\n",
       "      <td>No</td>\n",
       "      <td>No</td>\n",
       "      <td>...</td>\n",
       "      <td>No</td>\n",
       "      <td>No</td>\n",
       "      <td>No</td>\n",
       "      <td>No</td>\n",
       "      <td>Month-to-month</td>\n",
       "      <td>Yes</td>\n",
       "      <td>Mailed check</td>\n",
       "      <td>20.30</td>\n",
       "      <td>459.95</td>\n",
       "      <td>No</td>\n",
       "    </tr>\n",
       "    <tr>\n",
       "      <th>1</th>\n",
       "      <td>3006</td>\n",
       "      <td>9685-WKZGT</td>\n",
       "      <td>Male</td>\n",
       "      <td>1</td>\n",
       "      <td>No</td>\n",
       "      <td>No</td>\n",
       "      <td>14</td>\n",
       "      <td>Yes</td>\n",
       "      <td>Yes</td>\n",
       "      <td>Fiber optic</td>\n",
       "      <td>...</td>\n",
       "      <td>No</td>\n",
       "      <td>No</td>\n",
       "      <td>No</td>\n",
       "      <td>No</td>\n",
       "      <td>Month-to-month</td>\n",
       "      <td>Yes</td>\n",
       "      <td>Electronic check</td>\n",
       "      <td>74.95</td>\n",
       "      <td>1036.75</td>\n",
       "      <td>Yes</td>\n",
       "    </tr>\n",
       "    <tr>\n",
       "      <th>2</th>\n",
       "      <td>3007</td>\n",
       "      <td>6022-UGGSO</td>\n",
       "      <td>Female</td>\n",
       "      <td>1</td>\n",
       "      <td>No</td>\n",
       "      <td>No</td>\n",
       "      <td>32</td>\n",
       "      <td>Yes</td>\n",
       "      <td>No</td>\n",
       "      <td>Fiber optic</td>\n",
       "      <td>...</td>\n",
       "      <td>No</td>\n",
       "      <td>No</td>\n",
       "      <td>No</td>\n",
       "      <td>No</td>\n",
       "      <td>Month-to-month</td>\n",
       "      <td>Yes</td>\n",
       "      <td>Electronic check</td>\n",
       "      <td>74.40</td>\n",
       "      <td>2276.95</td>\n",
       "      <td>Yes</td>\n",
       "    </tr>\n",
       "    <tr>\n",
       "      <th>3</th>\n",
       "      <td>3008</td>\n",
       "      <td>8084-OIVBS</td>\n",
       "      <td>Female</td>\n",
       "      <td>0</td>\n",
       "      <td>No</td>\n",
       "      <td>No</td>\n",
       "      <td>11</td>\n",
       "      <td>Yes</td>\n",
       "      <td>No</td>\n",
       "      <td>No</td>\n",
       "      <td>...</td>\n",
       "      <td>No</td>\n",
       "      <td>No</td>\n",
       "      <td>No</td>\n",
       "      <td>No</td>\n",
       "      <td>One year</td>\n",
       "      <td>No</td>\n",
       "      <td>Mailed check</td>\n",
       "      <td>20.00</td>\n",
       "      <td>211.95</td>\n",
       "      <td>No</td>\n",
       "    </tr>\n",
       "    <tr>\n",
       "      <th>4</th>\n",
       "      <td>3009</td>\n",
       "      <td>8896-BQTTI</td>\n",
       "      <td>Male</td>\n",
       "      <td>0</td>\n",
       "      <td>No</td>\n",
       "      <td>No</td>\n",
       "      <td>1</td>\n",
       "      <td>Yes</td>\n",
       "      <td>Yes</td>\n",
       "      <td>No</td>\n",
       "      <td>...</td>\n",
       "      <td>No</td>\n",
       "      <td>No</td>\n",
       "      <td>No</td>\n",
       "      <td>No</td>\n",
       "      <td>Month-to-month</td>\n",
       "      <td>Yes</td>\n",
       "      <td>Mailed check</td>\n",
       "      <td>25.00</td>\n",
       "      <td>25.00</td>\n",
       "      <td>No</td>\n",
       "    </tr>\n",
       "  </tbody>\n",
       "</table>\n",
       "<p>5 rows × 22 columns</p>\n",
       "</div>"
      ],
      "text/plain": [
       "   Unnamed: 0  customerID  gender  SeniorCitizen Partner Dependents  tenure  \\\n",
       "0        3005  0516-QREYC  Female              1      No         No      24   \n",
       "1        3006  9685-WKZGT    Male              1      No         No      14   \n",
       "2        3007  6022-UGGSO  Female              1      No         No      32   \n",
       "3        3008  8084-OIVBS  Female              0      No         No      11   \n",
       "4        3009  8896-BQTTI    Male              0      No         No       1   \n",
       "\n",
       "  PhoneService MultipleLines InternetService  ... DeviceProtection  \\\n",
       "0          Yes            No              No  ...               No   \n",
       "1          Yes           Yes     Fiber optic  ...               No   \n",
       "2          Yes            No     Fiber optic  ...               No   \n",
       "3          Yes            No              No  ...               No   \n",
       "4          Yes           Yes              No  ...               No   \n",
       "\n",
       "  TechSupport StreamingTV StreamingMovies        Contract PaperlessBilling  \\\n",
       "0          No          No              No  Month-to-month              Yes   \n",
       "1          No          No              No  Month-to-month              Yes   \n",
       "2          No          No              No  Month-to-month              Yes   \n",
       "3          No          No              No        One year               No   \n",
       "4          No          No              No  Month-to-month              Yes   \n",
       "\n",
       "      PaymentMethod MonthlyCharges TotalCharges  Churn  \n",
       "0      Mailed check          20.30       459.95     No  \n",
       "1  Electronic check          74.95      1036.75    Yes  \n",
       "2  Electronic check          74.40      2276.95    Yes  \n",
       "3      Mailed check          20.00       211.95     No  \n",
       "4      Mailed check          25.00        25.00     No  \n",
       "\n",
       "[5 rows x 22 columns]"
      ]
     },
     "execution_count": 46,
     "metadata": {},
     "output_type": "execute_result"
    }
   ],
   "source": [
    "# load and preprocess the test data\n",
    "test_df = pd.read_csv(\"test.csv\")\n",
    "test_df.head()"
   ]
  },
  {
   "cell_type": "code",
   "execution_count": 47,
   "id": "591ef807",
   "metadata": {},
   "outputs": [],
   "source": [
    "test_df = preprocess(test_df)"
   ]
  },
  {
   "cell_type": "code",
   "execution_count": 48,
   "id": "cdc0e3a5",
   "metadata": {},
   "outputs": [
    {
     "data": {
      "text/html": [
       "<div>\n",
       "<style scoped>\n",
       "    .dataframe tbody tr th:only-of-type {\n",
       "        vertical-align: middle;\n",
       "    }\n",
       "\n",
       "    .dataframe tbody tr th {\n",
       "        vertical-align: top;\n",
       "    }\n",
       "\n",
       "    .dataframe thead th {\n",
       "        text-align: right;\n",
       "    }\n",
       "</style>\n",
       "<table border=\"1\" class=\"dataframe\">\n",
       "  <thead>\n",
       "    <tr style=\"text-align: right;\">\n",
       "      <th></th>\n",
       "      <th>gender</th>\n",
       "      <th>SeniorCitizen</th>\n",
       "      <th>Partner</th>\n",
       "      <th>Dependents</th>\n",
       "      <th>tenure</th>\n",
       "      <th>PhoneService</th>\n",
       "      <th>MultipleLines</th>\n",
       "      <th>OnlineSecurity</th>\n",
       "      <th>OnlineBackup</th>\n",
       "      <th>DeviceProtection</th>\n",
       "      <th>...</th>\n",
       "      <th>InternetService_DSL</th>\n",
       "      <th>InternetService_Fiber optic</th>\n",
       "      <th>InternetService_No</th>\n",
       "      <th>Contract_Month-to-month</th>\n",
       "      <th>Contract_One year</th>\n",
       "      <th>Contract_Two year</th>\n",
       "      <th>PaymentMethod_Bank transfer (automatic)</th>\n",
       "      <th>PaymentMethod_Credit card (automatic)</th>\n",
       "      <th>PaymentMethod_Electronic check</th>\n",
       "      <th>PaymentMethod_Mailed check</th>\n",
       "    </tr>\n",
       "  </thead>\n",
       "  <tbody>\n",
       "    <tr>\n",
       "      <th>0</th>\n",
       "      <td>1</td>\n",
       "      <td>1</td>\n",
       "      <td>0</td>\n",
       "      <td>0</td>\n",
       "      <td>0.323944</td>\n",
       "      <td>1</td>\n",
       "      <td>0</td>\n",
       "      <td>0</td>\n",
       "      <td>0</td>\n",
       "      <td>0</td>\n",
       "      <td>...</td>\n",
       "      <td>0</td>\n",
       "      <td>0</td>\n",
       "      <td>1</td>\n",
       "      <td>1</td>\n",
       "      <td>0</td>\n",
       "      <td>0</td>\n",
       "      <td>0</td>\n",
       "      <td>0</td>\n",
       "      <td>0</td>\n",
       "      <td>1</td>\n",
       "    </tr>\n",
       "    <tr>\n",
       "      <th>1</th>\n",
       "      <td>0</td>\n",
       "      <td>1</td>\n",
       "      <td>0</td>\n",
       "      <td>0</td>\n",
       "      <td>0.183099</td>\n",
       "      <td>1</td>\n",
       "      <td>1</td>\n",
       "      <td>0</td>\n",
       "      <td>0</td>\n",
       "      <td>0</td>\n",
       "      <td>...</td>\n",
       "      <td>0</td>\n",
       "      <td>1</td>\n",
       "      <td>0</td>\n",
       "      <td>1</td>\n",
       "      <td>0</td>\n",
       "      <td>0</td>\n",
       "      <td>0</td>\n",
       "      <td>0</td>\n",
       "      <td>1</td>\n",
       "      <td>0</td>\n",
       "    </tr>\n",
       "    <tr>\n",
       "      <th>2</th>\n",
       "      <td>1</td>\n",
       "      <td>1</td>\n",
       "      <td>0</td>\n",
       "      <td>0</td>\n",
       "      <td>0.436620</td>\n",
       "      <td>1</td>\n",
       "      <td>0</td>\n",
       "      <td>0</td>\n",
       "      <td>1</td>\n",
       "      <td>0</td>\n",
       "      <td>...</td>\n",
       "      <td>0</td>\n",
       "      <td>1</td>\n",
       "      <td>0</td>\n",
       "      <td>1</td>\n",
       "      <td>0</td>\n",
       "      <td>0</td>\n",
       "      <td>0</td>\n",
       "      <td>0</td>\n",
       "      <td>1</td>\n",
       "      <td>0</td>\n",
       "    </tr>\n",
       "    <tr>\n",
       "      <th>3</th>\n",
       "      <td>1</td>\n",
       "      <td>0</td>\n",
       "      <td>0</td>\n",
       "      <td>0</td>\n",
       "      <td>0.140845</td>\n",
       "      <td>1</td>\n",
       "      <td>0</td>\n",
       "      <td>0</td>\n",
       "      <td>0</td>\n",
       "      <td>0</td>\n",
       "      <td>...</td>\n",
       "      <td>0</td>\n",
       "      <td>0</td>\n",
       "      <td>1</td>\n",
       "      <td>0</td>\n",
       "      <td>1</td>\n",
       "      <td>0</td>\n",
       "      <td>0</td>\n",
       "      <td>0</td>\n",
       "      <td>0</td>\n",
       "      <td>1</td>\n",
       "    </tr>\n",
       "    <tr>\n",
       "      <th>4</th>\n",
       "      <td>0</td>\n",
       "      <td>0</td>\n",
       "      <td>0</td>\n",
       "      <td>0</td>\n",
       "      <td>0.000000</td>\n",
       "      <td>1</td>\n",
       "      <td>1</td>\n",
       "      <td>0</td>\n",
       "      <td>0</td>\n",
       "      <td>0</td>\n",
       "      <td>...</td>\n",
       "      <td>0</td>\n",
       "      <td>0</td>\n",
       "      <td>1</td>\n",
       "      <td>1</td>\n",
       "      <td>0</td>\n",
       "      <td>0</td>\n",
       "      <td>0</td>\n",
       "      <td>0</td>\n",
       "      <td>0</td>\n",
       "      <td>1</td>\n",
       "    </tr>\n",
       "  </tbody>\n",
       "</table>\n",
       "<p>5 rows × 27 columns</p>\n",
       "</div>"
      ],
      "text/plain": [
       "   gender  SeniorCitizen  Partner  Dependents    tenure  PhoneService  \\\n",
       "0       1              1        0           0  0.323944             1   \n",
       "1       0              1        0           0  0.183099             1   \n",
       "2       1              1        0           0  0.436620             1   \n",
       "3       1              0        0           0  0.140845             1   \n",
       "4       0              0        0           0  0.000000             1   \n",
       "\n",
       "   MultipleLines  OnlineSecurity  OnlineBackup  DeviceProtection  ...  \\\n",
       "0              0               0             0                 0  ...   \n",
       "1              1               0             0                 0  ...   \n",
       "2              0               0             1                 0  ...   \n",
       "3              0               0             0                 0  ...   \n",
       "4              1               0             0                 0  ...   \n",
       "\n",
       "   InternetService_DSL  InternetService_Fiber optic  InternetService_No  \\\n",
       "0                    0                            0                   1   \n",
       "1                    0                            1                   0   \n",
       "2                    0                            1                   0   \n",
       "3                    0                            0                   1   \n",
       "4                    0                            0                   1   \n",
       "\n",
       "   Contract_Month-to-month  Contract_One year  Contract_Two year  \\\n",
       "0                        1                  0                  0   \n",
       "1                        1                  0                  0   \n",
       "2                        1                  0                  0   \n",
       "3                        0                  1                  0   \n",
       "4                        1                  0                  0   \n",
       "\n",
       "   PaymentMethod_Bank transfer (automatic)  \\\n",
       "0                                        0   \n",
       "1                                        0   \n",
       "2                                        0   \n",
       "3                                        0   \n",
       "4                                        0   \n",
       "\n",
       "   PaymentMethod_Credit card (automatic)  PaymentMethod_Electronic check  \\\n",
       "0                                      0                               0   \n",
       "1                                      0                               1   \n",
       "2                                      0                               1   \n",
       "3                                      0                               0   \n",
       "4                                      0                               0   \n",
       "\n",
       "   PaymentMethod_Mailed check  \n",
       "0                           1  \n",
       "1                           0  \n",
       "2                           0  \n",
       "3                           1  \n",
       "4                           1  \n",
       "\n",
       "[5 rows x 27 columns]"
      ]
     },
     "execution_count": 48,
     "metadata": {},
     "output_type": "execute_result"
    }
   ],
   "source": [
    "test_df.head()"
   ]
  },
  {
   "cell_type": "code",
   "execution_count": 49,
   "id": "d2b6b62b",
   "metadata": {},
   "outputs": [
    {
     "data": {
      "text/plain": [
       "0    2946\n",
       "1    1086\n",
       "Name: Churn, dtype: int64"
      ]
     },
     "execution_count": 49,
     "metadata": {},
     "output_type": "execute_result"
    }
   ],
   "source": [
    "X_test = test_df.drop(\"Churn\", axis=1)\n",
    "y_test = test_df[\"Churn\"]\n",
    "y_test.value_counts()"
   ]
  },
  {
   "cell_type": "code",
   "execution_count": 50,
   "id": "5219276d",
   "metadata": {},
   "outputs": [
    {
     "data": {
      "text/plain": [
       "pandas.core.frame.DataFrame"
      ]
     },
     "execution_count": 50,
     "metadata": {},
     "output_type": "execute_result"
    }
   ],
   "source": [
    "type(X_test)"
   ]
  },
  {
   "cell_type": "code",
   "execution_count": 51,
   "id": "ed068586",
   "metadata": {},
   "outputs": [
    {
     "data": {
      "text/plain": [
       "pandas.core.series.Series"
      ]
     },
     "execution_count": 51,
     "metadata": {},
     "output_type": "execute_result"
    }
   ],
   "source": [
    "type(y_test)"
   ]
  },
  {
   "cell_type": "code",
   "execution_count": 52,
   "id": "ce81a898",
   "metadata": {},
   "outputs": [
    {
     "data": {
      "text/html": [
       "<div>\n",
       "<style scoped>\n",
       "    .dataframe tbody tr th:only-of-type {\n",
       "        vertical-align: middle;\n",
       "    }\n",
       "\n",
       "    .dataframe tbody tr th {\n",
       "        vertical-align: top;\n",
       "    }\n",
       "\n",
       "    .dataframe thead th {\n",
       "        text-align: right;\n",
       "    }\n",
       "</style>\n",
       "<table border=\"1\" class=\"dataframe\">\n",
       "  <thead>\n",
       "    <tr style=\"text-align: right;\">\n",
       "      <th></th>\n",
       "      <th>gender</th>\n",
       "      <th>SeniorCitizen</th>\n",
       "      <th>Partner</th>\n",
       "      <th>Dependents</th>\n",
       "      <th>tenure</th>\n",
       "      <th>PhoneService</th>\n",
       "      <th>MultipleLines</th>\n",
       "      <th>OnlineSecurity</th>\n",
       "      <th>OnlineBackup</th>\n",
       "      <th>DeviceProtection</th>\n",
       "      <th>...</th>\n",
       "      <th>InternetService_DSL</th>\n",
       "      <th>InternetService_Fiber optic</th>\n",
       "      <th>InternetService_No</th>\n",
       "      <th>Contract_Month-to-month</th>\n",
       "      <th>Contract_One year</th>\n",
       "      <th>Contract_Two year</th>\n",
       "      <th>PaymentMethod_Bank transfer (automatic)</th>\n",
       "      <th>PaymentMethod_Credit card (automatic)</th>\n",
       "      <th>PaymentMethod_Electronic check</th>\n",
       "      <th>PaymentMethod_Mailed check</th>\n",
       "    </tr>\n",
       "  </thead>\n",
       "  <tbody>\n",
       "    <tr>\n",
       "      <th>0</th>\n",
       "      <td>1</td>\n",
       "      <td>1</td>\n",
       "      <td>0</td>\n",
       "      <td>0</td>\n",
       "      <td>0.647887</td>\n",
       "      <td>1</td>\n",
       "      <td>0</td>\n",
       "      <td>0</td>\n",
       "      <td>0</td>\n",
       "      <td>0</td>\n",
       "      <td>...</td>\n",
       "      <td>0</td>\n",
       "      <td>1</td>\n",
       "      <td>0</td>\n",
       "      <td>1</td>\n",
       "      <td>0</td>\n",
       "      <td>0</td>\n",
       "      <td>0</td>\n",
       "      <td>0</td>\n",
       "      <td>0</td>\n",
       "      <td>1</td>\n",
       "    </tr>\n",
       "    <tr>\n",
       "      <th>1</th>\n",
       "      <td>0</td>\n",
       "      <td>0</td>\n",
       "      <td>0</td>\n",
       "      <td>0</td>\n",
       "      <td>0.225352</td>\n",
       "      <td>1</td>\n",
       "      <td>0</td>\n",
       "      <td>0</td>\n",
       "      <td>0</td>\n",
       "      <td>0</td>\n",
       "      <td>...</td>\n",
       "      <td>0</td>\n",
       "      <td>1</td>\n",
       "      <td>0</td>\n",
       "      <td>0</td>\n",
       "      <td>0</td>\n",
       "      <td>1</td>\n",
       "      <td>0</td>\n",
       "      <td>0</td>\n",
       "      <td>0</td>\n",
       "      <td>1</td>\n",
       "    </tr>\n",
       "    <tr>\n",
       "      <th>2</th>\n",
       "      <td>0</td>\n",
       "      <td>0</td>\n",
       "      <td>0</td>\n",
       "      <td>0</td>\n",
       "      <td>0.000000</td>\n",
       "      <td>1</td>\n",
       "      <td>0</td>\n",
       "      <td>0</td>\n",
       "      <td>0</td>\n",
       "      <td>0</td>\n",
       "      <td>...</td>\n",
       "      <td>0</td>\n",
       "      <td>1</td>\n",
       "      <td>0</td>\n",
       "      <td>1</td>\n",
       "      <td>0</td>\n",
       "      <td>0</td>\n",
       "      <td>0</td>\n",
       "      <td>0</td>\n",
       "      <td>0</td>\n",
       "      <td>1</td>\n",
       "    </tr>\n",
       "    <tr>\n",
       "      <th>3</th>\n",
       "      <td>1</td>\n",
       "      <td>1</td>\n",
       "      <td>0</td>\n",
       "      <td>0</td>\n",
       "      <td>1.000000</td>\n",
       "      <td>1</td>\n",
       "      <td>1</td>\n",
       "      <td>0</td>\n",
       "      <td>0</td>\n",
       "      <td>0</td>\n",
       "      <td>...</td>\n",
       "      <td>0</td>\n",
       "      <td>1</td>\n",
       "      <td>0</td>\n",
       "      <td>0</td>\n",
       "      <td>1</td>\n",
       "      <td>0</td>\n",
       "      <td>0</td>\n",
       "      <td>1</td>\n",
       "      <td>0</td>\n",
       "      <td>0</td>\n",
       "    </tr>\n",
       "    <tr>\n",
       "      <th>4</th>\n",
       "      <td>1</td>\n",
       "      <td>0</td>\n",
       "      <td>0</td>\n",
       "      <td>1</td>\n",
       "      <td>0.000000</td>\n",
       "      <td>1</td>\n",
       "      <td>0</td>\n",
       "      <td>0</td>\n",
       "      <td>0</td>\n",
       "      <td>0</td>\n",
       "      <td>...</td>\n",
       "      <td>0</td>\n",
       "      <td>1</td>\n",
       "      <td>0</td>\n",
       "      <td>1</td>\n",
       "      <td>0</td>\n",
       "      <td>0</td>\n",
       "      <td>0</td>\n",
       "      <td>0</td>\n",
       "      <td>1</td>\n",
       "      <td>0</td>\n",
       "    </tr>\n",
       "  </tbody>\n",
       "</table>\n",
       "<p>5 rows × 27 columns</p>\n",
       "</div>"
      ],
      "text/plain": [
       "   gender  SeniorCitizen  Partner  Dependents    tenure  PhoneService  \\\n",
       "0       1              1        0           0  0.647887             1   \n",
       "1       0              0        0           0  0.225352             1   \n",
       "2       0              0        0           0  0.000000             1   \n",
       "3       1              1        0           0  1.000000             1   \n",
       "4       1              0        0           1  0.000000             1   \n",
       "\n",
       "   MultipleLines  OnlineSecurity  OnlineBackup  DeviceProtection  ...  \\\n",
       "0              0               0             0                 0  ...   \n",
       "1              0               0             0                 0  ...   \n",
       "2              0               0             0                 0  ...   \n",
       "3              1               0             0                 0  ...   \n",
       "4              0               0             0                 0  ...   \n",
       "\n",
       "   InternetService_DSL  InternetService_Fiber optic  InternetService_No  \\\n",
       "0                    0                            1                   0   \n",
       "1                    0                            1                   0   \n",
       "2                    0                            1                   0   \n",
       "3                    0                            1                   0   \n",
       "4                    0                            1                   0   \n",
       "\n",
       "   Contract_Month-to-month  Contract_One year  Contract_Two year  \\\n",
       "0                        1                  0                  0   \n",
       "1                        0                  0                  1   \n",
       "2                        1                  0                  0   \n",
       "3                        0                  1                  0   \n",
       "4                        1                  0                  0   \n",
       "\n",
       "   PaymentMethod_Bank transfer (automatic)  \\\n",
       "0                                        0   \n",
       "1                                        0   \n",
       "2                                        0   \n",
       "3                                        0   \n",
       "4                                        0   \n",
       "\n",
       "   PaymentMethod_Credit card (automatic)  PaymentMethod_Electronic check  \\\n",
       "0                                      0                               0   \n",
       "1                                      0                               0   \n",
       "2                                      0                               0   \n",
       "3                                      1                               0   \n",
       "4                                      0                               1   \n",
       "\n",
       "   PaymentMethod_Mailed check  \n",
       "0                           1  \n",
       "1                           1  \n",
       "2                           1  \n",
       "3                           0  \n",
       "4                           0  \n",
       "\n",
       "[5 rows x 27 columns]"
      ]
     },
     "execution_count": 52,
     "metadata": {},
     "output_type": "execute_result"
    }
   ],
   "source": [
    "train_df = pd.read_csv(\"synthatic_data.csv\")\n",
    "train_df.drop([\"Unnamed: 0\"],axis=1,inplace = True)\n",
    "train_df.head()"
   ]
  },
  {
   "cell_type": "code",
   "execution_count": 53,
   "id": "ee1b4087",
   "metadata": {},
   "outputs": [
    {
     "data": {
      "text/plain": [
       "0    74170\n",
       "1    25830\n",
       "Name: Churn, dtype: int64"
      ]
     },
     "execution_count": 53,
     "metadata": {},
     "output_type": "execute_result"
    }
   ],
   "source": [
    "X = train_df.drop(\"Churn\", axis=1)\n",
    "y = train_df[\"Churn\"]\n",
    "y.value_counts()"
   ]
  },
  {
   "cell_type": "code",
   "execution_count": 54,
   "id": "690292b8",
   "metadata": {},
   "outputs": [
    {
     "name": "stdout",
     "output_type": "stream",
     "text": [
      "Resampled class distribution: Counter({0: 25830, 1: 25830})\n"
     ]
    }
   ],
   "source": [
    "from collections import Counter\n",
    "from sklearn.datasets import make_classification\n",
    "from imblearn.under_sampling import RandomUnderSampler\n",
    "\n",
    "# perform random undersampling\n",
    "rus = RandomUnderSampler(random_state=42)\n",
    "X, y = rus.fit_resample(X, y)\n",
    "\n",
    "# print the class distribution after undersampling\n",
    "print('Resampled class distribution:', Counter(y))"
   ]
  },
  {
   "cell_type": "code",
   "execution_count": 65,
   "id": "eabb55b3",
   "metadata": {},
   "outputs": [],
   "source": [
    "X =X.to_numpy()\n",
    "\n",
    "y = y.to_numpy()"
   ]
  },
  {
   "cell_type": "markdown",
   "id": "3155d8b7",
   "metadata": {},
   "source": [
    "# CNN"
   ]
  },
  {
   "cell_type": "code",
   "execution_count": 65,
   "id": "2585272a",
   "metadata": {},
   "outputs": [],
   "source": [
    "\n",
    "\n",
    "def create_model(num_filters, kernel_size, pool_size, dense_units, learning_rate, l2_weight):\n",
    "    model = Sequential()\n",
    "    model.add(Conv1D(num_filters, kernel_size, activation='relu', input_shape=(X.shape[1], 1), kernel_regularizer=tf.keras.regularizers.l2(l2_weight)))\n",
    "    model.add(MaxPooling1D(pool_size=pool_size))\n",
    "    model.add(Dropout(rate=0.5))\n",
    "    model.add(Flatten())\n",
    "    model.add(Dense(dense_units, activation='relu', kernel_regularizer=tf.keras.regularizers.l2(l2_weight)))\n",
    "    model.add(Dense(1, activation='sigmoid'))\n",
    "    optimizer = Adam(learning_rate=learning_rate)\n",
    "    model.compile(loss='binary_crossentropy', optimizer=optimizer, metrics=['accuracy'])\n",
    "    return model"
   ]
  },
  {
   "cell_type": "code",
   "execution_count": 15,
   "id": "74751625",
   "metadata": {},
   "outputs": [
    {
     "name": "stderr",
     "output_type": "stream",
     "text": [
      "\u001b[32m[I 2023-05-01 12:24:08,341]\u001b[0m A new study created in memory with name: no-name-01ed1c50-5596-43fe-82cc-1a79ad81a548\u001b[0m\n",
      "C:\\Users\\Apiseg\\AppData\\Local\\Temp\\ipykernel_19660\\3300205321.py:6: FutureWarning: suggest_loguniform has been deprecated in v3.0.0. This feature will be removed in v6.0.0. See https://github.com/optuna/optuna/releases/tag/v3.0.0. Use :func:`~optuna.trial.Trial.suggest_float` instead.\n",
      "  learning_rate = trial.suggest_loguniform('learning_rate', 1e-5, 1e-2)\n",
      "C:\\Users\\Apiseg\\AppData\\Local\\Temp\\ipykernel_19660\\3300205321.py:7: FutureWarning: suggest_loguniform has been deprecated in v3.0.0. This feature will be removed in v6.0.0. See https://github.com/optuna/optuna/releases/tag/v3.0.0. Use :func:`~optuna.trial.Trial.suggest_float` instead.\n",
      "  l2_weight = trial.suggest_loguniform('l2_weight', 1e-6, 1e-3)\n",
      "\u001b[32m[I 2023-05-01 12:38:12,933]\u001b[0m Trial 0 finished with value: 0.894426691532135 and parameters: {'num_filters': 128, 'kernel_size': 6, 'pool_size': 2, 'dense_units': 48, 'learning_rate': 0.0004284050344599286, 'l2_weight': 1.1769711585511664e-05}. Best is trial 0 with value: 0.894426691532135.\u001b[0m\n",
      "C:\\Users\\Apiseg\\AppData\\Local\\Temp\\ipykernel_19660\\3300205321.py:6: FutureWarning: suggest_loguniform has been deprecated in v3.0.0. This feature will be removed in v6.0.0. See https://github.com/optuna/optuna/releases/tag/v3.0.0. Use :func:`~optuna.trial.Trial.suggest_float` instead.\n",
      "  learning_rate = trial.suggest_loguniform('learning_rate', 1e-5, 1e-2)\n",
      "C:\\Users\\Apiseg\\AppData\\Local\\Temp\\ipykernel_19660\\3300205321.py:7: FutureWarning: suggest_loguniform has been deprecated in v3.0.0. This feature will be removed in v6.0.0. See https://github.com/optuna/optuna/releases/tag/v3.0.0. Use :func:`~optuna.trial.Trial.suggest_float` instead.\n",
      "  l2_weight = trial.suggest_loguniform('l2_weight', 1e-6, 1e-3)\n",
      "\u001b[32m[I 2023-05-01 12:48:55,987]\u001b[0m Trial 1 finished with value: 0.8918352365493775 and parameters: {'num_filters': 128, 'kernel_size': 4, 'pool_size': 4, 'dense_units': 32, 'learning_rate': 0.0016006434904111252, 'l2_weight': 1.0938126596413766e-06}. Best is trial 0 with value: 0.894426691532135.\u001b[0m\n",
      "C:\\Users\\Apiseg\\AppData\\Local\\Temp\\ipykernel_19660\\3300205321.py:6: FutureWarning: suggest_loguniform has been deprecated in v3.0.0. This feature will be removed in v6.0.0. See https://github.com/optuna/optuna/releases/tag/v3.0.0. Use :func:`~optuna.trial.Trial.suggest_float` instead.\n",
      "  learning_rate = trial.suggest_loguniform('learning_rate', 1e-5, 1e-2)\n",
      "C:\\Users\\Apiseg\\AppData\\Local\\Temp\\ipykernel_19660\\3300205321.py:7: FutureWarning: suggest_loguniform has been deprecated in v3.0.0. This feature will be removed in v6.0.0. See https://github.com/optuna/optuna/releases/tag/v3.0.0. Use :func:`~optuna.trial.Trial.suggest_float` instead.\n",
      "  l2_weight = trial.suggest_loguniform('l2_weight', 1e-6, 1e-3)\n",
      "\u001b[32m[I 2023-05-01 13:04:00,341]\u001b[0m Trial 2 finished with value: 0.8903134346008301 and parameters: {'num_filters': 96, 'kernel_size': 4, 'pool_size': 4, 'dense_units': 32, 'learning_rate': 0.00036832809221733274, 'l2_weight': 1.4492499473016548e-05}. Best is trial 0 with value: 0.894426691532135.\u001b[0m\n"
     ]
    },
    {
     "name": "stdout",
     "output_type": "stream",
     "text": [
      "Best trial:\n",
      "  Value: 0.894426691532135\n",
      "  Params: \n",
      "    num_filters: 128\n",
      "    kernel_size: 6\n",
      "    pool_size: 2\n",
      "    dense_units: 48\n",
      "    learning_rate: 0.0004284050344599286\n",
      "    l2_weight: 1.1769711585511664e-05\n"
     ]
    }
   ],
   "source": [
    "def objective(trial):\n",
    "    num_filters = trial.suggest_int('num_filters', 32, 128, step=32)\n",
    "    kernel_size = trial.suggest_int('kernel_size', 3, 7)\n",
    "    pool_size = trial.suggest_int('pool_size', 2, 5)\n",
    "    dense_units = trial.suggest_int('dense_units', 16, 64, step=16)\n",
    "    learning_rate = trial.suggest_loguniform('learning_rate', 1e-5, 1e-2)\n",
    "    l2_weight = trial.suggest_loguniform('l2_weight', 1e-6, 1e-3)\n",
    "\n",
    "    model = create_model(num_filters=num_filters, kernel_size=kernel_size, pool_size=pool_size, dense_units=dense_units, learning_rate=learning_rate, l2_weight=l2_weight)\n",
    "\n",
    "    kfold = StratifiedKFold(n_splits=5, shuffle=True, random_state=42)\n",
    "    cv_scores = []\n",
    "    for train_idx, val_idx in kfold.split(X, y):\n",
    "        X_train, y_train = X[train_idx], y[train_idx]\n",
    "        X_val, y_val = X[val_idx], y[val_idx]\n",
    "        X_train = X_train.reshape((X_train.shape[0], X_train.shape[1], 1))\n",
    "        X_val = X_val.reshape((X_val.shape[0], X_val.shape[1], 1))\n",
    "        es = EarlyStopping(monitor='val_loss', mode='min', verbose=0, patience=10)\n",
    "        reduce_lr = ReduceLROnPlateau(monitor='val_loss', factor=0.5, patience=5, min_lr=1e-6, verbose=0)\n",
    "        model.fit(X_train, y_train, validation_data=(X_val, y_val), epochs=50, batch_size=32, callbacks=[es, reduce_lr], verbose=0)\n",
    "        _, score = model.evaluate(X_val, y_val, verbose=0)\n",
    "        cv_scores.append(score)\n",
    "\n",
    "    return np.mean(cv_scores)\n",
    "\n",
    "study = optuna.create_study(direction='maximize')\n",
    "study.optimize(objective, n_trials=3)\n",
    "print(\"Best trial:\")\n",
    "trial = study.best_trial\n",
    "print(\"  Value: {}\".format(trial.value))\n",
    "print(\"  Params: \")\n",
    "for key, value in trial.params.items():\n",
    "    print(\"    {}: {}\".format(key, value))\n",
    "\n",
    "best_params = trial.params"
   ]
  },
  {
   "cell_type": "code",
   "execution_count": 59,
   "id": "1e29b497",
   "metadata": {},
   "outputs": [],
   "source": [
    "import matplotlib.pyplot as plt\n",
    "def plot_val_acc_loss(history):     \n",
    "    #plot the training and validation accuracy and loss at each epoch     \n",
    "    loss = history.history['loss']     \n",
    "    val_loss = history.history['val_loss']     \n",
    "    epochs = range(1, len(loss) + 1)     \n",
    "    plt.plot(epochs, loss, 'y', label='Training loss')     \n",
    "    plt.plot(epochs, val_loss, 'r', label='Validation loss')     \n",
    "    plt.title('Training and validation loss')     \n",
    "    plt.xlabel('Epochs')     \n",
    "    plt.ylabel('Loss')     \n",
    "    plt.legend()     \n",
    "    plt.show()     \n",
    "    acc = history.history['accuracy']     \n",
    "    val_acc = history.history['val_accuracy']     \n",
    "    plt.plot(epochs, acc, 'y', label='Training acc')     \n",
    "    plt.plot(epochs, val_acc, 'r', label='Validation acc')     \n",
    "    plt.title('Training and validation accuracy')     \n",
    "    plt.xlabel('Epochs')     \n",
    "    plt.ylabel('Accuracy')     \n",
    "    plt.legend()     \n",
    "    plt.show()"
   ]
  },
  {
   "cell_type": "code",
   "execution_count": 66,
   "id": "c20acfca",
   "metadata": {},
   "outputs": [
    {
     "name": "stdout",
     "output_type": "stream",
     "text": [
      "Model: \"sequential_11\"\n",
      "_________________________________________________________________\n",
      " Layer (type)                Output Shape              Param #   \n",
      "=================================================================\n",
      " conv1d_9 (Conv1D)           (None, 21, 128)           896       \n",
      "                                                                 \n",
      " max_pooling1d_9 (MaxPooling  (None, 10, 128)          0         \n",
      " 1D)                                                             \n",
      "                                                                 \n",
      " dropout (Dropout)           (None, 10, 128)           0         \n",
      "                                                                 \n",
      " flatten_9 (Flatten)         (None, 1280)              0         \n",
      "                                                                 \n",
      " dense_18 (Dense)            (None, 48)                61488     \n",
      "                                                                 \n",
      " dense_19 (Dense)            (None, 1)                 49        \n",
      "                                                                 \n",
      "=================================================================\n",
      "Total params: 62,433\n",
      "Trainable params: 62,433\n",
      "Non-trainable params: 0\n",
      "_________________________________________________________________\n"
     ]
    }
   ],
   "source": [
    "model = create_model(128,6,2,48,0.0004284050344599286,1.1769711585511664e-05)\n",
    "\n",
    "model.summary()"
   ]
  },
  {
   "cell_type": "code",
   "execution_count": null,
   "id": "0923434a",
   "metadata": {},
   "outputs": [],
   "source": []
  },
  {
   "cell_type": "code",
   "execution_count": 62,
   "id": "935fbfc7",
   "metadata": {},
   "outputs": [],
   "source": [
    "from sklearn.model_selection import train_test_split\n",
    "X_train, X_val, y_train, y_val = train_test_split(X,y,test_size=0.2,random_state=42)\n"
   ]
  },
  {
   "cell_type": "code",
   "execution_count": 67,
   "id": "dbe89b87",
   "metadata": {},
   "outputs": [
    {
     "name": "stdout",
     "output_type": "stream",
     "text": [
      "Epoch 1/50\n",
      "2500/2500 [==============================] - 17s 7ms/step - loss: 0.3708 - accuracy: 0.8290 - val_loss: 0.3610 - val_accuracy: 0.8341 - lr: 4.2841e-04\n",
      "Epoch 2/50\n",
      "2500/2500 [==============================] - 18s 7ms/step - loss: 0.3627 - accuracy: 0.8311 - val_loss: 0.3613 - val_accuracy: 0.8328 - lr: 4.2841e-04\n",
      "Epoch 3/50\n",
      "2500/2500 [==============================] - 17s 7ms/step - loss: 0.3611 - accuracy: 0.8330 - val_loss: 0.3584 - val_accuracy: 0.8336 - lr: 4.2841e-04\n",
      "Epoch 4/50\n",
      "2500/2500 [==============================] - 17s 7ms/step - loss: 0.3603 - accuracy: 0.8335 - val_loss: 0.3584 - val_accuracy: 0.8357 - lr: 4.2841e-04\n",
      "Epoch 5/50\n",
      "2500/2500 [==============================] - 17s 7ms/step - loss: 0.3589 - accuracy: 0.8346 - val_loss: 0.3572 - val_accuracy: 0.8346 - lr: 4.2841e-04\n",
      "Epoch 6/50\n",
      "2500/2500 [==============================] - 15s 6ms/step - loss: 0.3596 - accuracy: 0.8339 - val_loss: 0.3581 - val_accuracy: 0.8328 - lr: 4.2841e-04\n",
      "Epoch 7/50\n",
      "2500/2500 [==============================] - 18s 7ms/step - loss: 0.3589 - accuracy: 0.8348 - val_loss: 0.3577 - val_accuracy: 0.8348 - lr: 4.2841e-04\n",
      "Epoch 8/50\n",
      "2500/2500 [==============================] - 16s 6ms/step - loss: 0.3590 - accuracy: 0.8344 - val_loss: 0.3586 - val_accuracy: 0.8344 - lr: 4.2841e-04\n",
      "Epoch 9/50\n",
      "2500/2500 [==============================] - 15s 6ms/step - loss: 0.3591 - accuracy: 0.8345 - val_loss: 0.3574 - val_accuracy: 0.8343 - lr: 4.2841e-04\n",
      "Epoch 10/50\n",
      "2500/2500 [==============================] - 16s 6ms/step - loss: 0.3582 - accuracy: 0.8343 - val_loss: 0.3613 - val_accuracy: 0.8312 - lr: 4.2841e-04\n",
      "Epoch 11/50\n",
      "2500/2500 [==============================] - 16s 7ms/step - loss: 0.3570 - accuracy: 0.8350 - val_loss: 0.3571 - val_accuracy: 0.8359 - lr: 2.1420e-04\n",
      "Epoch 12/50\n",
      "2500/2500 [==============================] - 15s 6ms/step - loss: 0.3570 - accuracy: 0.8342 - val_loss: 0.3577 - val_accuracy: 0.8359 - lr: 2.1420e-04\n",
      "Epoch 13/50\n",
      "2500/2500 [==============================] - 16s 7ms/step - loss: 0.3565 - accuracy: 0.8353 - val_loss: 0.3570 - val_accuracy: 0.8358 - lr: 2.1420e-04\n",
      "Epoch 14/50\n",
      "2500/2500 [==============================] - 17s 7ms/step - loss: 0.3563 - accuracy: 0.8357 - val_loss: 0.3570 - val_accuracy: 0.8347 - lr: 2.1420e-04\n",
      "Epoch 15/50\n",
      "2500/2500 [==============================] - 16s 6ms/step - loss: 0.3558 - accuracy: 0.8360 - val_loss: 0.3569 - val_accuracy: 0.8349 - lr: 2.1420e-04\n",
      "Epoch 16/50\n",
      "2500/2500 [==============================] - 16s 6ms/step - loss: 0.3564 - accuracy: 0.8359 - val_loss: 0.3568 - val_accuracy: 0.8353 - lr: 2.1420e-04\n",
      "Epoch 17/50\n",
      "2500/2500 [==============================] - 15s 6ms/step - loss: 0.3560 - accuracy: 0.8359 - val_loss: 0.3572 - val_accuracy: 0.8349 - lr: 2.1420e-04\n",
      "Epoch 18/50\n",
      "2500/2500 [==============================] - 16s 6ms/step - loss: 0.3560 - accuracy: 0.8355 - val_loss: 0.3570 - val_accuracy: 0.8359 - lr: 2.1420e-04\n",
      "Epoch 19/50\n",
      "2500/2500 [==============================] - 17s 7ms/step - loss: 0.3556 - accuracy: 0.8361 - val_loss: 0.3569 - val_accuracy: 0.8349 - lr: 2.1420e-04\n",
      "Epoch 20/50\n",
      "2500/2500 [==============================] - 17s 7ms/step - loss: 0.3560 - accuracy: 0.8356 - val_loss: 0.3570 - val_accuracy: 0.8342 - lr: 2.1420e-04\n",
      "Epoch 21/50\n",
      "2500/2500 [==============================] - 16s 7ms/step - loss: 0.3556 - accuracy: 0.8349 - val_loss: 0.3571 - val_accuracy: 0.8348 - lr: 2.1420e-04\n",
      "Epoch 22/50\n",
      "2500/2500 [==============================] - 17s 7ms/step - loss: 0.3546 - accuracy: 0.8367 - val_loss: 0.3566 - val_accuracy: 0.8356 - lr: 1.0710e-04\n",
      "Epoch 23/50\n",
      "2500/2500 [==============================] - 16s 6ms/step - loss: 0.3546 - accuracy: 0.8358 - val_loss: 0.3564 - val_accuracy: 0.8359 - lr: 1.0710e-04\n",
      "Epoch 24/50\n",
      "2500/2500 [==============================] - 17s 7ms/step - loss: 0.3545 - accuracy: 0.8359 - val_loss: 0.3565 - val_accuracy: 0.8347 - lr: 1.0710e-04\n",
      "Epoch 25/50\n",
      "2500/2500 [==============================] - 17s 7ms/step - loss: 0.3542 - accuracy: 0.8373 - val_loss: 0.3566 - val_accuracy: 0.8353 - lr: 1.0710e-04\n",
      "Epoch 26/50\n",
      "2500/2500 [==============================] - 16s 7ms/step - loss: 0.3543 - accuracy: 0.8359 - val_loss: 0.3568 - val_accuracy: 0.8340 - lr: 1.0710e-04\n",
      "Epoch 27/50\n",
      "2500/2500 [==============================] - 18s 7ms/step - loss: 0.3544 - accuracy: 0.8367 - val_loss: 0.3564 - val_accuracy: 0.8359 - lr: 1.0710e-04\n",
      "Epoch 28/50\n",
      "2500/2500 [==============================] - 18s 7ms/step - loss: 0.3540 - accuracy: 0.8368 - val_loss: 0.3573 - val_accuracy: 0.8346 - lr: 1.0710e-04\n",
      "Epoch 29/50\n",
      "2500/2500 [==============================] - 17s 7ms/step - loss: 0.3538 - accuracy: 0.8364 - val_loss: 0.3573 - val_accuracy: 0.8354 - lr: 5.3551e-05\n",
      "Epoch 30/50\n",
      "2500/2500 [==============================] - 17s 7ms/step - loss: 0.3535 - accuracy: 0.8374 - val_loss: 0.3564 - val_accuracy: 0.8356 - lr: 5.3551e-05\n",
      "Epoch 31/50\n",
      "2500/2500 [==============================] - 16s 7ms/step - loss: 0.3535 - accuracy: 0.8366 - val_loss: 0.3563 - val_accuracy: 0.8348 - lr: 5.3551e-05\n",
      "Epoch 32/50\n",
      "2500/2500 [==============================] - 17s 7ms/step - loss: 0.3537 - accuracy: 0.8365 - val_loss: 0.3563 - val_accuracy: 0.8339 - lr: 5.3551e-05\n",
      "Epoch 33/50\n",
      "2500/2500 [==============================] - 17s 7ms/step - loss: 0.3539 - accuracy: 0.8366 - val_loss: 0.3562 - val_accuracy: 0.8359 - lr: 5.3551e-05\n",
      "Epoch 34/50\n",
      "2500/2500 [==============================] - 15s 6ms/step - loss: 0.3537 - accuracy: 0.8365 - val_loss: 0.3567 - val_accuracy: 0.8345 - lr: 5.3551e-05\n",
      "Epoch 35/50\n",
      "2500/2500 [==============================] - 16s 6ms/step - loss: 0.3537 - accuracy: 0.8367 - val_loss: 0.3565 - val_accuracy: 0.8343 - lr: 5.3551e-05\n",
      "Epoch 36/50\n",
      "2500/2500 [==============================] - 15s 6ms/step - loss: 0.3534 - accuracy: 0.8370 - val_loss: 0.3566 - val_accuracy: 0.8346 - lr: 5.3551e-05\n",
      "Epoch 37/50\n",
      "2500/2500 [==============================] - 16s 6ms/step - loss: 0.3528 - accuracy: 0.8364 - val_loss: 0.3564 - val_accuracy: 0.8340 - lr: 2.6775e-05\n",
      "Epoch 38/50\n",
      "2500/2500 [==============================] - 15s 6ms/step - loss: 0.3529 - accuracy: 0.8367 - val_loss: 0.3565 - val_accuracy: 0.8343 - lr: 2.6775e-05\n",
      "Epoch 39/50\n",
      "2500/2500 [==============================] - 16s 6ms/step - loss: 0.3533 - accuracy: 0.8367 - val_loss: 0.3562 - val_accuracy: 0.8346 - lr: 2.6775e-05\n",
      "Epoch 40/50\n",
      "2500/2500 [==============================] - 15s 6ms/step - loss: 0.3532 - accuracy: 0.8366 - val_loss: 0.3563 - val_accuracy: 0.8349 - lr: 2.6775e-05\n",
      "Epoch 41/50\n",
      "2500/2500 [==============================] - 17s 7ms/step - loss: 0.3535 - accuracy: 0.8367 - val_loss: 0.3562 - val_accuracy: 0.8351 - lr: 2.6775e-05\n",
      "Epoch 42/50\n",
      "2500/2500 [==============================] - 16s 6ms/step - loss: 0.3532 - accuracy: 0.8367 - val_loss: 0.3563 - val_accuracy: 0.8351 - lr: 2.6775e-05\n",
      "Epoch 43/50\n",
      "2500/2500 [==============================] - 17s 7ms/step - loss: 0.3529 - accuracy: 0.8371 - val_loss: 0.3561 - val_accuracy: 0.8352 - lr: 2.6775e-05\n",
      "Epoch 44/50\n",
      "2500/2500 [==============================] - 18s 7ms/step - loss: 0.3531 - accuracy: 0.8366 - val_loss: 0.3564 - val_accuracy: 0.8345 - lr: 2.6775e-05\n",
      "Epoch 45/50\n",
      "2500/2500 [==============================] - 16s 7ms/step - loss: 0.3528 - accuracy: 0.8373 - val_loss: 0.3565 - val_accuracy: 0.8346 - lr: 2.6775e-05\n",
      "Epoch 46/50\n",
      "2500/2500 [==============================] - 16s 7ms/step - loss: 0.3530 - accuracy: 0.8366 - val_loss: 0.3563 - val_accuracy: 0.8343 - lr: 2.6775e-05\n",
      "Epoch 47/50\n",
      "2500/2500 [==============================] - 17s 7ms/step - loss: 0.3528 - accuracy: 0.8366 - val_loss: 0.3563 - val_accuracy: 0.8346 - lr: 1.3388e-05\n",
      "Epoch 48/50\n",
      "2500/2500 [==============================] - 16s 6ms/step - loss: 0.3523 - accuracy: 0.8374 - val_loss: 0.3562 - val_accuracy: 0.8347 - lr: 1.3388e-05\n",
      "Epoch 49/50\n",
      "2500/2500 [==============================] - 17s 7ms/step - loss: 0.3533 - accuracy: 0.8362 - val_loss: 0.3563 - val_accuracy: 0.8347 - lr: 1.3388e-05\n",
      "Epoch 50/50\n",
      "2500/2500 [==============================] - 15s 6ms/step - loss: 0.3530 - accuracy: 0.8372 - val_loss: 0.3562 - val_accuracy: 0.8351 - lr: 1.3388e-05\n"
     ]
    }
   ],
   "source": [
    "es = EarlyStopping(monitor='val_loss', mode='min', verbose=0, patience=10)\n",
    "reduce_lr = ReduceLROnPlateau(monitor='val_loss', factor=0.5, patience=5, min_lr=1e-6, verbose=0)\n",
    "history = model.fit(X, \n",
    "                    y, \n",
    "                    validation_data=(X_test, y_test), \n",
    "                    epochs=50, \n",
    "                    batch_size=32, \n",
    "                    callbacks=[es, reduce_lr])\n"
   ]
  },
  {
   "cell_type": "code",
   "execution_count": 68,
   "id": "a43ddca2",
   "metadata": {},
   "outputs": [
    {
     "data": {
      "image/png": "[encoded data removed]",
      "text/plain": [
       "<Figure size 640x480 with 1 Axes>"
      ]
     },
     "metadata": {},
     "output_type": "display_data"
    },
    {
     "data": {
      "image/png": "[encoded data removed]",
      "text/plain": [
       "<Figure size 640x480 with 1 Axes>"
      ]
     },
     "metadata": {},
     "output_type": "display_data"
    }
   ],
   "source": [
    "plot_val_acc_loss(history)"
   ]
  },
  {
   "cell_type": "code",
   "execution_count": 70,
   "id": "e00f1301",
   "metadata": {},
   "outputs": [],
   "source": [
    "def create_model_v2(num_filters, kernel_size, pool_size, dense_units, learning_rate, l2_weight):\n",
    "    model = Sequential()\n",
    "    model.add(Conv1D(num_filters, kernel_size, activation='relu', input_shape=(X.shape[1], 1), kernel_regularizer=tf.keras.regularizers.l2(l2_weight)))\n",
    "    model.add(MaxPooling1D(pool_size=pool_size))\n",
    "    model.add(Conv1D(num_filters*2, kernel_size, activation='relu', kernel_regularizer=tf.keras.regularizers.l2(l2_weight)))\n",
    "    model.add(MaxPooling1D(pool_size=pool_size))\n",
    "    model.add(Dropout(rate=0.5))\n",
    "    model.add(Flatten())\n",
    "    model.add(Dense(dense_units*2, activation='relu', kernel_regularizer=tf.keras.regularizers.l2(l2_weight)))\n",
    "    model.add(Dense(dense_units, activation='relu', kernel_regularizer=tf.keras.regularizers.l2(l2_weight)))\n",
    "    model.add(Dense(1, activation='sigmoid'))\n",
    "    optimizer = Adam(learning_rate=learning_rate)\n",
    "    model.compile(loss='binary_crossentropy', optimizer=optimizer, metrics=['accuracy'])\n",
    "    return model"
   ]
  },
  {
   "cell_type": "code",
   "execution_count": 71,
   "id": "cd3f1fc7",
   "metadata": {},
   "outputs": [
    {
     "name": "stdout",
     "output_type": "stream",
     "text": [
      "Model: \"sequential_12\"\n",
      "_________________________________________________________________\n",
      " Layer (type)                Output Shape              Param #   \n",
      "=================================================================\n",
      " conv1d_10 (Conv1D)          (None, 21, 128)           896       \n",
      "                                                                 \n",
      " max_pooling1d_10 (MaxPoolin  (None, 10, 128)          0         \n",
      " g1D)                                                            \n",
      "                                                                 \n",
      " conv1d_11 (Conv1D)          (None, 5, 256)            196864    \n",
      "                                                                 \n",
      " max_pooling1d_11 (MaxPoolin  (None, 2, 256)           0         \n",
      " g1D)                                                            \n",
      "                                                                 \n",
      " dropout_1 (Dropout)         (None, 2, 256)            0         \n",
      "                                                                 \n",
      " flatten_10 (Flatten)        (None, 512)               0         \n",
      "                                                                 \n",
      " dense_20 (Dense)            (None, 96)                49248     \n",
      "                                                                 \n",
      " dense_21 (Dense)            (None, 48)                4656      \n",
      "                                                                 \n",
      " dense_22 (Dense)            (None, 1)                 49        \n",
      "                                                                 \n",
      "=================================================================\n",
      "Total params: 251,713\n",
      "Trainable params: 251,713\n",
      "Non-trainable params: 0\n",
      "_________________________________________________________________\n"
     ]
    }
   ],
   "source": [
    "model2 = create_model_v2(128,6,2,48,0.0004284050344599286,1.1769711585511664e-05)\n",
    "\n",
    "model2.summary()"
   ]
  },
  {
   "cell_type": "code",
   "execution_count": 74,
   "id": "935e9d52",
   "metadata": {},
   "outputs": [
    {
     "name": "stdout",
     "output_type": "stream",
     "text": [
      "Epoch 1/100\n",
      "3125/3125 [==============================] - 24s 8ms/step - loss: 0.3545 - accuracy: 0.8363 - val_loss: 0.3520 - val_accuracy: 0.8372 - lr: 2.1420e-04\n",
      "Epoch 2/100\n",
      "3125/3125 [==============================] - 23s 7ms/step - loss: 0.3543 - accuracy: 0.8363 - val_loss: 0.3511 - val_accuracy: 0.8371 - lr: 2.1420e-04\n",
      "Epoch 3/100\n",
      "3125/3125 [==============================] - 24s 8ms/step - loss: 0.3546 - accuracy: 0.8364 - val_loss: 0.3511 - val_accuracy: 0.8367 - lr: 2.1420e-04\n",
      "Epoch 4/100\n",
      "3125/3125 [==============================] - 23s 7ms/step - loss: 0.3545 - accuracy: 0.8364 - val_loss: 0.3507 - val_accuracy: 0.8377 - lr: 2.1420e-04\n",
      "Epoch 5/100\n",
      "3125/3125 [==============================] - 22s 7ms/step - loss: 0.3537 - accuracy: 0.8369 - val_loss: 0.3519 - val_accuracy: 0.8367 - lr: 2.1420e-04\n",
      "Epoch 6/100\n",
      "3125/3125 [==============================] - 25s 8ms/step - loss: 0.3536 - accuracy: 0.8367 - val_loss: 0.3504 - val_accuracy: 0.8374 - lr: 2.1420e-04\n",
      "Epoch 7/100\n",
      "3125/3125 [==============================] - 22s 7ms/step - loss: 0.3540 - accuracy: 0.8371 - val_loss: 0.3506 - val_accuracy: 0.8367 - lr: 2.1420e-04\n",
      "Epoch 8/100\n",
      "3125/3125 [==============================] - 23s 7ms/step - loss: 0.3537 - accuracy: 0.8370 - val_loss: 0.3492 - val_accuracy: 0.8371 - lr: 2.1420e-04\n",
      "Epoch 9/100\n",
      "3125/3125 [==============================] - 22s 7ms/step - loss: 0.3529 - accuracy: 0.8365 - val_loss: 0.3496 - val_accuracy: 0.8375 - lr: 2.1420e-04\n",
      "Epoch 10/100\n",
      "3125/3125 [==============================] - 23s 7ms/step - loss: 0.3536 - accuracy: 0.8376 - val_loss: 0.3491 - val_accuracy: 0.8363 - lr: 2.1420e-04\n",
      "Epoch 11/100\n",
      "3125/3125 [==============================] - 25s 8ms/step - loss: 0.3532 - accuracy: 0.8363 - val_loss: 0.3491 - val_accuracy: 0.8375 - lr: 2.1420e-04\n",
      "Epoch 12/100\n",
      "3125/3125 [==============================] - 22s 7ms/step - loss: 0.3534 - accuracy: 0.8368 - val_loss: 0.3496 - val_accuracy: 0.8371 - lr: 2.1420e-04\n",
      "Epoch 13/100\n",
      "3125/3125 [==============================] - 22s 7ms/step - loss: 0.3528 - accuracy: 0.8375 - val_loss: 0.3502 - val_accuracy: 0.8371 - lr: 2.1420e-04\n",
      "Epoch 14/100\n",
      "3125/3125 [==============================] - 22s 7ms/step - loss: 0.3508 - accuracy: 0.8377 - val_loss: 0.3464 - val_accuracy: 0.8389 - lr: 1.0710e-04\n",
      "Epoch 15/100\n",
      "3125/3125 [==============================] - 22s 7ms/step - loss: 0.3502 - accuracy: 0.8379 - val_loss: 0.3460 - val_accuracy: 0.8386 - lr: 1.0710e-04\n",
      "Epoch 16/100\n",
      "3125/3125 [==============================] - 23s 7ms/step - loss: 0.3499 - accuracy: 0.8387 - val_loss: 0.3460 - val_accuracy: 0.8383 - lr: 1.0710e-04\n",
      "Epoch 17/100\n",
      "3125/3125 [==============================] - 22s 7ms/step - loss: 0.3491 - accuracy: 0.8382 - val_loss: 0.3453 - val_accuracy: 0.8396 - lr: 1.0710e-04\n",
      "Epoch 18/100\n",
      "3125/3125 [==============================] - 22s 7ms/step - loss: 0.3494 - accuracy: 0.8379 - val_loss: 0.3449 - val_accuracy: 0.8395 - lr: 1.0710e-04\n",
      "Epoch 19/100\n",
      "3125/3125 [==============================] - 23s 7ms/step - loss: 0.3486 - accuracy: 0.8385 - val_loss: 0.3450 - val_accuracy: 0.8393 - lr: 1.0710e-04\n",
      "Epoch 20/100\n",
      "3125/3125 [==============================] - 22s 7ms/step - loss: 0.3486 - accuracy: 0.8392 - val_loss: 0.3444 - val_accuracy: 0.8403 - lr: 1.0710e-04\n",
      "Epoch 21/100\n",
      "3125/3125 [==============================] - 22s 7ms/step - loss: 0.3484 - accuracy: 0.8385 - val_loss: 0.3434 - val_accuracy: 0.8401 - lr: 1.0710e-04\n",
      "Epoch 22/100\n",
      "3125/3125 [==============================] - 23s 7ms/step - loss: 0.3482 - accuracy: 0.8390 - val_loss: 0.3445 - val_accuracy: 0.8399 - lr: 1.0710e-04\n",
      "Epoch 23/100\n",
      "3125/3125 [==============================] - 22s 7ms/step - loss: 0.3483 - accuracy: 0.8389 - val_loss: 0.3436 - val_accuracy: 0.8396 - lr: 1.0710e-04\n",
      "Epoch 24/100\n",
      "3125/3125 [==============================] - 22s 7ms/step - loss: 0.3480 - accuracy: 0.8393 - val_loss: 0.3428 - val_accuracy: 0.8400 - lr: 1.0710e-04\n",
      "Epoch 25/100\n",
      "3125/3125 [==============================] - 22s 7ms/step - loss: 0.3476 - accuracy: 0.8391 - val_loss: 0.3423 - val_accuracy: 0.8403 - lr: 1.0710e-04\n",
      "Epoch 26/100\n",
      "3125/3125 [==============================] - 22s 7ms/step - loss: 0.3472 - accuracy: 0.8392 - val_loss: 0.3423 - val_accuracy: 0.8393 - lr: 1.0710e-04\n",
      "Epoch 27/100\n",
      "3125/3125 [==============================] - 22s 7ms/step - loss: 0.3469 - accuracy: 0.8397 - val_loss: 0.3425 - val_accuracy: 0.8399 - lr: 1.0710e-04\n",
      "Epoch 28/100\n",
      "3125/3125 [==============================] - 22s 7ms/step - loss: 0.3474 - accuracy: 0.8393 - val_loss: 0.3415 - val_accuracy: 0.8400 - lr: 1.0710e-04\n",
      "Epoch 29/100\n",
      "3125/3125 [==============================] - 23s 7ms/step - loss: 0.3467 - accuracy: 0.8397 - val_loss: 0.3417 - val_accuracy: 0.8401 - lr: 1.0710e-04\n",
      "Epoch 30/100\n",
      "3125/3125 [==============================] - 23s 7ms/step - loss: 0.3472 - accuracy: 0.8396 - val_loss: 0.3414 - val_accuracy: 0.8411 - lr: 1.0710e-04\n",
      "Epoch 31/100\n",
      "3125/3125 [==============================] - 23s 7ms/step - loss: 0.3472 - accuracy: 0.8398 - val_loss: 0.3409 - val_accuracy: 0.8406 - lr: 1.0710e-04\n",
      "Epoch 32/100\n",
      "3125/3125 [==============================] - 22s 7ms/step - loss: 0.3465 - accuracy: 0.8393 - val_loss: 0.3407 - val_accuracy: 0.8417 - lr: 1.0710e-04\n",
      "Epoch 33/100\n",
      "3125/3125 [==============================] - 22s 7ms/step - loss: 0.3464 - accuracy: 0.8394 - val_loss: 0.3403 - val_accuracy: 0.8405 - lr: 1.0710e-04\n",
      "Epoch 34/100\n",
      "3125/3125 [==============================] - 22s 7ms/step - loss: 0.3456 - accuracy: 0.8396 - val_loss: 0.3407 - val_accuracy: 0.8413 - lr: 1.0710e-04\n",
      "Epoch 35/100\n",
      "3125/3125 [==============================] - 22s 7ms/step - loss: 0.3460 - accuracy: 0.8404 - val_loss: 0.3406 - val_accuracy: 0.8414 - lr: 1.0710e-04\n",
      "Epoch 36/100\n",
      "3125/3125 [==============================] - 23s 7ms/step - loss: 0.3456 - accuracy: 0.8401 - val_loss: 0.3408 - val_accuracy: 0.8419 - lr: 1.0710e-04\n",
      "Epoch 37/100\n",
      "3125/3125 [==============================] - 22s 7ms/step - loss: 0.3451 - accuracy: 0.8401 - val_loss: 0.3402 - val_accuracy: 0.8418 - lr: 1.0710e-04\n",
      "Epoch 38/100\n",
      "3125/3125 [==============================] - 23s 7ms/step - loss: 0.3451 - accuracy: 0.8399 - val_loss: 0.3397 - val_accuracy: 0.8417 - lr: 1.0710e-04\n",
      "Epoch 39/100\n",
      "3125/3125 [==============================] - 22s 7ms/step - loss: 0.3451 - accuracy: 0.8405 - val_loss: 0.3390 - val_accuracy: 0.8411 - lr: 1.0710e-04\n",
      "Epoch 40/100\n",
      "3125/3125 [==============================] - 23s 7ms/step - loss: 0.3441 - accuracy: 0.8410 - val_loss: 0.3380 - val_accuracy: 0.8415 - lr: 1.0710e-04\n",
      "Epoch 41/100\n",
      "3125/3125 [==============================] - 22s 7ms/step - loss: 0.3450 - accuracy: 0.8406 - val_loss: 0.3388 - val_accuracy: 0.8409 - lr: 1.0710e-04\n",
      "Epoch 42/100\n",
      "3125/3125 [==============================] - 22s 7ms/step - loss: 0.3447 - accuracy: 0.8413 - val_loss: 0.3386 - val_accuracy: 0.8422 - lr: 1.0710e-04\n",
      "Epoch 43/100\n",
      "3125/3125 [==============================] - 22s 7ms/step - loss: 0.3443 - accuracy: 0.8408 - val_loss: 0.3387 - val_accuracy: 0.8429 - lr: 1.0710e-04\n",
      "Epoch 44/100\n",
      "3125/3125 [==============================] - 22s 7ms/step - loss: 0.3438 - accuracy: 0.8414 - val_loss: 0.3380 - val_accuracy: 0.8431 - lr: 1.0710e-04\n",
      "Epoch 45/100\n",
      "3125/3125 [==============================] - 22s 7ms/step - loss: 0.3444 - accuracy: 0.8404 - val_loss: 0.3368 - val_accuracy: 0.8426 - lr: 1.0710e-04\n",
      "Epoch 46/100\n",
      "3125/3125 [==============================] - 22s 7ms/step - loss: 0.3435 - accuracy: 0.8413 - val_loss: 0.3376 - val_accuracy: 0.8438 - lr: 1.0710e-04\n",
      "Epoch 47/100\n",
      "3125/3125 [==============================] - 22s 7ms/step - loss: 0.3438 - accuracy: 0.8404 - val_loss: 0.3369 - val_accuracy: 0.8433 - lr: 1.0710e-04\n",
      "Epoch 48/100\n",
      "3125/3125 [==============================] - 22s 7ms/step - loss: 0.3439 - accuracy: 0.8411 - val_loss: 0.3365 - val_accuracy: 0.8429 - lr: 1.0710e-04\n",
      "Epoch 49/100\n",
      "3125/3125 [==============================] - 22s 7ms/step - loss: 0.3435 - accuracy: 0.8411 - val_loss: 0.3361 - val_accuracy: 0.8438 - lr: 1.0710e-04\n",
      "Epoch 50/100\n",
      "3125/3125 [==============================] - 23s 7ms/step - loss: 0.3438 - accuracy: 0.8411 - val_loss: 0.3363 - val_accuracy: 0.8428 - lr: 1.0710e-04\n",
      "Epoch 51/100\n"
     ]
    },
    {
     "name": "stdout",
     "output_type": "stream",
     "text": [
      "3125/3125 [==============================] - 23s 7ms/step - loss: 0.3427 - accuracy: 0.8410 - val_loss: 0.3363 - val_accuracy: 0.8450 - lr: 1.0710e-04\n",
      "Epoch 52/100\n",
      "3125/3125 [==============================] - 23s 7ms/step - loss: 0.3426 - accuracy: 0.8418 - val_loss: 0.3354 - val_accuracy: 0.8443 - lr: 1.0710e-04\n",
      "Epoch 53/100\n",
      "3125/3125 [==============================] - 22s 7ms/step - loss: 0.3432 - accuracy: 0.8412 - val_loss: 0.3356 - val_accuracy: 0.8429 - lr: 1.0710e-04\n",
      "Epoch 54/100\n",
      "3125/3125 [==============================] - 23s 7ms/step - loss: 0.3426 - accuracy: 0.8417 - val_loss: 0.3361 - val_accuracy: 0.8447 - lr: 1.0710e-04\n",
      "Epoch 55/100\n",
      "3125/3125 [==============================] - 22s 7ms/step - loss: 0.3427 - accuracy: 0.8419 - val_loss: 0.3349 - val_accuracy: 0.8443 - lr: 1.0710e-04\n",
      "Epoch 56/100\n",
      "3125/3125 [==============================] - 23s 7ms/step - loss: 0.3428 - accuracy: 0.8425 - val_loss: 0.3344 - val_accuracy: 0.8449 - lr: 1.0710e-04\n",
      "Epoch 57/100\n",
      "3125/3125 [==============================] - 23s 7ms/step - loss: 0.3419 - accuracy: 0.8419 - val_loss: 0.3344 - val_accuracy: 0.8438 - lr: 1.0710e-04\n",
      "Epoch 58/100\n",
      "3125/3125 [==============================] - 23s 7ms/step - loss: 0.3426 - accuracy: 0.8413 - val_loss: 0.3346 - val_accuracy: 0.8437 - lr: 1.0710e-04\n",
      "Epoch 59/100\n",
      "1334/3125 [===========>..................] - ETA: 11s - loss: 0.3434 - accuracy: 0.8411"
     ]
    }
   ],
   "source": [
    "es = EarlyStopping(monitor='val_loss', mode='min', verbose=0, patience=10)\n",
    "reduce_lr = ReduceLROnPlateau(monitor='val_loss', factor=0.5, patience=5, min_lr=1e-6, verbose=0)\n",
    "history2 = model2.fit(X, \n",
    "                    y, \n",
    "                    validation_data=(X_val, y_val), \n",
    "                    epochs=100, \n",
    "                    batch_size=32, \n",
    "                    callbacks=[es, reduce_lr])"
   ]
  },
  {
   "cell_type": "code",
   "execution_count": 73,
   "id": "f08ded59",
   "metadata": {},
   "outputs": [
    {
     "data": {
      "image/png": "[encoded data removed]",
      "text/plain": [
       "<Figure size 640x480 with 1 Axes>"
      ]
     },
     "metadata": {},
     "output_type": "display_data"
    },
    {
     "data": {
      "image/png": "[encoded data removed]",
      "text/plain": [
       "<Figure size 640x480 with 1 Axes>"
      ]
     },
     "metadata": {},
     "output_type": "display_data"
    }
   ],
   "source": [
    "plot_val_acc_loss(history2)"
   ]
  },
  {
   "cell_type": "code",
   "execution_count": 40,
   "id": "d10640f8",
   "metadata": {},
   "outputs": [
    {
     "data": {
      "text/html": [
       "<style>#sk-container-id-1 {color: black;background-color: white;}#sk-container-id-1 pre{padding: 0;}#sk-container-id-1 div.sk-toggleable {background-color: white;}#sk-container-id-1 label.sk-toggleable__label {cursor: pointer;display: block;width: 100%;margin-bottom: 0;padding: 0.3em;box-sizing: border-box;text-align: center;}#sk-container-id-1 label.sk-toggleable__label-arrow:before {content: \"▸\";float: left;margin-right: 0.25em;color: #696969;}#sk-container-id-1 label.sk-toggleable__label-arrow:hover:before {color: black;}#sk-container-id-1 div.sk-estimator:hover label.sk-toggleable__label-arrow:before {color: black;}#sk-container-id-1 div.sk-toggleable__content {max-height: 0;max-width: 0;overflow: hidden;text-align: left;background-color: #f0f8ff;}#sk-container-id-1 div.sk-toggleable__content pre {margin: 0.2em;color: black;border-radius: 0.25em;background-color: #f0f8ff;}#sk-container-id-1 input.sk-toggleable__control:checked~div.sk-toggleable__content {max-height: 200px;max-width: 100%;overflow: auto;}#sk-container-id-1 input.sk-toggleable__control:checked~label.sk-toggleable__label-arrow:before {content: \"▾\";}#sk-container-id-1 div.sk-estimator input.sk-toggleable__control:checked~label.sk-toggleable__label {background-color: #d4ebff;}#sk-container-id-1 div.sk-label input.sk-toggleable__control:checked~label.sk-toggleable__label {background-color: #d4ebff;}#sk-container-id-1 input.sk-hidden--visually {border: 0;clip: rect(1px 1px 1px 1px);clip: rect(1px, 1px, 1px, 1px);height: 1px;margin: -1px;overflow: hidden;padding: 0;position: absolute;width: 1px;}#sk-container-id-1 div.sk-estimator {font-family: monospace;background-color: #f0f8ff;border: 1px dotted black;border-radius: 0.25em;box-sizing: border-box;margin-bottom: 0.5em;}#sk-container-id-1 div.sk-estimator:hover {background-color: #d4ebff;}#sk-container-id-1 div.sk-parallel-item::after {content: \"\";width: 100%;border-bottom: 1px solid gray;flex-grow: 1;}#sk-container-id-1 div.sk-label:hover label.sk-toggleable__label {background-color: #d4ebff;}#sk-container-id-1 div.sk-serial::before {content: \"\";position: absolute;border-left: 1px solid gray;box-sizing: border-box;top: 0;bottom: 0;left: 50%;z-index: 0;}#sk-container-id-1 div.sk-serial {display: flex;flex-direction: column;align-items: center;background-color: white;padding-right: 0.2em;padding-left: 0.2em;position: relative;}#sk-container-id-1 div.sk-item {position: relative;z-index: 1;}#sk-container-id-1 div.sk-parallel {display: flex;align-items: stretch;justify-content: center;background-color: white;position: relative;}#sk-container-id-1 div.sk-item::before, #sk-container-id-1 div.sk-parallel-item::before {content: \"\";position: absolute;border-left: 1px solid gray;box-sizing: border-box;top: 0;bottom: 0;left: 50%;z-index: -1;}#sk-container-id-1 div.sk-parallel-item {display: flex;flex-direction: column;z-index: 1;position: relative;background-color: white;}#sk-container-id-1 div.sk-parallel-item:first-child::after {align-self: flex-end;width: 50%;}#sk-container-id-1 div.sk-parallel-item:last-child::after {align-self: flex-start;width: 50%;}#sk-container-id-1 div.sk-parallel-item:only-child::after {width: 0;}#sk-container-id-1 div.sk-dashed-wrapped {border: 1px dashed gray;margin: 0 0.4em 0.5em 0.4em;box-sizing: border-box;padding-bottom: 0.4em;background-color: white;}#sk-container-id-1 div.sk-label label {font-family: monospace;font-weight: bold;display: inline-block;line-height: 1.2em;}#sk-container-id-1 div.sk-label-container {text-align: center;}#sk-container-id-1 div.sk-container {/* jupyter's `normalize.less` sets `[hidden] { display: none; }` but bootstrap.min.css set `[hidden] { display: none !important; }` so we also need the `!important` here to be able to override the default hidden behavior on the sphinx rendered scikit-learn.org. See: https://github.com/scikit-learn/scikit-learn/issues/21755 */display: inline-block !important;position: relative;}#sk-container-id-1 div.sk-text-repr-fallback {display: none;}</style><div id=\"sk-container-id-1\" class=\"sk-top-container\"><div class=\"sk-text-repr-fallback\"><pre>RandomForestClassifier(random_state=42)</pre><b>In a Jupyter environment, please rerun this cell to show the HTML representation or trust the notebook. <br />On GitHub, the HTML representation is unable to render, please try loading this page with nbviewer.org.</b></div><div class=\"sk-container\" hidden><div class=\"sk-item\"><div class=\"sk-estimator sk-toggleable\"><input class=\"sk-toggleable__control sk-hidden--visually\" id=\"sk-estimator-id-1\" type=\"checkbox\" checked><label for=\"sk-estimator-id-1\" class=\"sk-toggleable__label sk-toggleable__label-arrow\">RandomForestClassifier</label><div class=\"sk-toggleable__content\"><pre>RandomForestClassifier(random_state=42)</pre></div></div></div></div></div>"
      ],
      "text/plain": [
       "RandomForestClassifier(random_state=42)"
      ]
     },
     "execution_count": 40,
     "metadata": {},
     "output_type": "execute_result"
    }
   ],
   "source": [
    "rf = RandomForestClassifier(random_state=42)\n",
    "rf.fit(X, y)"
   ]
  },
  {
   "cell_type": "code",
   "execution_count": 46,
   "id": "17d7702d",
   "metadata": {},
   "outputs": [
    {
     "name": "stderr",
     "output_type": "stream",
     "text": [
      "C:\\Users\\Apiseg\\anaconda3\\envs\\churn\\lib\\site-packages\\sklearn\\base.py:432: UserWarning: X has feature names, but RandomForestClassifier was fitted without feature names\n",
      "  warnings.warn(\n"
     ]
    }
   ],
   "source": [
    "# predict probabilities for the test set\n",
    "probs = rf.predict_proba(X_test)\n",
    "\n",
    "# set a higher threshold for the positive class\n",
    "threshold = 0.2\n",
    "y_pred = (probs[:,1] > threshold).astype(int)"
   ]
  },
  {
   "cell_type": "code",
   "execution_count": 47,
   "id": "c1646af5",
   "metadata": {},
   "outputs": [
    {
     "name": "stdout",
     "output_type": "stream",
     "text": [
      "              precision    recall  f1-score   support\n",
      "\n",
      "           0       0.87      0.72      0.79      2946\n",
      "           1       0.48      0.71      0.58      1086\n",
      "\n",
      "    accuracy                           0.72      4032\n",
      "   macro avg       0.68      0.72      0.68      4032\n",
      "weighted avg       0.77      0.72      0.73      4032\n",
      "\n",
      "f1_score_value:  0.5755662829558114\n",
      "precision_value:  0.48226509023024267\n",
      "recall_value:  0.7136279926335175\n"
     ]
    }
   ],
   "source": [
    "# y_pred = rf.predict(X_test)\n",
    "print(classification_report(y_test,y_pred))\n",
    "print(\"f1_score_value: \", f1_score(y_test, y_pred))\n",
    "print(\"precision_value: \", precision_score(y_test, y_pred))\n",
    "print(\"recall_value: \", recall_score(y_test, y_pred))\n"
   ]
  },
  {
   "cell_type": "code",
   "execution_count": 13,
   "id": "089a4827",
   "metadata": {},
   "outputs": [
    {
     "name": "stdout",
     "output_type": "stream",
     "text": [
      "              precision    recall  f1-score   support\n",
      "\n",
      "           0       0.86      0.78      0.82      2946\n",
      "           1       0.53      0.65      0.58      1086\n",
      "\n",
      "    accuracy                           0.75      4032\n",
      "   macro avg       0.69      0.72      0.70      4032\n",
      "weighted avg       0.77      0.75      0.76      4032\n",
      "\n"
     ]
    }
   ],
   "source": [
    "gbm = xgb.XGBClassifier().fit(X,y)\n",
    "y_pred = gbm.predict(X_test)\n",
    "print(classification_report(y_test,y_pred))"
   ]
  },
  {
   "cell_type": "markdown",
   "id": "cd7d83f8",
   "metadata": {},
   "source": [
    "# Hyperparameter Tuning"
   ]
  },
  {
   "cell_type": "markdown",
   "id": "1b2a24fb",
   "metadata": {},
   "source": [
    "# RF"
   ]
  },
  {
   "cell_type": "code",
   "execution_count": 10,
   "id": "17d2ce1b",
   "metadata": {},
   "outputs": [
    {
     "name": "stderr",
     "output_type": "stream",
     "text": [
      "\u001b[32m[I 2023-05-02 10:56:56,754]\u001b[0m A new study created in memory with name: no-name-50e008bc-5324-4964-acce-82b83a1c483b\u001b[0m\n",
      "\u001b[32m[I 2023-05-02 10:57:08,377]\u001b[0m Trial 0 finished with value: 0.8339527680991097 and parameters: {'n_estimators': 200, 'criterion': 'gini', 'max_depth': 15, 'min_samples_split': 8, 'min_samples_leaf': 2, 'max_features': 'log2'}. Best is trial 0 with value: 0.8339527680991097.\u001b[0m\n",
      "C:\\Users\\Apiseg\\anaconda3\\envs\\churn\\lib\\site-packages\\sklearn\\ensemble\\_forest.py:424: FutureWarning: `max_features='auto'` has been deprecated in 1.1 and will be removed in 1.3. To keep the past behaviour, explicitly set `max_features='sqrt'` or remove this parameter as it is also the default value for RandomForestClassifiers and ExtraTreesClassifiers.\n",
      "  warn(\n",
      "C:\\Users\\Apiseg\\anaconda3\\envs\\churn\\lib\\site-packages\\sklearn\\ensemble\\_forest.py:424: FutureWarning: `max_features='auto'` has been deprecated in 1.1 and will be removed in 1.3. To keep the past behaviour, explicitly set `max_features='sqrt'` or remove this parameter as it is also the default value for RandomForestClassifiers and ExtraTreesClassifiers.\n",
      "  warn(\n",
      "C:\\Users\\Apiseg\\anaconda3\\envs\\churn\\lib\\site-packages\\sklearn\\ensemble\\_forest.py:424: FutureWarning: `max_features='auto'` has been deprecated in 1.1 and will be removed in 1.3. To keep the past behaviour, explicitly set `max_features='sqrt'` or remove this parameter as it is also the default value for RandomForestClassifiers and ExtraTreesClassifiers.\n",
      "  warn(\n",
      "C:\\Users\\Apiseg\\anaconda3\\envs\\churn\\lib\\site-packages\\sklearn\\ensemble\\_forest.py:424: FutureWarning: `max_features='auto'` has been deprecated in 1.1 and will be removed in 1.3. To keep the past behaviour, explicitly set `max_features='sqrt'` or remove this parameter as it is also the default value for RandomForestClassifiers and ExtraTreesClassifiers.\n",
      "  warn(\n",
      "C:\\Users\\Apiseg\\anaconda3\\envs\\churn\\lib\\site-packages\\sklearn\\ensemble\\_forest.py:424: FutureWarning: `max_features='auto'` has been deprecated in 1.1 and will be removed in 1.3. To keep the past behaviour, explicitly set `max_features='sqrt'` or remove this parameter as it is also the default value for RandomForestClassifiers and ExtraTreesClassifiers.\n",
      "  warn(\n",
      "C:\\Users\\Apiseg\\anaconda3\\envs\\churn\\lib\\site-packages\\sklearn\\ensemble\\_forest.py:424: FutureWarning: `max_features='auto'` has been deprecated in 1.1 and will be removed in 1.3. To keep the past behaviour, explicitly set `max_features='sqrt'` or remove this parameter as it is also the default value for RandomForestClassifiers and ExtraTreesClassifiers.\n",
      "  warn(\n",
      "C:\\Users\\Apiseg\\anaconda3\\envs\\churn\\lib\\site-packages\\sklearn\\ensemble\\_forest.py:424: FutureWarning: `max_features='auto'` has been deprecated in 1.1 and will be removed in 1.3. To keep the past behaviour, explicitly set `max_features='sqrt'` or remove this parameter as it is also the default value for RandomForestClassifiers and ExtraTreesClassifiers.\n",
      "  warn(\n",
      "C:\\Users\\Apiseg\\anaconda3\\envs\\churn\\lib\\site-packages\\sklearn\\ensemble\\_forest.py:424: FutureWarning: `max_features='auto'` has been deprecated in 1.1 and will be removed in 1.3. To keep the past behaviour, explicitly set `max_features='sqrt'` or remove this parameter as it is also the default value for RandomForestClassifiers and ExtraTreesClassifiers.\n",
      "  warn(\n",
      "C:\\Users\\Apiseg\\anaconda3\\envs\\churn\\lib\\site-packages\\sklearn\\ensemble\\_forest.py:424: FutureWarning: `max_features='auto'` has been deprecated in 1.1 and will be removed in 1.3. To keep the past behaviour, explicitly set `max_features='sqrt'` or remove this parameter as it is also the default value for RandomForestClassifiers and ExtraTreesClassifiers.\n",
      "  warn(\n",
      "C:\\Users\\Apiseg\\anaconda3\\envs\\churn\\lib\\site-packages\\sklearn\\ensemble\\_forest.py:424: FutureWarning: `max_features='auto'` has been deprecated in 1.1 and will be removed in 1.3. To keep the past behaviour, explicitly set `max_features='sqrt'` or remove this parameter as it is also the default value for RandomForestClassifiers and ExtraTreesClassifiers.\n",
      "  warn(\n",
      "\u001b[32m[I 2023-05-02 10:58:18,771]\u001b[0m Trial 1 finished with value: 0.8332171893147503 and parameters: {'n_estimators': 900, 'criterion': 'entropy', 'max_depth': 40, 'min_samples_split': 20, 'min_samples_leaf': 6, 'max_features': 'auto'}. Best is trial 0 with value: 0.8339527680991097.\u001b[0m\n",
      "\u001b[32m[I 2023-05-02 10:58:40,209]\u001b[0m Trial 2 finished with value: 0.8327913279132793 and parameters: {'n_estimators': 300, 'criterion': 'gini', 'max_depth': 45, 'min_samples_split': 6, 'min_samples_leaf': 6, 'max_features': 'sqrt'}. Best is trial 0 with value: 0.8339527680991097.\u001b[0m\n",
      "\u001b[32m[I 2023-05-02 10:58:44,397]\u001b[0m Trial 3 finished with value: 0.8422764227642275 and parameters: {'n_estimators': 100, 'criterion': 'entropy', 'max_depth': 5, 'min_samples_split': 18, 'min_samples_leaf': 5, 'max_features': 'log2'}. Best is trial 3 with value: 0.8422764227642275.\u001b[0m\n",
      "\u001b[32m[I 2023-05-02 10:59:54,019]\u001b[0m Trial 4 finished with value: 0.8328687572590011 and parameters: {'n_estimators': 900, 'criterion': 'entropy', 'max_depth': 30, 'min_samples_split': 20, 'min_samples_leaf': 4, 'max_features': 'log2'}. Best is trial 3 with value: 0.8422764227642275.\u001b[0m\n",
      "\u001b[32m[I 2023-05-02 11:00:05,050]\u001b[0m Trial 5 finished with value: 0.8390631049167634 and parameters: {'n_estimators': 200, 'criterion': 'gini', 'max_depth': 10, 'min_samples_split': 4, 'min_samples_leaf': 5, 'max_features': 'log2'}. Best is trial 3 with value: 0.8422764227642275.\u001b[0m\n",
      "\u001b[32m[I 2023-05-02 11:00:39,482]\u001b[0m Trial 6 finished with value: 0.8328687572590011 and parameters: {'n_estimators': 500, 'criterion': 'entropy', 'max_depth': 40, 'min_samples_split': 20, 'min_samples_leaf': 10, 'max_features': 'log2'}. Best is trial 3 with value: 0.8422764227642275.\u001b[0m\n",
      "\u001b[32m[I 2023-05-02 11:01:51,219]\u001b[0m Trial 7 finished with value: 0.8336430507162215 and parameters: {'n_estimators': 900, 'criterion': 'entropy', 'max_depth': 45, 'min_samples_split': 14, 'min_samples_leaf': 9, 'max_features': 'sqrt'}. Best is trial 3 with value: 0.8422764227642275.\u001b[0m\n",
      "C:\\Users\\Apiseg\\anaconda3\\envs\\churn\\lib\\site-packages\\sklearn\\ensemble\\_forest.py:424: FutureWarning: `max_features='auto'` has been deprecated in 1.1 and will be removed in 1.3. To keep the past behaviour, explicitly set `max_features='sqrt'` or remove this parameter as it is also the default value for RandomForestClassifiers and ExtraTreesClassifiers.\n",
      "  warn(\n",
      "C:\\Users\\Apiseg\\anaconda3\\envs\\churn\\lib\\site-packages\\sklearn\\ensemble\\_forest.py:424: FutureWarning: `max_features='auto'` has been deprecated in 1.1 and will be removed in 1.3. To keep the past behaviour, explicitly set `max_features='sqrt'` or remove this parameter as it is also the default value for RandomForestClassifiers and ExtraTreesClassifiers.\n",
      "  warn(\n",
      "C:\\Users\\Apiseg\\anaconda3\\envs\\churn\\lib\\site-packages\\sklearn\\ensemble\\_forest.py:424: FutureWarning: `max_features='auto'` has been deprecated in 1.1 and will be removed in 1.3. To keep the past behaviour, explicitly set `max_features='sqrt'` or remove this parameter as it is also the default value for RandomForestClassifiers and ExtraTreesClassifiers.\n",
      "  warn(\n",
      "C:\\Users\\Apiseg\\anaconda3\\envs\\churn\\lib\\site-packages\\sklearn\\ensemble\\_forest.py:424: FutureWarning: `max_features='auto'` has been deprecated in 1.1 and will be removed in 1.3. To keep the past behaviour, explicitly set `max_features='sqrt'` or remove this parameter as it is also the default value for RandomForestClassifiers and ExtraTreesClassifiers.\n",
      "  warn(\n",
      "C:\\Users\\Apiseg\\anaconda3\\envs\\churn\\lib\\site-packages\\sklearn\\ensemble\\_forest.py:424: FutureWarning: `max_features='auto'` has been deprecated in 1.1 and will be removed in 1.3. To keep the past behaviour, explicitly set `max_features='sqrt'` or remove this parameter as it is also the default value for RandomForestClassifiers and ExtraTreesClassifiers.\n",
      "  warn(\n",
      "C:\\Users\\Apiseg\\anaconda3\\envs\\churn\\lib\\site-packages\\sklearn\\ensemble\\_forest.py:424: FutureWarning: `max_features='auto'` has been deprecated in 1.1 and will be removed in 1.3. To keep the past behaviour, explicitly set `max_features='sqrt'` or remove this parameter as it is also the default value for RandomForestClassifiers and ExtraTreesClassifiers.\n",
      "  warn(\n"
     ]
    },
    {
     "name": "stderr",
     "output_type": "stream",
     "text": [
      "C:\\Users\\Apiseg\\anaconda3\\envs\\churn\\lib\\site-packages\\sklearn\\ensemble\\_forest.py:424: FutureWarning: `max_features='auto'` has been deprecated in 1.1 and will be removed in 1.3. To keep the past behaviour, explicitly set `max_features='sqrt'` or remove this parameter as it is also the default value for RandomForestClassifiers and ExtraTreesClassifiers.\n",
      "  warn(\n",
      "C:\\Users\\Apiseg\\anaconda3\\envs\\churn\\lib\\site-packages\\sklearn\\ensemble\\_forest.py:424: FutureWarning: `max_features='auto'` has been deprecated in 1.1 and will be removed in 1.3. To keep the past behaviour, explicitly set `max_features='sqrt'` or remove this parameter as it is also the default value for RandomForestClassifiers and ExtraTreesClassifiers.\n",
      "  warn(\n",
      "C:\\Users\\Apiseg\\anaconda3\\envs\\churn\\lib\\site-packages\\sklearn\\ensemble\\_forest.py:424: FutureWarning: `max_features='auto'` has been deprecated in 1.1 and will be removed in 1.3. To keep the past behaviour, explicitly set `max_features='sqrt'` or remove this parameter as it is also the default value for RandomForestClassifiers and ExtraTreesClassifiers.\n",
      "  warn(\n",
      "C:\\Users\\Apiseg\\anaconda3\\envs\\churn\\lib\\site-packages\\sklearn\\ensemble\\_forest.py:424: FutureWarning: `max_features='auto'` has been deprecated in 1.1 and will be removed in 1.3. To keep the past behaviour, explicitly set `max_features='sqrt'` or remove this parameter as it is also the default value for RandomForestClassifiers and ExtraTreesClassifiers.\n",
      "  warn(\n",
      "\u001b[32m[I 2023-05-02 11:02:26,158]\u001b[0m Trial 8 finished with value: 0.8334107626790553 and parameters: {'n_estimators': 400, 'criterion': 'entropy', 'max_depth': 40, 'min_samples_split': 20, 'min_samples_leaf': 4, 'max_features': 'auto'}. Best is trial 3 with value: 0.8422764227642275.\u001b[0m\n",
      "C:\\Users\\Apiseg\\anaconda3\\envs\\churn\\lib\\site-packages\\sklearn\\ensemble\\_forest.py:424: FutureWarning: `max_features='auto'` has been deprecated in 1.1 and will be removed in 1.3. To keep the past behaviour, explicitly set `max_features='sqrt'` or remove this parameter as it is also the default value for RandomForestClassifiers and ExtraTreesClassifiers.\n",
      "  warn(\n",
      "C:\\Users\\Apiseg\\anaconda3\\envs\\churn\\lib\\site-packages\\sklearn\\ensemble\\_forest.py:424: FutureWarning: `max_features='auto'` has been deprecated in 1.1 and will be removed in 1.3. To keep the past behaviour, explicitly set `max_features='sqrt'` or remove this parameter as it is also the default value for RandomForestClassifiers and ExtraTreesClassifiers.\n",
      "  warn(\n",
      "C:\\Users\\Apiseg\\anaconda3\\envs\\churn\\lib\\site-packages\\sklearn\\ensemble\\_forest.py:424: FutureWarning: `max_features='auto'` has been deprecated in 1.1 and will be removed in 1.3. To keep the past behaviour, explicitly set `max_features='sqrt'` or remove this parameter as it is also the default value for RandomForestClassifiers and ExtraTreesClassifiers.\n",
      "  warn(\n",
      "C:\\Users\\Apiseg\\anaconda3\\envs\\churn\\lib\\site-packages\\sklearn\\ensemble\\_forest.py:424: FutureWarning: `max_features='auto'` has been deprecated in 1.1 and will be removed in 1.3. To keep the past behaviour, explicitly set `max_features='sqrt'` or remove this parameter as it is also the default value for RandomForestClassifiers and ExtraTreesClassifiers.\n",
      "  warn(\n",
      "C:\\Users\\Apiseg\\anaconda3\\envs\\churn\\lib\\site-packages\\sklearn\\ensemble\\_forest.py:424: FutureWarning: `max_features='auto'` has been deprecated in 1.1 and will be removed in 1.3. To keep the past behaviour, explicitly set `max_features='sqrt'` or remove this parameter as it is also the default value for RandomForestClassifiers and ExtraTreesClassifiers.\n",
      "  warn(\n",
      "C:\\Users\\Apiseg\\anaconda3\\envs\\churn\\lib\\site-packages\\sklearn\\ensemble\\_forest.py:424: FutureWarning: `max_features='auto'` has been deprecated in 1.1 and will be removed in 1.3. To keep the past behaviour, explicitly set `max_features='sqrt'` or remove this parameter as it is also the default value for RandomForestClassifiers and ExtraTreesClassifiers.\n",
      "  warn(\n",
      "C:\\Users\\Apiseg\\anaconda3\\envs\\churn\\lib\\site-packages\\sklearn\\ensemble\\_forest.py:424: FutureWarning: `max_features='auto'` has been deprecated in 1.1 and will be removed in 1.3. To keep the past behaviour, explicitly set `max_features='sqrt'` or remove this parameter as it is also the default value for RandomForestClassifiers and ExtraTreesClassifiers.\n",
      "  warn(\n",
      "C:\\Users\\Apiseg\\anaconda3\\envs\\churn\\lib\\site-packages\\sklearn\\ensemble\\_forest.py:424: FutureWarning: `max_features='auto'` has been deprecated in 1.1 and will be removed in 1.3. To keep the past behaviour, explicitly set `max_features='sqrt'` or remove this parameter as it is also the default value for RandomForestClassifiers and ExtraTreesClassifiers.\n",
      "  warn(\n",
      "C:\\Users\\Apiseg\\anaconda3\\envs\\churn\\lib\\site-packages\\sklearn\\ensemble\\_forest.py:424: FutureWarning: `max_features='auto'` has been deprecated in 1.1 and will be removed in 1.3. To keep the past behaviour, explicitly set `max_features='sqrt'` or remove this parameter as it is also the default value for RandomForestClassifiers and ExtraTreesClassifiers.\n",
      "  warn(\n",
      "C:\\Users\\Apiseg\\anaconda3\\envs\\churn\\lib\\site-packages\\sklearn\\ensemble\\_forest.py:424: FutureWarning: `max_features='auto'` has been deprecated in 1.1 and will be removed in 1.3. To keep the past behaviour, explicitly set `max_features='sqrt'` or remove this parameter as it is also the default value for RandomForestClassifiers and ExtraTreesClassifiers.\n",
      "  warn(\n",
      "\u001b[32m[I 2023-05-02 11:02:42,150]\u001b[0m Trial 9 finished with value: 0.8281068524970964 and parameters: {'n_estimators': 200, 'criterion': 'gini', 'max_depth': 50, 'min_samples_split': 16, 'min_samples_leaf': 1, 'max_features': 'auto'}. Best is trial 3 with value: 0.8422764227642275.\u001b[0m\n",
      "\u001b[32m[I 2023-05-02 11:03:08,024]\u001b[0m Trial 10 finished with value: 0.8401858304297327 and parameters: {'n_estimators': 700, 'criterion': 'entropy', 'max_depth': 5, 'min_samples_split': 12, 'min_samples_leaf': 8, 'max_features': 'log2'}. Best is trial 3 with value: 0.8422764227642275.\u001b[0m\n",
      "\u001b[32m[I 2023-05-02 11:03:34,620]\u001b[0m Trial 11 finished with value: 0.8401858304297327 and parameters: {'n_estimators': 700, 'criterion': 'entropy', 'max_depth': 5, 'min_samples_split': 10, 'min_samples_leaf': 8, 'max_features': 'log2'}. Best is trial 3 with value: 0.8422764227642275.\u001b[0m\n",
      "\u001b[32m[I 2023-05-02 11:04:24,219]\u001b[0m Trial 12 finished with value: 0.8332171893147503 and parameters: {'n_estimators': 700, 'criterion': 'entropy', 'max_depth': 20, 'min_samples_split': 14, 'min_samples_leaf': 8, 'max_features': 'log2'}. Best is trial 3 with value: 0.8422764227642275.\u001b[0m\n",
      "\u001b[32m[I 2023-05-02 11:04:51,790]\u001b[0m Trial 13 finished with value: 0.8400696864111499 and parameters: {'n_estimators': 700, 'criterion': 'entropy', 'max_depth': 5, 'min_samples_split': 16, 'min_samples_leaf': 7, 'max_features': 'log2'}. Best is trial 3 with value: 0.8422764227642275.\u001b[0m\n",
      "\u001b[32m[I 2023-05-02 11:05:39,804]\u001b[0m Trial 14 finished with value: 0.832752613240418 and parameters: {'n_estimators': 600, 'criterion': 'entropy', 'max_depth': 25, 'min_samples_split': 12, 'min_samples_leaf': 3, 'max_features': 'log2'}. Best is trial 3 with value: 0.8422764227642275.\u001b[0m\n",
      "\u001b[32m[I 2023-05-02 11:05:47,957]\u001b[0m Trial 15 finished with value: 0.8343399148277196 and parameters: {'n_estimators': 100, 'criterion': 'entropy', 'max_depth': 15, 'min_samples_split': 2, 'min_samples_leaf': 7, 'max_features': 'sqrt'}. Best is trial 3 with value: 0.8422764227642275.\u001b[0m\n",
      "\u001b[32m[I 2023-05-02 11:06:15,679]\u001b[0m Trial 16 finished with value: 0.8391405342624856 and parameters: {'n_estimators': 500, 'criterion': 'entropy', 'max_depth': 10, 'min_samples_split': 16, 'min_samples_leaf': 10, 'max_features': 'log2'}. Best is trial 3 with value: 0.8422764227642275.\u001b[0m\n",
      "\u001b[32m[I 2023-05-02 11:07:29,724]\u001b[0m Trial 17 finished with value: 0.8331397599690282 and parameters: {'n_estimators': 1000, 'criterion': 'entropy', 'max_depth': 30, 'min_samples_split': 10, 'min_samples_leaf': 5, 'max_features': 'log2'}. Best is trial 3 with value: 0.8422764227642275.\u001b[0m\n",
      "\u001b[32m[I 2023-05-02 11:07:44,992]\u001b[0m Trial 18 finished with value: 0.8367015098722416 and parameters: {'n_estimators': 400, 'criterion': 'gini', 'max_depth': 5, 'min_samples_split': 12, 'min_samples_leaf': 8, 'max_features': 'sqrt'}. Best is trial 3 with value: 0.8422764227642275.\u001b[0m\n"
     ]
    },
    {
     "name": "stderr",
     "output_type": "stream",
     "text": [
      "C:\\Users\\Apiseg\\anaconda3\\envs\\churn\\lib\\site-packages\\sklearn\\ensemble\\_forest.py:424: FutureWarning: `max_features='auto'` has been deprecated in 1.1 and will be removed in 1.3. To keep the past behaviour, explicitly set `max_features='sqrt'` or remove this parameter as it is also the default value for RandomForestClassifiers and ExtraTreesClassifiers.\n",
      "  warn(\n",
      "C:\\Users\\Apiseg\\anaconda3\\envs\\churn\\lib\\site-packages\\sklearn\\ensemble\\_forest.py:424: FutureWarning: `max_features='auto'` has been deprecated in 1.1 and will be removed in 1.3. To keep the past behaviour, explicitly set `max_features='sqrt'` or remove this parameter as it is also the default value for RandomForestClassifiers and ExtraTreesClassifiers.\n",
      "  warn(\n",
      "C:\\Users\\Apiseg\\anaconda3\\envs\\churn\\lib\\site-packages\\sklearn\\ensemble\\_forest.py:424: FutureWarning: `max_features='auto'` has been deprecated in 1.1 and will be removed in 1.3. To keep the past behaviour, explicitly set `max_features='sqrt'` or remove this parameter as it is also the default value for RandomForestClassifiers and ExtraTreesClassifiers.\n",
      "  warn(\n",
      "C:\\Users\\Apiseg\\anaconda3\\envs\\churn\\lib\\site-packages\\sklearn\\ensemble\\_forest.py:424: FutureWarning: `max_features='auto'` has been deprecated in 1.1 and will be removed in 1.3. To keep the past behaviour, explicitly set `max_features='sqrt'` or remove this parameter as it is also the default value for RandomForestClassifiers and ExtraTreesClassifiers.\n",
      "  warn(\n",
      "C:\\Users\\Apiseg\\anaconda3\\envs\\churn\\lib\\site-packages\\sklearn\\ensemble\\_forest.py:424: FutureWarning: `max_features='auto'` has been deprecated in 1.1 and will be removed in 1.3. To keep the past behaviour, explicitly set `max_features='sqrt'` or remove this parameter as it is also the default value for RandomForestClassifiers and ExtraTreesClassifiers.\n",
      "  warn(\n",
      "C:\\Users\\Apiseg\\anaconda3\\envs\\churn\\lib\\site-packages\\sklearn\\ensemble\\_forest.py:424: FutureWarning: `max_features='auto'` has been deprecated in 1.1 and will be removed in 1.3. To keep the past behaviour, explicitly set `max_features='sqrt'` or remove this parameter as it is also the default value for RandomForestClassifiers and ExtraTreesClassifiers.\n",
      "  warn(\n",
      "C:\\Users\\Apiseg\\anaconda3\\envs\\churn\\lib\\site-packages\\sklearn\\ensemble\\_forest.py:424: FutureWarning: `max_features='auto'` has been deprecated in 1.1 and will be removed in 1.3. To keep the past behaviour, explicitly set `max_features='sqrt'` or remove this parameter as it is also the default value for RandomForestClassifiers and ExtraTreesClassifiers.\n",
      "  warn(\n",
      "C:\\Users\\Apiseg\\anaconda3\\envs\\churn\\lib\\site-packages\\sklearn\\ensemble\\_forest.py:424: FutureWarning: `max_features='auto'` has been deprecated in 1.1 and will be removed in 1.3. To keep the past behaviour, explicitly set `max_features='sqrt'` or remove this parameter as it is also the default value for RandomForestClassifiers and ExtraTreesClassifiers.\n",
      "  warn(\n",
      "C:\\Users\\Apiseg\\anaconda3\\envs\\churn\\lib\\site-packages\\sklearn\\ensemble\\_forest.py:424: FutureWarning: `max_features='auto'` has been deprecated in 1.1 and will be removed in 1.3. To keep the past behaviour, explicitly set `max_features='sqrt'` or remove this parameter as it is also the default value for RandomForestClassifiers and ExtraTreesClassifiers.\n",
      "  warn(\n",
      "C:\\Users\\Apiseg\\anaconda3\\envs\\churn\\lib\\site-packages\\sklearn\\ensemble\\_forest.py:424: FutureWarning: `max_features='auto'` has been deprecated in 1.1 and will be removed in 1.3. To keep the past behaviour, explicitly set `max_features='sqrt'` or remove this parameter as it is also the default value for RandomForestClassifiers and ExtraTreesClassifiers.\n",
      "  warn(\n",
      "\u001b[32m[I 2023-05-02 11:08:29,873]\u001b[0m Trial 19 finished with value: 0.8332946186604724 and parameters: {'n_estimators': 600, 'criterion': 'entropy', 'max_depth': 20, 'min_samples_split': 18, 'min_samples_leaf': 7, 'max_features': 'auto'}. Best is trial 3 with value: 0.8422764227642275.\u001b[0m\n",
      "\u001b[32m[I 2023-05-02 11:09:12,085]\u001b[0m Trial 20 finished with value: 0.840147115756872 and parameters: {'n_estimators': 800, 'criterion': 'entropy', 'max_depth': 10, 'min_samples_split': 8, 'min_samples_leaf': 3, 'max_features': 'log2'}. Best is trial 3 with value: 0.8422764227642275.\u001b[0m\n",
      "\u001b[32m[I 2023-05-02 11:09:37,399]\u001b[0m Trial 21 finished with value: 0.8399148277197057 and parameters: {'n_estimators': 700, 'criterion': 'entropy', 'max_depth': 5, 'min_samples_split': 10, 'min_samples_leaf': 9, 'max_features': 'log2'}. Best is trial 3 with value: 0.8422764227642275.\u001b[0m\n",
      "\u001b[32m[I 2023-05-02 11:10:06,205]\u001b[0m Trial 22 finished with value: 0.8409601238869531 and parameters: {'n_estimators': 800, 'criterion': 'entropy', 'max_depth': 5, 'min_samples_split': 8, 'min_samples_leaf': 8, 'max_features': 'log2'}. Best is trial 3 with value: 0.8422764227642275.\u001b[0m\n",
      "\u001b[32m[I 2023-05-02 11:10:54,053]\u001b[0m Trial 23 finished with value: 0.8331784746418893 and parameters: {'n_estimators': 800, 'criterion': 'entropy', 'max_depth': 15, 'min_samples_split': 6, 'min_samples_leaf': 9, 'max_features': 'log2'}. Best is trial 3 with value: 0.8422764227642275.\u001b[0m\n",
      "\u001b[32m[I 2023-05-02 11:11:36,485]\u001b[0m Trial 24 finished with value: 0.8394115369725126 and parameters: {'n_estimators': 800, 'criterion': 'entropy', 'max_depth': 10, 'min_samples_split': 8, 'min_samples_leaf': 6, 'max_features': 'log2'}. Best is trial 3 with value: 0.8422764227642275.\u001b[0m\n",
      "\u001b[32m[I 2023-05-02 11:12:45,461]\u001b[0m Trial 25 finished with value: 0.8333333333333334 and parameters: {'n_estimators': 1000, 'criterion': 'entropy', 'max_depth': 20, 'min_samples_split': 14, 'min_samples_leaf': 7, 'max_features': 'log2'}. Best is trial 3 with value: 0.8422764227642275.\u001b[0m\n",
      "\u001b[32m[I 2023-05-02 11:13:07,062]\u001b[0m Trial 26 finished with value: 0.8396051103368176 and parameters: {'n_estimators': 600, 'criterion': 'entropy', 'max_depth': 5, 'min_samples_split': 4, 'min_samples_leaf': 5, 'max_features': 'log2'}. Best is trial 3 with value: 0.8422764227642275.\u001b[0m\n",
      "C:\\Users\\Apiseg\\anaconda3\\envs\\churn\\lib\\site-packages\\sklearn\\ensemble\\_forest.py:424: FutureWarning: `max_features='auto'` has been deprecated in 1.1 and will be removed in 1.3. To keep the past behaviour, explicitly set `max_features='sqrt'` or remove this parameter as it is also the default value for RandomForestClassifiers and ExtraTreesClassifiers.\n",
      "  warn(\n",
      "C:\\Users\\Apiseg\\anaconda3\\envs\\churn\\lib\\site-packages\\sklearn\\ensemble\\_forest.py:424: FutureWarning: `max_features='auto'` has been deprecated in 1.1 and will be removed in 1.3. To keep the past behaviour, explicitly set `max_features='sqrt'` or remove this parameter as it is also the default value for RandomForestClassifiers and ExtraTreesClassifiers.\n",
      "  warn(\n",
      "C:\\Users\\Apiseg\\anaconda3\\envs\\churn\\lib\\site-packages\\sklearn\\ensemble\\_forest.py:424: FutureWarning: `max_features='auto'` has been deprecated in 1.1 and will be removed in 1.3. To keep the past behaviour, explicitly set `max_features='sqrt'` or remove this parameter as it is also the default value for RandomForestClassifiers and ExtraTreesClassifiers.\n",
      "  warn(\n",
      "C:\\Users\\Apiseg\\anaconda3\\envs\\churn\\lib\\site-packages\\sklearn\\ensemble\\_forest.py:424: FutureWarning: `max_features='auto'` has been deprecated in 1.1 and will be removed in 1.3. To keep the past behaviour, explicitly set `max_features='sqrt'` or remove this parameter as it is also the default value for RandomForestClassifiers and ExtraTreesClassifiers.\n",
      "  warn(\n",
      "C:\\Users\\Apiseg\\anaconda3\\envs\\churn\\lib\\site-packages\\sklearn\\ensemble\\_forest.py:424: FutureWarning: `max_features='auto'` has been deprecated in 1.1 and will be removed in 1.3. To keep the past behaviour, explicitly set `max_features='sqrt'` or remove this parameter as it is also the default value for RandomForestClassifiers and ExtraTreesClassifiers.\n",
      "  warn(\n",
      "C:\\Users\\Apiseg\\anaconda3\\envs\\churn\\lib\\site-packages\\sklearn\\ensemble\\_forest.py:424: FutureWarning: `max_features='auto'` has been deprecated in 1.1 and will be removed in 1.3. To keep the past behaviour, explicitly set `max_features='sqrt'` or remove this parameter as it is also the default value for RandomForestClassifiers and ExtraTreesClassifiers.\n",
      "  warn(\n",
      "C:\\Users\\Apiseg\\anaconda3\\envs\\churn\\lib\\site-packages\\sklearn\\ensemble\\_forest.py:424: FutureWarning: `max_features='auto'` has been deprecated in 1.1 and will be removed in 1.3. To keep the past behaviour, explicitly set `max_features='sqrt'` or remove this parameter as it is also the default value for RandomForestClassifiers and ExtraTreesClassifiers.\n",
      "  warn(\n"
     ]
    },
    {
     "name": "stderr",
     "output_type": "stream",
     "text": [
      "C:\\Users\\Apiseg\\anaconda3\\envs\\churn\\lib\\site-packages\\sklearn\\ensemble\\_forest.py:424: FutureWarning: `max_features='auto'` has been deprecated in 1.1 and will be removed in 1.3. To keep the past behaviour, explicitly set `max_features='sqrt'` or remove this parameter as it is also the default value for RandomForestClassifiers and ExtraTreesClassifiers.\n",
      "  warn(\n",
      "C:\\Users\\Apiseg\\anaconda3\\envs\\churn\\lib\\site-packages\\sklearn\\ensemble\\_forest.py:424: FutureWarning: `max_features='auto'` has been deprecated in 1.1 and will be removed in 1.3. To keep the past behaviour, explicitly set `max_features='sqrt'` or remove this parameter as it is also the default value for RandomForestClassifiers and ExtraTreesClassifiers.\n",
      "  warn(\n",
      "C:\\Users\\Apiseg\\anaconda3\\envs\\churn\\lib\\site-packages\\sklearn\\ensemble\\_forest.py:424: FutureWarning: `max_features='auto'` has been deprecated in 1.1 and will be removed in 1.3. To keep the past behaviour, explicitly set `max_features='sqrt'` or remove this parameter as it is also the default value for RandomForestClassifiers and ExtraTreesClassifiers.\n",
      "  warn(\n",
      "\u001b[32m[I 2023-05-02 11:13:12,689]\u001b[0m Trial 27 finished with value: 0.8381339527680993 and parameters: {'n_estimators': 100, 'criterion': 'gini', 'max_depth': 10, 'min_samples_split': 18, 'min_samples_leaf': 8, 'max_features': 'auto'}. Best is trial 3 with value: 0.8422764227642275.\u001b[0m\n",
      "\u001b[32m[I 2023-05-02 11:13:43,957]\u001b[0m Trial 28 finished with value: 0.8334107626790553 and parameters: {'n_estimators': 400, 'criterion': 'entropy', 'max_depth': 25, 'min_samples_split': 12, 'min_samples_leaf': 4, 'max_features': 'sqrt'}. Best is trial 3 with value: 0.8422764227642275.\u001b[0m\n",
      "\u001b[32m[I 2023-05-02 11:14:00,436]\u001b[0m Trial 29 finished with value: 0.8332946186604724 and parameters: {'n_estimators': 300, 'criterion': 'gini', 'max_depth': 15, 'min_samples_split': 6, 'min_samples_leaf': 9, 'max_features': 'log2'}. Best is trial 3 with value: 0.8422764227642275.\u001b[0m\n"
     ]
    }
   ],
   "source": [
    "def objective(trial):\n",
    "    n_estimators = trial.suggest_int('n_estimators', 100, 1000, step=100)\n",
    "    criterion = trial.suggest_categorical('criterion', ['gini', 'entropy'])\n",
    "    max_depth = trial.suggest_int('max_depth', 5, 50, step=5)\n",
    "    min_samples_split = trial.suggest_int('min_samples_split', 2, 20, step=2)\n",
    "    min_samples_leaf = trial.suggest_int('min_samples_leaf', 1, 10, step=1)\n",
    "    max_features = trial.suggest_categorical('max_features', ['auto', 'sqrt', 'log2'])\n",
    "    bootstrap = True\n",
    "    oob_score = False\n",
    "    random_state = 42\n",
    "    n_jobs = -1\n",
    "   \n",
    "    rf_params = {\n",
    "        'n_estimators': n_estimators,\n",
    "        'criterion': criterion,\n",
    "        'max_depth': max_depth,\n",
    "        'min_samples_split': min_samples_split,\n",
    "        'min_samples_leaf': min_samples_leaf,\n",
    "        'max_features': max_features,\n",
    "        'bootstrap': bootstrap,\n",
    "        'oob_score': oob_score,\n",
    "        'random_state': random_state,\n",
    "        'n_jobs': n_jobs\n",
    "    }\n",
    "    \n",
    "    model = RandomForestClassifier(**rf_params)\n",
    "    \n",
    "    skf = StratifiedKFold(n_splits=10, shuffle=True, random_state=1337)\n",
    "#     all_f1_scores = []\n",
    "#     all_precisions = []\n",
    "    all_recalls = []\n",
    "\n",
    "    for fold_id, (train_idx, val_idx) in enumerate(skf.split(X, y)):\n",
    "        X_tr, X_val = X[train_idx], X[val_idx]\n",
    "        y_tr, y_val = y[train_idx], y[val_idx]\n",
    "\n",
    "        model.fit(X_tr, y_tr)\n",
    "\n",
    "        y_pred = (model.predict_proba(X_val)[:, 1] > 0.5).astype(int)\n",
    "        \n",
    "        recall_value = recall_score(y_val, y_pred)\n",
    "\n",
    "        all_recalls.append(recall_value)\n",
    "        \n",
    "    avg_recall = np.mean(all_recalls)\n",
    "\n",
    "    return avg_recall\n",
    "\n",
    "study = optuna.create_study(direction='maximize')\n",
    "study.optimize(objective, n_trials=30)\n",
    "\n"
   ]
  },
  {
   "cell_type": "code",
   "execution_count": 11,
   "id": "bdc31e64",
   "metadata": {},
   "outputs": [
    {
     "name": "stdout",
     "output_type": "stream",
     "text": [
      "Best trial:\n",
      "  Recall: 0.8423\n",
      "  Params: \n",
      "    n_estimators: 100\n",
      "    criterion: entropy\n",
      "    max_depth: 5\n",
      "    min_samples_split: 18\n",
      "    min_samples_leaf: 5\n",
      "    max_features: log2\n"
     ]
    }
   ],
   "source": [
    "print(\"Best trial:\")\n",
    "trial = study.best_trial\n",
    "print(\"  Recall: {:.4f}\".format(trial.value))\n",
    "# print(\"  Precision: {:.4f}\".format(trial.avg_precision))\n",
    "# print(\"  Recall: {:.4f}\".format(np.mean(all_recalls)))\n",
    "print(\"  Params: \")\n",
    "for key, value in trial.params.items():\n",
    "    print(\"    {}: {}\".format(key, value))\n",
    "\n",
    "best_rf_params = study.best_params\n"
   ]
  },
  {
   "cell_type": "code",
   "execution_count": 13,
   "id": "b05d4cbd",
   "metadata": {},
   "outputs": [
    {
     "name": "stdout",
     "output_type": "stream",
     "text": [
      "Fold 1 accuracy score: 0.8114\n",
      "Fold 1 f1 score: 0.8163\n",
      "Fold 1 recall score: 0.8355\n",
      "Fold 2 accuracy score: 0.8046\n",
      "Fold 2 f1 score: 0.8096\n",
      "Fold 2 recall score: 0.8349\n",
      "Fold 3 accuracy score: 0.8075\n",
      "Fold 3 f1 score: 0.8157\n",
      "Fold 3 recall score: 0.8358\n",
      "Fold 4 accuracy score: 0.8008\n",
      "Fold 4 f1 score: 0.8078\n",
      "Fold 4 recall score: 0.8408\n",
      "Fold 5 accuracy score: 0.8103\n",
      "Fold 5 f1 score: 0.8144\n",
      "Fold 5 recall score: 0.8441\n",
      "Average accuracy score: 0.8069\n",
      "Average F1 score: 0.8128\n",
      "Average Recall score: 0.8382\n"
     ]
    }
   ],
   "source": [
    "from sklearn.ensemble import RandomForestClassifier\n",
    "from sklearn.model_selection import KFold\n",
    "from sklearn.metrics import accuracy_score\n",
    "\n",
    "# Define the number of folds for cross validation\n",
    "k_folds = 5\n",
    "\n",
    "# Initialize a random forest classifier\n",
    "rfc = RandomForestClassifier(**best_rf_params)\n",
    "\n",
    "# Initialize a KFold object\n",
    "kf = KFold(n_splits=k_folds, shuffle=True, random_state=42)\n",
    "\n",
    "# Initialize a list to store accuracy scores for each fold\n",
    "accuracy_scores = []\n",
    "F1_scores = []\n",
    "recall_scores = []\n",
    "\n",
    "# Perform k-fold cross validation\n",
    "for fold, (train_idx, test_idx) in enumerate(kf.split(X, y)):\n",
    "    # Split the data into training and testing sets for the current fold\n",
    "    X_train, y_train = X[train_idx], y[train_idx]\n",
    "    X_test2, y_test2 = X[test_idx], y[test_idx]\n",
    "    \n",
    "    # Fit the random forest classifier to the training data\n",
    "    rfc.fit(X_train, y_train)\n",
    "    \n",
    "    # Make predictions on the testing data\n",
    "    y_pred = rfc.predict(X_test2)\n",
    "    \n",
    "    # Calculate accuracy score for the current fold\n",
    "    accuracy = accuracy_score(y_test2, y_pred)\n",
    "    accuracy_scores.append(accuracy)\n",
    "    \n",
    "    f1 = f1_score(y_test2, y_pred)\n",
    "    F1_scores.append(f1)\n",
    "    \n",
    "    recall_value = recall_score(y_test2, y_pred)\n",
    "    recall_scores.append(recall_value)\n",
    "    \n",
    "    # Print the accuracy score for the current fold\n",
    "    print(f'Fold {fold+1} accuracy score: {accuracy:.4f}')\n",
    "    print(f'Fold {fold+1} f1 score: {f1:.4f}')\n",
    "    print(f'Fold {fold+1} recall score: {recall_value:.4f}')\n",
    "\n",
    "# Print the average accuracy score across all folds\n",
    "print(f'Average accuracy score: {np.mean(accuracy_scores):.4f}')\n",
    "print(f'Average F1 score: {np.mean(F1_scores):.4f}')\n",
    "print(f'Average Recall score: {np.mean(recall_scores):.4f}')"
   ]
  },
  {
   "cell_type": "code",
   "execution_count": 16,
   "id": "da16a2cc",
   "metadata": {},
   "outputs": [
    {
     "name": "stdout",
     "output_type": "stream",
     "text": [
      "              precision    recall  f1-score   support\n",
      "\n",
      "           0       0.87      0.77      0.82      2946\n",
      "           1       0.52      0.70      0.60      1086\n",
      "\n",
      "    accuracy                           0.75      4032\n",
      "   macro avg       0.70      0.73      0.71      4032\n",
      "weighted avg       0.78      0.75      0.76      4032\n",
      "\n"
     ]
    },
    {
     "name": "stderr",
     "output_type": "stream",
     "text": [
      "C:\\Users\\Apiseg\\anaconda3\\envs\\churn\\lib\\site-packages\\sklearn\\base.py:432: UserWarning: X has feature names, but RandomForestClassifier was fitted without feature names\n",
      "  warnings.warn(\n"
     ]
    }
   ],
   "source": [
    "y_pred = rfc.predict(X_test)\n",
    "print(classification_report(y_test,y_pred))"
   ]
  },
  {
   "cell_type": "code",
   "execution_count": 17,
   "id": "c86e3e7f",
   "metadata": {},
   "outputs": [
    {
     "name": "stdout",
     "output_type": "stream",
     "text": [
      "Accuracy_value:  0.7472718253968254\n",
      "f1_score_value:  0.5970739422696719\n",
      "recall_value:  0.6952117863720073\n"
     ]
    }
   ],
   "source": [
    "print(\"Accuracy_value: \", accuracy_score(y_test, y_pred))\n",
    "print(\"f1_score_value: \", f1_score(y_test, y_pred))\n",
    "print(\"recall_value: \", recall_score(y_test, y_pred))"
   ]
  },
  {
   "cell_type": "code",
   "execution_count": 30,
   "id": "ca4d2249",
   "metadata": {},
   "outputs": [],
   "source": [
    "from joblib import dump"
   ]
  },
  {
   "cell_type": "code",
   "execution_count": 31,
   "id": "832b54c2",
   "metadata": {},
   "outputs": [
    {
     "data": {
      "text/plain": [
       "['rfc_model.joblib']"
      ]
     },
     "execution_count": 31,
     "metadata": {},
     "output_type": "execute_result"
    }
   ],
   "source": [
    "# Save the trained model to a file\n",
    "dump(rfc, 'rfc_model.joblib')"
   ]
  },
  {
   "cell_type": "markdown",
   "id": "995a851c",
   "metadata": {},
   "source": [
    "# Logistic Regression"
   ]
  },
  {
   "cell_type": "code",
   "execution_count": 66,
   "id": "2051d8c7",
   "metadata": {},
   "outputs": [
    {
     "name": "stderr",
     "output_type": "stream",
     "text": [
      "\u001b[32m[I 2023-05-08 00:02:26,455]\u001b[0m A new study created in memory with name: no-name-fe3de7fe-1968-473b-8016-16fe864e8984\u001b[0m\n",
      "C:\\Users\\Apiseg\\AppData\\Local\\Temp\\ipykernel_26520\\803267002.py:5: FutureWarning: suggest_loguniform has been deprecated in v3.0.0. This feature will be removed in v6.0.0. See https://github.com/optuna/optuna/releases/tag/v3.0.0. Use :func:`~optuna.trial.Trial.suggest_float` instead.\n",
      "  'C': trial.suggest_loguniform('C', 1e-4, 100),\n",
      "\u001b[32m[I 2023-05-08 00:02:27,183]\u001b[0m Trial 0 finished with value: 0.840340689121177 and parameters: {'penalty': 'l2', 'C': 1.5407813926369216, 'fit_intercept': False, 'solver': 'lbfgs'}. Best is trial 0 with value: 0.840340689121177.\u001b[0m\n",
      "C:\\Users\\Apiseg\\AppData\\Local\\Temp\\ipykernel_26520\\803267002.py:5: FutureWarning: suggest_loguniform has been deprecated in v3.0.0. This feature will be removed in v6.0.0. See https://github.com/optuna/optuna/releases/tag/v3.0.0. Use :func:`~optuna.trial.Trial.suggest_float` instead.\n",
      "  'C': trial.suggest_loguniform('C', 1e-4, 100),\n",
      "\u001b[32m[I 2023-05-08 00:02:31,567]\u001b[0m Trial 1 finished with value: 0.840301974448316 and parameters: {'penalty': 'l2', 'C': 0.16541920417491535, 'fit_intercept': True, 'solver': 'saga'}. Best is trial 0 with value: 0.840340689121177.\u001b[0m\n",
      "C:\\Users\\Apiseg\\AppData\\Local\\Temp\\ipykernel_26520\\803267002.py:5: FutureWarning: suggest_loguniform has been deprecated in v3.0.0. This feature will be removed in v6.0.0. See https://github.com/optuna/optuna/releases/tag/v3.0.0. Use :func:`~optuna.trial.Trial.suggest_float` instead.\n",
      "  'C': trial.suggest_loguniform('C', 1e-4, 100),\n",
      "\u001b[32m[I 2023-05-08 00:02:32,243]\u001b[0m Trial 2 finished with value: 0.8409601238869531 and parameters: {'penalty': 'l2', 'C': 0.03672706894264337, 'fit_intercept': True, 'solver': 'liblinear'}. Best is trial 2 with value: 0.8409601238869531.\u001b[0m\n",
      "C:\\Users\\Apiseg\\AppData\\Local\\Temp\\ipykernel_26520\\803267002.py:5: FutureWarning: suggest_loguniform has been deprecated in v3.0.0. This feature will be removed in v6.0.0. See https://github.com/optuna/optuna/releases/tag/v3.0.0. Use :func:`~optuna.trial.Trial.suggest_float` instead.\n",
      "  'C': trial.suggest_loguniform('C', 1e-4, 100),\n",
      "\u001b[32m[I 2023-05-08 00:02:34,959]\u001b[0m Trial 3 finished with value: 0.8427022841656988 and parameters: {'penalty': 'l2', 'C': 0.0007223312620560684, 'fit_intercept': True, 'solver': 'saga'}. Best is trial 3 with value: 0.8427022841656988.\u001b[0m\n",
      "C:\\Users\\Apiseg\\AppData\\Local\\Temp\\ipykernel_26520\\803267002.py:5: FutureWarning: suggest_loguniform has been deprecated in v3.0.0. This feature will be removed in v6.0.0. See https://github.com/optuna/optuna/releases/tag/v3.0.0. Use :func:`~optuna.trial.Trial.suggest_float` instead.\n",
      "  'C': trial.suggest_loguniform('C', 1e-4, 100),\n",
      "\u001b[32m[I 2023-05-08 00:02:37,802]\u001b[0m Trial 4 finished with value: 0.8405729771583431 and parameters: {'penalty': 'l2', 'C': 0.019403544063476608, 'fit_intercept': True, 'solver': 'saga'}. Best is trial 3 with value: 0.8427022841656988.\u001b[0m\n",
      "C:\\Users\\Apiseg\\AppData\\Local\\Temp\\ipykernel_26520\\803267002.py:5: FutureWarning: suggest_loguniform has been deprecated in v3.0.0. This feature will be removed in v6.0.0. See https://github.com/optuna/optuna/releases/tag/v3.0.0. Use :func:`~optuna.trial.Trial.suggest_float` instead.\n",
      "  'C': trial.suggest_loguniform('C', 1e-4, 100),\n",
      "\u001b[32m[I 2023-05-08 00:02:40,407]\u001b[0m Trial 5 finished with value: 0.8411536972512582 and parameters: {'penalty': 'l2', 'C': 0.06058606349914583, 'fit_intercept': False, 'solver': 'saga'}. Best is trial 3 with value: 0.8427022841656988.\u001b[0m\n",
      "C:\\Users\\Apiseg\\AppData\\Local\\Temp\\ipykernel_26520\\803267002.py:5: FutureWarning: suggest_loguniform has been deprecated in v3.0.0. This feature will be removed in v6.0.0. See https://github.com/optuna/optuna/releases/tag/v3.0.0. Use :func:`~optuna.trial.Trial.suggest_float` instead.\n",
      "  'C': trial.suggest_loguniform('C', 1e-4, 100),\n",
      "\u001b[32m[I 2023-05-08 00:02:41,144]\u001b[0m Trial 6 finished with value: 0.8412698412698413 and parameters: {'penalty': 'l2', 'C': 0.052399947364651964, 'fit_intercept': False, 'solver': 'liblinear'}. Best is trial 3 with value: 0.8427022841656988.\u001b[0m\n",
      "C:\\Users\\Apiseg\\AppData\\Local\\Temp\\ipykernel_26520\\803267002.py:5: FutureWarning: suggest_loguniform has been deprecated in v3.0.0. This feature will be removed in v6.0.0. See https://github.com/optuna/optuna/releases/tag/v3.0.0. Use :func:`~optuna.trial.Trial.suggest_float` instead.\n",
      "  'C': trial.suggest_loguniform('C', 1e-4, 100),\n",
      "\u001b[32m[I 2023-05-08 00:02:43,981]\u001b[0m Trial 7 finished with value: 0.840340689121177 and parameters: {'penalty': 'l2', 'C': 1.7921146596881734, 'fit_intercept': False, 'solver': 'saga'}. Best is trial 3 with value: 0.8427022841656988.\u001b[0m\n",
      "C:\\Users\\Apiseg\\AppData\\Local\\Temp\\ipykernel_26520\\803267002.py:5: FutureWarning: suggest_loguniform has been deprecated in v3.0.0. This feature will be removed in v6.0.0. See https://github.com/optuna/optuna/releases/tag/v3.0.0. Use :func:`~optuna.trial.Trial.suggest_float` instead.\n",
      "  'C': trial.suggest_loguniform('C', 1e-4, 100),\n",
      "\u001b[32m[I 2023-05-08 00:02:44,670]\u001b[0m Trial 8 finished with value: 0.840340689121177 and parameters: {'penalty': 'l2', 'C': 1.0178839253396847, 'fit_intercept': False, 'solver': 'liblinear'}. Best is trial 3 with value: 0.8427022841656988.\u001b[0m\n",
      "C:\\Users\\Apiseg\\AppData\\Local\\Temp\\ipykernel_26520\\803267002.py:5: FutureWarning: suggest_loguniform has been deprecated in v3.0.0. This feature will be removed in v6.0.0. See https://github.com/optuna/optuna/releases/tag/v3.0.0. Use :func:`~optuna.trial.Trial.suggest_float` instead.\n",
      "  'C': trial.suggest_loguniform('C', 1e-4, 100),\n",
      "\u001b[32m[I 2023-05-08 00:02:45,059]\u001b[0m Trial 9 finished with value: 0.8442121564072783 and parameters: {'penalty': 'l2', 'C': 0.00031759554663733826, 'fit_intercept': True, 'solver': 'lbfgs'}. Best is trial 9 with value: 0.8442121564072783.\u001b[0m\n",
      "C:\\Users\\Apiseg\\AppData\\Local\\Temp\\ipykernel_26520\\803267002.py:5: FutureWarning: suggest_loguniform has been deprecated in v3.0.0. This feature will be removed in v6.0.0. See https://github.com/optuna/optuna/releases/tag/v3.0.0. Use :func:`~optuna.trial.Trial.suggest_float` instead.\n",
      "  'C': trial.suggest_loguniform('C', 1e-4, 100),\n",
      "\u001b[32m[I 2023-05-08 00:02:45,416]\u001b[0m Trial 10 finished with value: 0.8468447541618274 and parameters: {'penalty': 'l2', 'C': 0.00010907050285847566, 'fit_intercept': True, 'solver': 'lbfgs'}. Best is trial 10 with value: 0.8468447541618274.\u001b[0m\n",
      "C:\\Users\\Apiseg\\AppData\\Local\\Temp\\ipykernel_26520\\803267002.py:5: FutureWarning: suggest_loguniform has been deprecated in v3.0.0. This feature will be removed in v6.0.0. See https://github.com/optuna/optuna/releases/tag/v3.0.0. Use :func:`~optuna.trial.Trial.suggest_float` instead.\n",
      "  'C': trial.suggest_loguniform('C', 1e-4, 100),\n",
      "\u001b[32m[I 2023-05-08 00:02:45,780]\u001b[0m Trial 11 finished with value: 0.8463414634146341 and parameters: {'penalty': 'l2', 'C': 0.00014439057719451461, 'fit_intercept': True, 'solver': 'lbfgs'}. Best is trial 10 with value: 0.8468447541618274.\u001b[0m\n",
      "C:\\Users\\Apiseg\\AppData\\Local\\Temp\\ipykernel_26520\\803267002.py:5: FutureWarning: suggest_loguniform has been deprecated in v3.0.0. This feature will be removed in v6.0.0. See https://github.com/optuna/optuna/releases/tag/v3.0.0. Use :func:`~optuna.trial.Trial.suggest_float` instead.\n",
      "  'C': trial.suggest_loguniform('C', 1e-4, 100),\n",
      "\u001b[32m[I 2023-05-08 00:02:46,140]\u001b[0m Trial 12 finished with value: 0.8468060394889664 and parameters: {'penalty': 'l2', 'C': 0.00011547798826450424, 'fit_intercept': True, 'solver': 'lbfgs'}. Best is trial 10 with value: 0.8468447541618274.\u001b[0m\n",
      "C:\\Users\\Apiseg\\AppData\\Local\\Temp\\ipykernel_26520\\803267002.py:5: FutureWarning: suggest_loguniform has been deprecated in v3.0.0. This feature will be removed in v6.0.0. See https://github.com/optuna/optuna/releases/tag/v3.0.0. Use :func:`~optuna.trial.Trial.suggest_float` instead.\n",
      "  'C': trial.suggest_loguniform('C', 1e-4, 100),\n",
      "\u001b[32m[I 2023-05-08 00:02:46,780]\u001b[0m Trial 13 finished with value: 0.8421989934185057 and parameters: {'penalty': 'l2', 'C': 0.0019050070070487802, 'fit_intercept': True, 'solver': 'lbfgs'}. Best is trial 10 with value: 0.8468447541618274.\u001b[0m\n",
      "C:\\Users\\Apiseg\\AppData\\Local\\Temp\\ipykernel_26520\\803267002.py:5: FutureWarning: suggest_loguniform has been deprecated in v3.0.0. This feature will be removed in v6.0.0. See https://github.com/optuna/optuna/releases/tag/v3.0.0. Use :func:`~optuna.trial.Trial.suggest_float` instead.\n",
      "  'C': trial.suggest_loguniform('C', 1e-4, 100),\n"
     ]
    },
    {
     "name": "stderr",
     "output_type": "stream",
     "text": [
      "\u001b[32m[I 2023-05-08 00:02:47,140]\u001b[0m Trial 14 finished with value: 0.8469221835075494 and parameters: {'penalty': 'l2', 'C': 0.00010599686609619408, 'fit_intercept': True, 'solver': 'lbfgs'}. Best is trial 14 with value: 0.8469221835075494.\u001b[0m\n",
      "C:\\Users\\Apiseg\\AppData\\Local\\Temp\\ipykernel_26520\\803267002.py:5: FutureWarning: suggest_loguniform has been deprecated in v3.0.0. This feature will be removed in v6.0.0. See https://github.com/optuna/optuna/releases/tag/v3.0.0. Use :func:`~optuna.trial.Trial.suggest_float` instead.\n",
      "  'C': trial.suggest_loguniform('C', 1e-4, 100),\n",
      "\u001b[32m[I 2023-05-08 00:02:47,950]\u001b[0m Trial 15 finished with value: 0.8420828493999226 and parameters: {'penalty': 'l2', 'C': 0.0031366501282036694, 'fit_intercept': True, 'solver': 'lbfgs'}. Best is trial 14 with value: 0.8469221835075494.\u001b[0m\n",
      "C:\\Users\\Apiseg\\AppData\\Local\\Temp\\ipykernel_26520\\803267002.py:5: FutureWarning: suggest_loguniform has been deprecated in v3.0.0. This feature will be removed in v6.0.0. See https://github.com/optuna/optuna/releases/tag/v3.0.0. Use :func:`~optuna.trial.Trial.suggest_float` instead.\n",
      "  'C': trial.suggest_loguniform('C', 1e-4, 100),\n",
      "\u001b[32m[I 2023-05-08 00:02:48,689]\u001b[0m Trial 16 finished with value: 0.8417731320170345 and parameters: {'penalty': 'l2', 'C': 0.004391580066026214, 'fit_intercept': True, 'solver': 'lbfgs'}. Best is trial 14 with value: 0.8469221835075494.\u001b[0m\n",
      "C:\\Users\\Apiseg\\AppData\\Local\\Temp\\ipykernel_26520\\803267002.py:5: FutureWarning: suggest_loguniform has been deprecated in v3.0.0. This feature will be removed in v6.0.0. See https://github.com/optuna/optuna/releases/tag/v3.0.0. Use :func:`~optuna.trial.Trial.suggest_float` instead.\n",
      "  'C': trial.suggest_loguniform('C', 1e-4, 100),\n",
      "\u001b[32m[I 2023-05-08 00:02:49,388]\u001b[0m Trial 17 finished with value: 0.840379403794038 and parameters: {'penalty': 'l2', 'C': 40.77606940951423, 'fit_intercept': True, 'solver': 'lbfgs'}. Best is trial 14 with value: 0.8469221835075494.\u001b[0m\n",
      "C:\\Users\\Apiseg\\AppData\\Local\\Temp\\ipykernel_26520\\803267002.py:5: FutureWarning: suggest_loguniform has been deprecated in v3.0.0. This feature will be removed in v6.0.0. See https://github.com/optuna/optuna/releases/tag/v3.0.0. Use :func:`~optuna.trial.Trial.suggest_float` instead.\n",
      "  'C': trial.suggest_loguniform('C', 1e-4, 100),\n",
      "\u001b[32m[I 2023-05-08 00:02:49,829]\u001b[0m Trial 18 finished with value: 0.8433604336043361 and parameters: {'penalty': 'l2', 'C': 0.0005405583651411554, 'fit_intercept': True, 'solver': 'lbfgs'}. Best is trial 14 with value: 0.8469221835075494.\u001b[0m\n",
      "C:\\Users\\Apiseg\\AppData\\Local\\Temp\\ipykernel_26520\\803267002.py:5: FutureWarning: suggest_loguniform has been deprecated in v3.0.0. This feature will be removed in v6.0.0. See https://github.com/optuna/optuna/releases/tag/v3.0.0. Use :func:`~optuna.trial.Trial.suggest_float` instead.\n",
      "  'C': trial.suggest_loguniform('C', 1e-4, 100),\n",
      "\u001b[32m[I 2023-05-08 00:02:50,197]\u001b[0m Trial 19 finished with value: 0.8468447541618274 and parameters: {'penalty': 'l2', 'C': 0.00011480960523152216, 'fit_intercept': True, 'solver': 'lbfgs'}. Best is trial 14 with value: 0.8469221835075494.\u001b[0m\n",
      "C:\\Users\\Apiseg\\AppData\\Local\\Temp\\ipykernel_26520\\803267002.py:5: FutureWarning: suggest_loguniform has been deprecated in v3.0.0. This feature will be removed in v6.0.0. See https://github.com/optuna/optuna/releases/tag/v3.0.0. Use :func:`~optuna.trial.Trial.suggest_float` instead.\n",
      "  'C': trial.suggest_loguniform('C', 1e-4, 100),\n",
      "\u001b[32m[I 2023-05-08 00:02:50,773]\u001b[0m Trial 20 finished with value: 0.846031746031746 and parameters: {'penalty': 'l2', 'C': 0.0014155110943135955, 'fit_intercept': True, 'solver': 'liblinear'}. Best is trial 14 with value: 0.8469221835075494.\u001b[0m\n",
      "C:\\Users\\Apiseg\\AppData\\Local\\Temp\\ipykernel_26520\\803267002.py:5: FutureWarning: suggest_loguniform has been deprecated in v3.0.0. This feature will be removed in v6.0.0. See https://github.com/optuna/optuna/releases/tag/v3.0.0. Use :func:`~optuna.trial.Trial.suggest_float` instead.\n",
      "  'C': trial.suggest_loguniform('C', 1e-4, 100),\n",
      "\u001b[32m[I 2023-05-08 00:02:51,175]\u001b[0m Trial 21 finished with value: 0.8466898954703833 and parameters: {'penalty': 'l2', 'C': 0.00012440043588290867, 'fit_intercept': True, 'solver': 'lbfgs'}. Best is trial 14 with value: 0.8469221835075494.\u001b[0m\n",
      "C:\\Users\\Apiseg\\AppData\\Local\\Temp\\ipykernel_26520\\803267002.py:5: FutureWarning: suggest_loguniform has been deprecated in v3.0.0. This feature will be removed in v6.0.0. See https://github.com/optuna/optuna/releases/tag/v3.0.0. Use :func:`~optuna.trial.Trial.suggest_float` instead.\n",
      "  'C': trial.suggest_loguniform('C', 1e-4, 100),\n",
      "\u001b[32m[I 2023-05-08 00:02:51,639]\u001b[0m Trial 22 finished with value: 0.8434765776229189 and parameters: {'penalty': 'l2', 'C': 0.000504235492547724, 'fit_intercept': True, 'solver': 'lbfgs'}. Best is trial 14 with value: 0.8469221835075494.\u001b[0m\n",
      "C:\\Users\\Apiseg\\AppData\\Local\\Temp\\ipykernel_26520\\803267002.py:5: FutureWarning: suggest_loguniform has been deprecated in v3.0.0. This feature will be removed in v6.0.0. See https://github.com/optuna/optuna/releases/tag/v3.0.0. Use :func:`~optuna.trial.Trial.suggest_float` instead.\n",
      "  'C': trial.suggest_loguniform('C', 1e-4, 100),\n",
      "\u001b[32m[I 2023-05-08 00:02:52,028]\u001b[0m Trial 23 finished with value: 0.8469221835075494 and parameters: {'penalty': 'l2', 'C': 0.0001059941618153838, 'fit_intercept': True, 'solver': 'lbfgs'}. Best is trial 14 with value: 0.8469221835075494.\u001b[0m\n",
      "C:\\Users\\Apiseg\\AppData\\Local\\Temp\\ipykernel_26520\\803267002.py:5: FutureWarning: suggest_loguniform has been deprecated in v3.0.0. This feature will be removed in v6.0.0. See https://github.com/optuna/optuna/releases/tag/v3.0.0. Use :func:`~optuna.trial.Trial.suggest_float` instead.\n",
      "  'C': trial.suggest_loguniform('C', 1e-4, 100),\n",
      "\u001b[32m[I 2023-05-08 00:02:52,438]\u001b[0m Trial 24 finished with value: 0.8440960123886952 and parameters: {'penalty': 'l2', 'C': 0.0003527081890723662, 'fit_intercept': True, 'solver': 'lbfgs'}. Best is trial 14 with value: 0.8469221835075494.\u001b[0m\n",
      "C:\\Users\\Apiseg\\AppData\\Local\\Temp\\ipykernel_26520\\803267002.py:5: FutureWarning: suggest_loguniform has been deprecated in v3.0.0. This feature will be removed in v6.0.0. See https://github.com/optuna/optuna/releases/tag/v3.0.0. Use :func:`~optuna.trial.Trial.suggest_float` instead.\n",
      "  'C': trial.suggest_loguniform('C', 1e-4, 100),\n",
      "\u001b[32m[I 2023-05-08 00:02:53,099]\u001b[0m Trial 25 finished with value: 0.8425087108013937 and parameters: {'penalty': 'l2', 'C': 0.0012726118675864516, 'fit_intercept': True, 'solver': 'lbfgs'}. Best is trial 14 with value: 0.8469221835075494.\u001b[0m\n",
      "C:\\Users\\Apiseg\\AppData\\Local\\Temp\\ipykernel_26520\\803267002.py:5: FutureWarning: suggest_loguniform has been deprecated in v3.0.0. This feature will be removed in v6.0.0. See https://github.com/optuna/optuna/releases/tag/v3.0.0. Use :func:`~optuna.trial.Trial.suggest_float` instead.\n",
      "  'C': trial.suggest_loguniform('C', 1e-4, 100),\n",
      "\u001b[32m[I 2023-05-08 00:02:53,475]\u001b[0m Trial 26 finished with value: 0.8449864498644987 and parameters: {'penalty': 'l2', 'C': 0.0002592856366871269, 'fit_intercept': True, 'solver': 'lbfgs'}. Best is trial 14 with value: 0.8469221835075494.\u001b[0m\n",
      "C:\\Users\\Apiseg\\AppData\\Local\\Temp\\ipykernel_26520\\803267002.py:5: FutureWarning: suggest_loguniform has been deprecated in v3.0.0. This feature will be removed in v6.0.0. See https://github.com/optuna/optuna/releases/tag/v3.0.0. Use :func:`~optuna.trial.Trial.suggest_float` instead.\n",
      "  'C': trial.suggest_loguniform('C', 1e-4, 100),\n",
      "\u001b[32m[I 2023-05-08 00:02:54,075]\u001b[0m Trial 27 finished with value: 0.8433604336043361 and parameters: {'penalty': 'l2', 'C': 0.006409291750152326, 'fit_intercept': False, 'solver': 'lbfgs'}. Best is trial 14 with value: 0.8469221835075494.\u001b[0m\n",
      "C:\\Users\\Apiseg\\AppData\\Local\\Temp\\ipykernel_26520\\803267002.py:5: FutureWarning: suggest_loguniform has been deprecated in v3.0.0. This feature will be removed in v6.0.0. See https://github.com/optuna/optuna/releases/tag/v3.0.0. Use :func:`~optuna.trial.Trial.suggest_float` instead.\n",
      "  'C': trial.suggest_loguniform('C', 1e-4, 100),\n",
      "\u001b[32m[I 2023-05-08 00:02:54,631]\u001b[0m Trial 28 finished with value: 0.8475416182733255 and parameters: {'penalty': 'l2', 'C': 0.0008940289042075996, 'fit_intercept': True, 'solver': 'liblinear'}. Best is trial 28 with value: 0.8475416182733255.\u001b[0m\n"
     ]
    },
    {
     "name": "stderr",
     "output_type": "stream",
     "text": [
      "C:\\Users\\Apiseg\\AppData\\Local\\Temp\\ipykernel_26520\\803267002.py:5: FutureWarning: suggest_loguniform has been deprecated in v3.0.0. This feature will be removed in v6.0.0. See https://github.com/optuna/optuna/releases/tag/v3.0.0. Use :func:`~optuna.trial.Trial.suggest_float` instead.\n",
      "  'C': trial.suggest_loguniform('C', 1e-4, 100),\n",
      "\u001b[32m[I 2023-05-08 00:02:55,189]\u001b[0m Trial 29 finished with value: 0.8501742160278745 and parameters: {'penalty': 'l2', 'C': 0.0009619133519012619, 'fit_intercept': False, 'solver': 'liblinear'}. Best is trial 29 with value: 0.8501742160278745.\u001b[0m\n",
      "C:\\Users\\Apiseg\\AppData\\Local\\Temp\\ipykernel_26520\\803267002.py:5: FutureWarning: suggest_loguniform has been deprecated in v3.0.0. This feature will be removed in v6.0.0. See https://github.com/optuna/optuna/releases/tag/v3.0.0. Use :func:`~optuna.trial.Trial.suggest_float` instead.\n",
      "  'C': trial.suggest_loguniform('C', 1e-4, 100),\n",
      "\u001b[32m[I 2023-05-08 00:02:55,918]\u001b[0m Trial 30 finished with value: 0.843321718931475 and parameters: {'penalty': 'l2', 'C': 0.0074024360688274525, 'fit_intercept': False, 'solver': 'liblinear'}. Best is trial 29 with value: 0.8501742160278745.\u001b[0m\n",
      "C:\\Users\\Apiseg\\AppData\\Local\\Temp\\ipykernel_26520\\803267002.py:5: FutureWarning: suggest_loguniform has been deprecated in v3.0.0. This feature will be removed in v6.0.0. See https://github.com/optuna/optuna/releases/tag/v3.0.0. Use :func:`~optuna.trial.Trial.suggest_float` instead.\n",
      "  'C': trial.suggest_loguniform('C', 1e-4, 100),\n",
      "\u001b[32m[I 2023-05-08 00:02:56,472]\u001b[0m Trial 31 finished with value: 0.851374370886566 and parameters: {'penalty': 'l2', 'C': 0.0008616531617834165, 'fit_intercept': False, 'solver': 'liblinear'}. Best is trial 31 with value: 0.851374370886566.\u001b[0m\n",
      "C:\\Users\\Apiseg\\AppData\\Local\\Temp\\ipykernel_26520\\803267002.py:5: FutureWarning: suggest_loguniform has been deprecated in v3.0.0. This feature will be removed in v6.0.0. See https://github.com/optuna/optuna/releases/tag/v3.0.0. Use :func:`~optuna.trial.Trial.suggest_float` instead.\n",
      "  'C': trial.suggest_loguniform('C', 1e-4, 100),\n",
      "\u001b[32m[I 2023-05-08 00:02:57,070]\u001b[0m Trial 32 finished with value: 0.8510259388308169 and parameters: {'penalty': 'l2', 'C': 0.0008953374541804457, 'fit_intercept': False, 'solver': 'liblinear'}. Best is trial 31 with value: 0.851374370886566.\u001b[0m\n",
      "C:\\Users\\Apiseg\\AppData\\Local\\Temp\\ipykernel_26520\\803267002.py:5: FutureWarning: suggest_loguniform has been deprecated in v3.0.0. This feature will be removed in v6.0.0. See https://github.com/optuna/optuna/releases/tag/v3.0.0. Use :func:`~optuna.trial.Trial.suggest_float` instead.\n",
      "  'C': trial.suggest_loguniform('C', 1e-4, 100),\n",
      "\u001b[32m[I 2023-05-08 00:02:57,791]\u001b[0m Trial 33 finished with value: 0.8503290747193187 and parameters: {'penalty': 'l2', 'C': 0.0009368911074736246, 'fit_intercept': False, 'solver': 'liblinear'}. Best is trial 31 with value: 0.851374370886566.\u001b[0m\n",
      "C:\\Users\\Apiseg\\AppData\\Local\\Temp\\ipykernel_26520\\803267002.py:5: FutureWarning: suggest_loguniform has been deprecated in v3.0.0. This feature will be removed in v6.0.0. See https://github.com/optuna/optuna/releases/tag/v3.0.0. Use :func:`~optuna.trial.Trial.suggest_float` instead.\n",
      "  'C': trial.suggest_loguniform('C', 1e-4, 100),\n",
      "\u001b[32m[I 2023-05-08 00:02:58,594]\u001b[0m Trial 34 finished with value: 0.8457994579945799 and parameters: {'penalty': 'l2', 'C': 0.001947592131300622, 'fit_intercept': False, 'solver': 'liblinear'}. Best is trial 31 with value: 0.851374370886566.\u001b[0m\n",
      "C:\\Users\\Apiseg\\AppData\\Local\\Temp\\ipykernel_26520\\803267002.py:5: FutureWarning: suggest_loguniform has been deprecated in v3.0.0. This feature will be removed in v6.0.0. See https://github.com/optuna/optuna/releases/tag/v3.0.0. Use :func:`~optuna.trial.Trial.suggest_float` instead.\n",
      "  'C': trial.suggest_loguniform('C', 1e-4, 100),\n",
      "\u001b[32m[I 2023-05-08 00:02:59,453]\u001b[0m Trial 35 finished with value: 0.8426635694928377 and parameters: {'penalty': 'l2', 'C': 0.009413537516908686, 'fit_intercept': False, 'solver': 'liblinear'}. Best is trial 31 with value: 0.851374370886566.\u001b[0m\n",
      "C:\\Users\\Apiseg\\AppData\\Local\\Temp\\ipykernel_26520\\803267002.py:5: FutureWarning: suggest_loguniform has been deprecated in v3.0.0. This feature will be removed in v6.0.0. See https://github.com/optuna/optuna/releases/tag/v3.0.0. Use :func:`~optuna.trial.Trial.suggest_float` instead.\n",
      "  'C': trial.suggest_loguniform('C', 1e-4, 100),\n",
      "\u001b[32m[I 2023-05-08 00:03:00,169]\u001b[0m Trial 36 finished with value: 0.8530003871467287 and parameters: {'penalty': 'l2', 'C': 0.0006963215341185068, 'fit_intercept': False, 'solver': 'liblinear'}. Best is trial 36 with value: 0.8530003871467287.\u001b[0m\n",
      "C:\\Users\\Apiseg\\AppData\\Local\\Temp\\ipykernel_26520\\803267002.py:5: FutureWarning: suggest_loguniform has been deprecated in v3.0.0. This feature will be removed in v6.0.0. See https://github.com/optuna/optuna/releases/tag/v3.0.0. Use :func:`~optuna.trial.Trial.suggest_float` instead.\n",
      "  'C': trial.suggest_loguniform('C', 1e-4, 100),\n",
      "\u001b[32m[I 2023-05-08 00:03:00,866]\u001b[0m Trial 37 finished with value: 0.8445993031358885 and parameters: {'penalty': 'l2', 'C': 0.002892469007456295, 'fit_intercept': False, 'solver': 'liblinear'}. Best is trial 36 with value: 0.8530003871467287.\u001b[0m\n",
      "C:\\Users\\Apiseg\\AppData\\Local\\Temp\\ipykernel_26520\\803267002.py:5: FutureWarning: suggest_loguniform has been deprecated in v3.0.0. This feature will be removed in v6.0.0. See https://github.com/optuna/optuna/releases/tag/v3.0.0. Use :func:`~optuna.trial.Trial.suggest_float` instead.\n",
      "  'C': trial.suggest_loguniform('C', 1e-4, 100),\n",
      "\u001b[32m[I 2023-05-08 00:03:01,438]\u001b[0m Trial 38 finished with value: 0.8527680991095625 and parameters: {'penalty': 'l2', 'C': 0.0007170797324870577, 'fit_intercept': False, 'solver': 'liblinear'}. Best is trial 36 with value: 0.8530003871467287.\u001b[0m\n",
      "C:\\Users\\Apiseg\\AppData\\Local\\Temp\\ipykernel_26520\\803267002.py:5: FutureWarning: suggest_loguniform has been deprecated in v3.0.0. This feature will be removed in v6.0.0. See https://github.com/optuna/optuna/releases/tag/v3.0.0. Use :func:`~optuna.trial.Trial.suggest_float` instead.\n",
      "  'C': trial.suggest_loguniform('C', 1e-4, 100),\n",
      "\u001b[32m[I 2023-05-08 00:03:02,169]\u001b[0m Trial 39 finished with value: 0.8415408439798684 and parameters: {'penalty': 'l2', 'C': 0.02812903965011479, 'fit_intercept': False, 'solver': 'liblinear'}. Best is trial 36 with value: 0.8530003871467287.\u001b[0m\n",
      "C:\\Users\\Apiseg\\AppData\\Local\\Temp\\ipykernel_26520\\803267002.py:5: FutureWarning: suggest_loguniform has been deprecated in v3.0.0. This feature will be removed in v6.0.0. See https://github.com/optuna/optuna/releases/tag/v3.0.0. Use :func:`~optuna.trial.Trial.suggest_float` instead.\n",
      "  'C': trial.suggest_loguniform('C', 1e-4, 100),\n",
      "\u001b[32m[I 2023-05-08 00:03:02,947]\u001b[0m Trial 40 finished with value: 0.8421215640727835 and parameters: {'penalty': 'l2', 'C': 0.016430849788730946, 'fit_intercept': False, 'solver': 'liblinear'}. Best is trial 36 with value: 0.8530003871467287.\u001b[0m\n",
      "C:\\Users\\Apiseg\\AppData\\Local\\Temp\\ipykernel_26520\\803267002.py:5: FutureWarning: suggest_loguniform has been deprecated in v3.0.0. This feature will be removed in v6.0.0. See https://github.com/optuna/optuna/releases/tag/v3.0.0. Use :func:`~optuna.trial.Trial.suggest_float` instead.\n",
      "  'C': trial.suggest_loguniform('C', 1e-4, 100),\n",
      "\u001b[32m[I 2023-05-08 00:03:03,692]\u001b[0m Trial 41 finished with value: 0.8546264034068912 and parameters: {'penalty': 'l2', 'C': 0.000570755383572063, 'fit_intercept': False, 'solver': 'liblinear'}. Best is trial 41 with value: 0.8546264034068912.\u001b[0m\n",
      "C:\\Users\\Apiseg\\AppData\\Local\\Temp\\ipykernel_26520\\803267002.py:5: FutureWarning: suggest_loguniform has been deprecated in v3.0.0. This feature will be removed in v6.0.0. See https://github.com/optuna/optuna/releases/tag/v3.0.0. Use :func:`~optuna.trial.Trial.suggest_float` instead.\n",
      "  'C': trial.suggest_loguniform('C', 1e-4, 100),\n",
      "\u001b[32m[I 2023-05-08 00:03:04,335]\u001b[0m Trial 42 finished with value: 0.8603174603174605 and parameters: {'penalty': 'l2', 'C': 0.0002899033008555221, 'fit_intercept': False, 'solver': 'liblinear'}. Best is trial 42 with value: 0.8603174603174605.\u001b[0m\n",
      "C:\\Users\\Apiseg\\AppData\\Local\\Temp\\ipykernel_26520\\803267002.py:5: FutureWarning: suggest_loguniform has been deprecated in v3.0.0. This feature will be removed in v6.0.0. See https://github.com/optuna/optuna/releases/tag/v3.0.0. Use :func:`~optuna.trial.Trial.suggest_float` instead.\n",
      "  'C': trial.suggest_loguniform('C', 1e-4, 100),\n"
     ]
    },
    {
     "name": "stderr",
     "output_type": "stream",
     "text": [
      "\u001b[32m[I 2023-05-08 00:03:04,964]\u001b[0m Trial 43 finished with value: 0.8606271777003484 and parameters: {'penalty': 'l2', 'C': 0.0002833201004559872, 'fit_intercept': False, 'solver': 'liblinear'}. Best is trial 43 with value: 0.8606271777003484.\u001b[0m\n",
      "C:\\Users\\Apiseg\\AppData\\Local\\Temp\\ipykernel_26520\\803267002.py:5: FutureWarning: suggest_loguniform has been deprecated in v3.0.0. This feature will be removed in v6.0.0. See https://github.com/optuna/optuna/releases/tag/v3.0.0. Use :func:`~optuna.trial.Trial.suggest_float` instead.\n",
      "  'C': trial.suggest_loguniform('C', 1e-4, 100),\n",
      "\u001b[32m[I 2023-05-08 00:03:07,623]\u001b[0m Trial 44 finished with value: 0.862137049941928 and parameters: {'penalty': 'l2', 'C': 0.0002475221055606221, 'fit_intercept': False, 'solver': 'saga'}. Best is trial 44 with value: 0.862137049941928.\u001b[0m\n",
      "C:\\Users\\Apiseg\\AppData\\Local\\Temp\\ipykernel_26520\\803267002.py:5: FutureWarning: suggest_loguniform has been deprecated in v3.0.0. This feature will be removed in v6.0.0. See https://github.com/optuna/optuna/releases/tag/v3.0.0. Use :func:`~optuna.trial.Trial.suggest_float` instead.\n",
      "  'C': trial.suggest_loguniform('C', 1e-4, 100),\n",
      "\u001b[32m[I 2023-05-08 00:03:10,063]\u001b[0m Trial 45 finished with value: 0.8597754548974061 and parameters: {'penalty': 'l2', 'C': 0.00030187163830710357, 'fit_intercept': False, 'solver': 'saga'}. Best is trial 44 with value: 0.862137049941928.\u001b[0m\n",
      "C:\\Users\\Apiseg\\AppData\\Local\\Temp\\ipykernel_26520\\803267002.py:5: FutureWarning: suggest_loguniform has been deprecated in v3.0.0. This feature will be removed in v6.0.0. See https://github.com/optuna/optuna/releases/tag/v3.0.0. Use :func:`~optuna.trial.Trial.suggest_float` instead.\n",
      "  'C': trial.suggest_loguniform('C', 1e-4, 100),\n",
      "\u001b[32m[I 2023-05-08 00:03:12,398]\u001b[0m Trial 46 finished with value: 0.8623306233062331 and parameters: {'penalty': 'l2', 'C': 0.0002437712597839169, 'fit_intercept': False, 'solver': 'saga'}. Best is trial 46 with value: 0.8623306233062331.\u001b[0m\n",
      "C:\\Users\\Apiseg\\AppData\\Local\\Temp\\ipykernel_26520\\803267002.py:5: FutureWarning: suggest_loguniform has been deprecated in v3.0.0. This feature will be removed in v6.0.0. See https://github.com/optuna/optuna/releases/tag/v3.0.0. Use :func:`~optuna.trial.Trial.suggest_float` instead.\n",
      "  'C': trial.suggest_loguniform('C', 1e-4, 100),\n",
      "\u001b[32m[I 2023-05-08 00:03:15,579]\u001b[0m Trial 47 finished with value: 0.8626790553619822 and parameters: {'penalty': 'l2', 'C': 0.00023769135630350113, 'fit_intercept': False, 'solver': 'saga'}. Best is trial 47 with value: 0.8626790553619822.\u001b[0m\n",
      "C:\\Users\\Apiseg\\AppData\\Local\\Temp\\ipykernel_26520\\803267002.py:5: FutureWarning: suggest_loguniform has been deprecated in v3.0.0. This feature will be removed in v6.0.0. See https://github.com/optuna/optuna/releases/tag/v3.0.0. Use :func:`~optuna.trial.Trial.suggest_float` instead.\n",
      "  'C': trial.suggest_loguniform('C', 1e-4, 100),\n",
      "\u001b[32m[I 2023-05-08 00:03:18,067]\u001b[0m Trial 48 finished with value: 0.8615563298490129 and parameters: {'penalty': 'l2', 'C': 0.0002569280719161668, 'fit_intercept': False, 'solver': 'saga'}. Best is trial 47 with value: 0.8626790553619822.\u001b[0m\n",
      "C:\\Users\\Apiseg\\AppData\\Local\\Temp\\ipykernel_26520\\803267002.py:5: FutureWarning: suggest_loguniform has been deprecated in v3.0.0. This feature will be removed in v6.0.0. See https://github.com/optuna/optuna/releases/tag/v3.0.0. Use :func:`~optuna.trial.Trial.suggest_float` instead.\n",
      "  'C': trial.suggest_loguniform('C', 1e-4, 100),\n",
      "\u001b[32m[I 2023-05-08 00:03:20,386]\u001b[0m Trial 49 finished with value: 0.8648857917150601 and parameters: {'penalty': 'l2', 'C': 0.00018869812691420546, 'fit_intercept': False, 'solver': 'saga'}. Best is trial 49 with value: 0.8648857917150601.\u001b[0m\n"
     ]
    }
   ],
   "source": [
    "def objective(trial):\n",
    "    # Define the hyperparameters to be tuned by Optuna\n",
    "    params = {\n",
    "        'penalty': trial.suggest_categorical('penalty', ['l2']),\n",
    "        'C': trial.suggest_loguniform('C', 1e-4, 100),\n",
    "        'fit_intercept': trial.suggest_categorical('fit_intercept', [True, False]),\n",
    "        'solver': trial.suggest_categorical('solver', ['lbfgs', 'liblinear', 'saga'])\n",
    "    }\n",
    "    \n",
    "    # Train and evaluate the logistic regression model using cross-validation\n",
    "    skf = StratifiedKFold(n_splits=10, shuffle=True, random_state=1337)\n",
    "    all_scores = []\n",
    "    \n",
    "    for fold_id, (train_idx, val_idx) in enumerate(skf.split(X, y)):\n",
    "        X_tr, X_val = X[train_idx], X[val_idx]\n",
    "        y_tr, y_val = y[train_idx], y[val_idx]\n",
    "        \n",
    "        model = LogisticRegression(**params)\n",
    "        model.fit(X_tr, y_tr)\n",
    "        \n",
    "        y_pred = model.predict(X_val)\n",
    "        recall = recall_score(y_val, y_pred)\n",
    "        all_scores.append(recall)\n",
    "    \n",
    "    return np.mean(all_scores)\n",
    "\n",
    "study = optuna.create_study(direction='maximize')\n",
    "study.optimize(objective, n_trials=50)\n"
   ]
  },
  {
   "cell_type": "code",
   "execution_count": 67,
   "id": "0a96e2bd",
   "metadata": {},
   "outputs": [
    {
     "name": "stdout",
     "output_type": "stream",
     "text": [
      "Best trial:\n",
      "  Value: 0.8648857917150601\n",
      "  Params: \n",
      "    penalty: l2\n",
      "    C: 0.00018869812691420546\n",
      "    fit_intercept: False\n",
      "    solver: saga\n"
     ]
    },
    {
     "data": {
      "text/html": [
       "<style>#sk-container-id-1 {color: black;background-color: white;}#sk-container-id-1 pre{padding: 0;}#sk-container-id-1 div.sk-toggleable {background-color: white;}#sk-container-id-1 label.sk-toggleable__label {cursor: pointer;display: block;width: 100%;margin-bottom: 0;padding: 0.3em;box-sizing: border-box;text-align: center;}#sk-container-id-1 label.sk-toggleable__label-arrow:before {content: \"▸\";float: left;margin-right: 0.25em;color: #696969;}#sk-container-id-1 label.sk-toggleable__label-arrow:hover:before {color: black;}#sk-container-id-1 div.sk-estimator:hover label.sk-toggleable__label-arrow:before {color: black;}#sk-container-id-1 div.sk-toggleable__content {max-height: 0;max-width: 0;overflow: hidden;text-align: left;background-color: #f0f8ff;}#sk-container-id-1 div.sk-toggleable__content pre {margin: 0.2em;color: black;border-radius: 0.25em;background-color: #f0f8ff;}#sk-container-id-1 input.sk-toggleable__control:checked~div.sk-toggleable__content {max-height: 200px;max-width: 100%;overflow: auto;}#sk-container-id-1 input.sk-toggleable__control:checked~label.sk-toggleable__label-arrow:before {content: \"▾\";}#sk-container-id-1 div.sk-estimator input.sk-toggleable__control:checked~label.sk-toggleable__label {background-color: #d4ebff;}#sk-container-id-1 div.sk-label input.sk-toggleable__control:checked~label.sk-toggleable__label {background-color: #d4ebff;}#sk-container-id-1 input.sk-hidden--visually {border: 0;clip: rect(1px 1px 1px 1px);clip: rect(1px, 1px, 1px, 1px);height: 1px;margin: -1px;overflow: hidden;padding: 0;position: absolute;width: 1px;}#sk-container-id-1 div.sk-estimator {font-family: monospace;background-color: #f0f8ff;border: 1px dotted black;border-radius: 0.25em;box-sizing: border-box;margin-bottom: 0.5em;}#sk-container-id-1 div.sk-estimator:hover {background-color: #d4ebff;}#sk-container-id-1 div.sk-parallel-item::after {content: \"\";width: 100%;border-bottom: 1px solid gray;flex-grow: 1;}#sk-container-id-1 div.sk-label:hover label.sk-toggleable__label {background-color: #d4ebff;}#sk-container-id-1 div.sk-serial::before {content: \"\";position: absolute;border-left: 1px solid gray;box-sizing: border-box;top: 0;bottom: 0;left: 50%;z-index: 0;}#sk-container-id-1 div.sk-serial {display: flex;flex-direction: column;align-items: center;background-color: white;padding-right: 0.2em;padding-left: 0.2em;position: relative;}#sk-container-id-1 div.sk-item {position: relative;z-index: 1;}#sk-container-id-1 div.sk-parallel {display: flex;align-items: stretch;justify-content: center;background-color: white;position: relative;}#sk-container-id-1 div.sk-item::before, #sk-container-id-1 div.sk-parallel-item::before {content: \"\";position: absolute;border-left: 1px solid gray;box-sizing: border-box;top: 0;bottom: 0;left: 50%;z-index: -1;}#sk-container-id-1 div.sk-parallel-item {display: flex;flex-direction: column;z-index: 1;position: relative;background-color: white;}#sk-container-id-1 div.sk-parallel-item:first-child::after {align-self: flex-end;width: 50%;}#sk-container-id-1 div.sk-parallel-item:last-child::after {align-self: flex-start;width: 50%;}#sk-container-id-1 div.sk-parallel-item:only-child::after {width: 0;}#sk-container-id-1 div.sk-dashed-wrapped {border: 1px dashed gray;margin: 0 0.4em 0.5em 0.4em;box-sizing: border-box;padding-bottom: 0.4em;background-color: white;}#sk-container-id-1 div.sk-label label {font-family: monospace;font-weight: bold;display: inline-block;line-height: 1.2em;}#sk-container-id-1 div.sk-label-container {text-align: center;}#sk-container-id-1 div.sk-container {/* jupyter's `normalize.less` sets `[hidden] { display: none; }` but bootstrap.min.css set `[hidden] { display: none !important; }` so we also need the `!important` here to be able to override the default hidden behavior on the sphinx rendered scikit-learn.org. See: https://github.com/scikit-learn/scikit-learn/issues/21755 */display: inline-block !important;position: relative;}#sk-container-id-1 div.sk-text-repr-fallback {display: none;}</style><div id=\"sk-container-id-1\" class=\"sk-top-container\"><div class=\"sk-text-repr-fallback\"><pre>LogisticRegression(C=0.00018869812691420546, fit_intercept=False, solver=&#x27;saga&#x27;)</pre><b>In a Jupyter environment, please rerun this cell to show the HTML representation or trust the notebook. <br />On GitHub, the HTML representation is unable to render, please try loading this page with nbviewer.org.</b></div><div class=\"sk-container\" hidden><div class=\"sk-item\"><div class=\"sk-estimator sk-toggleable\"><input class=\"sk-toggleable__control sk-hidden--visually\" id=\"sk-estimator-id-1\" type=\"checkbox\" checked><label for=\"sk-estimator-id-1\" class=\"sk-toggleable__label sk-toggleable__label-arrow\">LogisticRegression</label><div class=\"sk-toggleable__content\"><pre>LogisticRegression(C=0.00018869812691420546, fit_intercept=False, solver=&#x27;saga&#x27;)</pre></div></div></div></div></div>"
      ],
      "text/plain": [
       "LogisticRegression(C=0.00018869812691420546, fit_intercept=False, solver='saga')"
      ]
     },
     "execution_count": 67,
     "metadata": {},
     "output_type": "execute_result"
    }
   ],
   "source": [
    "print(\"Best trial:\")\n",
    "trial = study.best_trial\n",
    "print(\"  Value: {}\".format(trial.value))\n",
    "print(\"  Params: \")\n",
    "for key, value in trial.params.items():\n",
    "    print(\"    {}: {}\".format(key, value))\n",
    "\n",
    "lr_best_params = trial.params\n",
    "\n",
    "lr_clf = LogisticRegression(**lr_best_params)\n",
    "#cross_validate(X_train, y, rf_clf)\n",
    "lr_clf.fit(X, y)"
   ]
  },
  {
   "cell_type": "code",
   "execution_count": null,
   "id": "47cf6deb",
   "metadata": {},
   "outputs": [],
   "source": []
  },
  {
   "cell_type": "code",
   "execution_count": 23,
   "id": "af7e0d8c",
   "metadata": {},
   "outputs": [
    {
     "name": "stdout",
     "output_type": "stream",
     "text": [
      "              precision    recall  f1-score   support\n",
      "\n",
      "           0       0.86      0.79      0.82      2946\n",
      "           1       0.53      0.65      0.58      1086\n",
      "\n",
      "    accuracy                           0.75      4032\n",
      "   macro avg       0.70      0.72      0.70      4032\n",
      "weighted avg       0.77      0.75      0.76      4032\n",
      "\n",
      "Accuracy_value:  0.7527281746031746\n",
      "f1_score_value:  0.5847563515201999\n",
      "recall_value:  0.6464088397790055\n"
     ]
    },
    {
     "name": "stderr",
     "output_type": "stream",
     "text": [
      "C:\\Users\\Apiseg\\anaconda3\\envs\\churn\\lib\\site-packages\\sklearn\\base.py:432: UserWarning: X has feature names, but LogisticRegression was fitted without feature names\n",
      "  warnings.warn(\n"
     ]
    }
   ],
   "source": [
    "lr_y_pred = lr_clf.predict(X_test)\n",
    "print(classification_report(y_test,lr_y_pred))\n",
    "print(\"Accuracy_value: \", accuracy_score(y_test, lr_y_pred))\n",
    "print(\"f1_score_value: \", f1_score(y_test, lr_y_pred))\n",
    "print(\"recall_value: \", recall_score(y_test, lr_y_pred))"
   ]
  },
  {
   "cell_type": "code",
   "execution_count": 32,
   "id": "214f4486",
   "metadata": {},
   "outputs": [
    {
     "data": {
      "text/plain": [
       "['lr_model.joblib']"
      ]
     },
     "execution_count": 32,
     "metadata": {},
     "output_type": "execute_result"
    }
   ],
   "source": [
    "# Save the trained model to a file\n",
    "dump(lr_clf, 'lr_model.joblib')"
   ]
  },
  {
   "cell_type": "markdown",
   "id": "54260c8d",
   "metadata": {},
   "source": [
    "# XGBoost"
   ]
  },
  {
   "cell_type": "code",
   "execution_count": 24,
   "id": "22ab3f6a",
   "metadata": {},
   "outputs": [
    {
     "name": "stderr",
     "output_type": "stream",
     "text": [
      "\u001b[32m[I 2023-05-02 11:50:32,802]\u001b[0m A new study created in memory with name: no-name-1a8cf713-f341-4730-bc0b-552a91248ad5\u001b[0m\n",
      "\u001b[32m[I 2023-05-02 11:50:59,759]\u001b[0m Trial 0 finished with value: 0.8913384350369139 and parameters: {'n_estimators': 434, 'max_depth': 4, 'learning_rate': 0.018669861667079755, 'min_child_weight': 6, 'subsample': 0.6847512489578057, 'colsample_bytree': 0.13458245283546158}. Best is trial 0 with value: 0.8913384350369139.\u001b[0m\n",
      "\u001b[32m[I 2023-05-02 11:51:56,038]\u001b[0m Trial 1 finished with value: 0.8892609948996453 and parameters: {'n_estimators': 442, 'max_depth': 6, 'learning_rate': 0.07195537597200029, 'min_child_weight': 8, 'subsample': 0.7925141151690677, 'colsample_bytree': 0.5100843600605112}. Best is trial 0 with value: 0.8913384350369139.\u001b[0m\n",
      "\u001b[32m[I 2023-05-02 11:52:25,935]\u001b[0m Trial 2 finished with value: 0.8918080022014754 and parameters: {'n_estimators': 296, 'max_depth': 8, 'learning_rate': 0.010090201142491442, 'min_child_weight': 4, 'subsample': 0.12255479540540522, 'colsample_bytree': 0.3844729435937885}. Best is trial 2 with value: 0.8918080022014754.\u001b[0m\n",
      "\u001b[32m[I 2023-05-02 11:52:57,250]\u001b[0m Trial 3 finished with value: 0.8916993298299776 and parameters: {'n_estimators': 492, 'max_depth': 4, 'learning_rate': 0.0515453324892206, 'min_child_weight': 4, 'subsample': 0.17715639271929806, 'colsample_bytree': 0.26077193322762326}. Best is trial 2 with value: 0.8918080022014754.\u001b[0m\n",
      "\u001b[32m[I 2023-05-02 11:54:00,456]\u001b[0m Trial 4 finished with value: 0.8905467477051852 and parameters: {'n_estimators': 409, 'max_depth': 5, 'learning_rate': 0.05357149397004928, 'min_child_weight': 3, 'subsample': 0.9152260852939093, 'colsample_bytree': 0.9271718345055329}. Best is trial 2 with value: 0.8918080022014754.\u001b[0m\n",
      "\u001b[32m[I 2023-05-02 11:55:20,165]\u001b[0m Trial 5 finished with value: 0.8853826704850757 and parameters: {'n_estimators': 419, 'max_depth': 9, 'learning_rate': 0.043859848432841374, 'min_child_weight': 2, 'subsample': 0.4264150554598639, 'colsample_bytree': 0.6718769914334797}. Best is trial 2 with value: 0.8918080022014754.\u001b[0m\n",
      "\u001b[32m[I 2023-05-02 11:55:40,091]\u001b[0m Trial 6 finished with value: 0.8925369112106031 and parameters: {'n_estimators': 186, 'max_depth': 4, 'learning_rate': 0.05095498627162097, 'min_child_weight': 3, 'subsample': 0.6720624526948957, 'colsample_bytree': 0.6254818459470338}. Best is trial 6 with value: 0.8925369112106031.\u001b[0m\n",
      "\u001b[32m[I 2023-05-02 11:55:55,319]\u001b[0m Trial 7 finished with value: 0.8917697971294188 and parameters: {'n_estimators': 132, 'max_depth': 7, 'learning_rate': 0.045194854273085214, 'min_child_weight': 7, 'subsample': 0.22239040013856182, 'colsample_bytree': 0.5330039093683089}. Best is trial 6 with value: 0.8925369112106031.\u001b[0m\n",
      "\u001b[32m[I 2023-05-02 11:56:26,280]\u001b[0m Trial 8 finished with value: 0.8917954570287364 and parameters: {'n_estimators': 192, 'max_depth': 10, 'learning_rate': 0.02800362214106882, 'min_child_weight': 9, 'subsample': 0.5134090771028627, 'colsample_bytree': 0.3156089755489653}. Best is trial 6 with value: 0.8925369112106031.\u001b[0m\n",
      "\u001b[32m[I 2023-05-02 11:56:52,944]\u001b[0m Trial 9 finished with value: 0.8894045374555842 and parameters: {'n_estimators': 197, 'max_depth': 6, 'learning_rate': 0.09301074571966045, 'min_child_weight': 9, 'subsample': 0.4956694416509655, 'colsample_bytree': 0.6528416365439791}. Best is trial 6 with value: 0.8925369112106031.\u001b[0m\n",
      "\u001b[32m[I 2023-05-02 11:57:02,972]\u001b[0m Trial 10 finished with value: 0.8757006224174292 and parameters: {'n_estimators': 94, 'max_depth': 3, 'learning_rate': 0.006526295452797766, 'min_child_weight': 1, 'subsample': 0.9858693970262808, 'colsample_bytree': 0.8409905363614145}. Best is trial 6 with value: 0.8925369112106031.\u001b[0m\n",
      "\u001b[32m[I 2023-05-02 11:57:38,949]\u001b[0m Trial 11 finished with value: 0.8909962605792752 and parameters: {'n_estimators': 278, 'max_depth': 8, 'learning_rate': 0.00279363775352396, 'min_child_weight': 4, 'subsample': 0.3155882327563877, 'colsample_bytree': 0.41153596235816126}. Best is trial 6 with value: 0.8925369112106031.\u001b[0m\n",
      "\u001b[32m[I 2023-05-02 11:58:00,506]\u001b[0m Trial 12 finished with value: 0.8913194299245685 and parameters: {'n_estimators': 309, 'max_depth': 2, 'learning_rate': 0.02621953860966182, 'min_child_weight': 5, 'subsample': 0.6547525145143595, 'colsample_bytree': 0.6751513242441884}. Best is trial 6 with value: 0.8925369112106031.\u001b[0m\n",
      "\u001b[32m[I 2023-05-02 11:58:45,364]\u001b[0m Trial 13 finished with value: 0.8908237007540144 and parameters: {'n_estimators': 327, 'max_depth': 8, 'learning_rate': 0.03324419370600988, 'min_child_weight': 3, 'subsample': 0.34387391969893166, 'colsample_bytree': 0.4144440510946785}. Best is trial 6 with value: 0.8925369112106031.\u001b[0m\n",
      "\u001b[32m[I 2023-05-02 11:58:56,973]\u001b[0m Trial 14 finished with value: 0.890126881607293 and parameters: {'n_estimators': 211, 'max_depth': 5, 'learning_rate': 0.06647745749687034, 'min_child_weight': 1, 'subsample': 0.10088073348239704, 'colsample_bytree': 0.10338628225352264}. Best is trial 6 with value: 0.8925369112106031.\u001b[0m\n",
      "\u001b[32m[I 2023-05-02 12:00:25,424]\u001b[0m Trial 15 finished with value: 0.8903307743878834 and parameters: {'n_estimators': 345, 'max_depth': 10, 'learning_rate': 0.014920767081354182, 'min_child_weight': 6, 'subsample': 0.6168793017378674, 'colsample_bytree': 0.7781065792834291}. Best is trial 6 with value: 0.8925369112106031.\u001b[0m\n",
      "\u001b[32m[I 2023-05-02 12:01:03,502]\u001b[0m Trial 16 finished with value: 0.8913628434166097 and parameters: {'n_estimators': 243, 'max_depth': 7, 'learning_rate': 0.037238390297694005, 'min_child_weight': 4, 'subsample': 0.4389841395206726, 'colsample_bytree': 0.5861893538260091}. Best is trial 6 with value: 0.8925369112106031.\u001b[0m\n",
      "\u001b[32m[I 2023-05-02 12:01:07,835]\u001b[0m Trial 17 finished with value: 0.8788005915566043 and parameters: {'n_estimators': 56, 'max_depth': 2, 'learning_rate': 0.016068945249383446, 'min_child_weight': 2, 'subsample': 0.5592414952849162, 'colsample_bytree': 0.47268752201478914}. Best is trial 6 with value: 0.8925369112106031.\u001b[0m\n",
      "\u001b[32m[I 2023-05-02 12:01:27,162]\u001b[0m Trial 18 finished with value: 0.8778325148994537 and parameters: {'n_estimators': 149, 'max_depth': 4, 'learning_rate': 0.002791247760858699, 'min_child_weight': 5, 'subsample': 0.7847612256664647, 'colsample_bytree': 0.9687145599344421}. Best is trial 6 with value: 0.8925369112106031.\u001b[0m\n",
      "\u001b[32m[I 2023-05-02 12:02:21,659]\u001b[0m Trial 19 finished with value: 0.8911262387608667 and parameters: {'n_estimators': 358, 'max_depth': 8, 'learning_rate': 0.02455274543134397, 'min_child_weight': 3, 'subsample': 0.33137000418759194, 'colsample_bytree': 0.6028247016880701}. Best is trial 6 with value: 0.8925369112106031.\u001b[0m\n",
      "\u001b[32m[I 2023-05-02 12:02:43,729]\u001b[0m Trial 20 finished with value: 0.8918516330232713 and parameters: {'n_estimators': 265, 'max_depth': 5, 'learning_rate': 0.03758853393245003, 'min_child_weight': 7, 'subsample': 0.10912291338770769, 'colsample_bytree': 0.742070663433129}. Best is trial 6 with value: 0.8925369112106031.\u001b[0m\n",
      "\u001b[32m[I 2023-05-02 12:03:07,353]\u001b[0m Trial 21 finished with value: 0.8916720062339168 and parameters: {'n_estimators': 261, 'max_depth': 5, 'learning_rate': 0.038736427261766244, 'min_child_weight': 7, 'subsample': 0.12095659220665525, 'colsample_bytree': 0.7548321587144079}. Best is trial 6 with value: 0.8925369112106031.\u001b[0m\n",
      "\u001b[32m[I 2023-05-02 12:03:27,748]\u001b[0m Trial 22 finished with value: 0.8922944386514825 and parameters: {'n_estimators': 293, 'max_depth': 3, 'learning_rate': 0.032530625929413054, 'min_child_weight': 10, 'subsample': 0.22591030368488565, 'colsample_bytree': 0.7458950881132737}. Best is trial 6 with value: 0.8925369112106031.\u001b[0m\n",
      "\u001b[32m[I 2023-05-02 12:03:43,157]\u001b[0m Trial 23 finished with value: 0.8921540811005698 and parameters: {'n_estimators': 230, 'max_depth': 3, 'learning_rate': 0.03253471163139571, 'min_child_weight': 10, 'subsample': 0.19728769207588032, 'colsample_bytree': 0.7514012402146341}. Best is trial 6 with value: 0.8925369112106031.\u001b[0m\n",
      "\u001b[32m[I 2023-05-02 12:03:55,195]\u001b[0m Trial 24 finished with value: 0.8913713117829148 and parameters: {'n_estimators': 171, 'max_depth': 3, 'learning_rate': 0.03004865024923467, 'min_child_weight': 10, 'subsample': 0.21426980049491795, 'colsample_bytree': 0.8431060897524189}. Best is trial 6 with value: 0.8925369112106031.\u001b[0m\n"
     ]
    },
    {
     "name": "stderr",
     "output_type": "stream",
     "text": [
      "\u001b[32m[I 2023-05-02 12:04:10,181]\u001b[0m Trial 25 finished with value: 0.8911400654297456 and parameters: {'n_estimators': 223, 'max_depth': 3, 'learning_rate': 0.02184770132544344, 'min_child_weight': 10, 'subsample': 0.23788639867045652, 'colsample_bytree': 0.5883756449095491}. Best is trial 6 with value: 0.8925369112106031.\u001b[0m\n",
      "\u001b[32m[I 2023-05-02 12:04:32,155]\u001b[0m Trial 26 finished with value: 0.892166708708733 and parameters: {'n_estimators': 370, 'max_depth': 2, 'learning_rate': 0.057423803121460545, 'min_child_weight': 10, 'subsample': 0.2808135248395204, 'colsample_bytree': 0.7065166247157124}. Best is trial 6 with value: 0.8925369112106031.\u001b[0m\n",
      "\u001b[32m[I 2023-05-02 12:04:53,823]\u001b[0m Trial 27 finished with value: 0.8922192050856961 and parameters: {'n_estimators': 368, 'max_depth': 2, 'learning_rate': 0.060021436658141074, 'min_child_weight': 9, 'subsample': 0.28513976337485225, 'colsample_bytree': 0.6436229935159062}. Best is trial 6 with value: 0.8925369112106031.\u001b[0m\n",
      "\u001b[32m[I 2023-05-02 12:05:01,483]\u001b[0m Trial 28 finished with value: 0.8910829376807676 and parameters: {'n_estimators': 116, 'max_depth': 2, 'learning_rate': 0.06196586931807517, 'min_child_weight': 9, 'subsample': 0.3929260130875234, 'colsample_bytree': 0.601183428947479}. Best is trial 6 with value: 0.8925369112106031.\u001b[0m\n",
      "\u001b[32m[I 2023-05-02 12:05:33,022]\u001b[0m Trial 29 finished with value: 0.8917965286892512 and parameters: {'n_estimators': 378, 'max_depth': 4, 'learning_rate': 0.046712512076827896, 'min_child_weight': 8, 'subsample': 0.27212513976601294, 'colsample_bytree': 0.6575898618207094}. Best is trial 6 with value: 0.8925369112106031.\u001b[0m\n"
     ]
    }
   ],
   "source": [
    "def objective(trial):\n",
    "    xgb_params = {\n",
    "        \"n_estimators\": trial.suggest_int(\"n_estimators\", 50, 500),\n",
    "        \"max_depth\": trial.suggest_int(\"max_depth\", 2, 10),\n",
    "        \"learning_rate\": trial.suggest_float(\"learning_rate\", 0.001, 0.1),\n",
    "        \"min_child_weight\": trial.suggest_int(\"min_child_weight\", 1, 10),\n",
    "        \"subsample\": trial.suggest_float(\"subsample\", 0.1, 1.0),\n",
    "        \"colsample_bytree\": trial.suggest_float(\"colsample_bytree\", 0.1, 1.0),\n",
    "    }\n",
    "\n",
    "    xgb_clf = xgb.XGBClassifier(**xgb_params)\n",
    "\n",
    "    skf = StratifiedKFold(n_splits=10, shuffle=True, random_state=1337)\n",
    "    all_scores = []\n",
    "\n",
    "    for fold_id, (train_idx, val_idx) in enumerate(skf.split(X, y)):\n",
    "        X_tr, X_val = X[train_idx], X[val_idx]\n",
    "        y_tr, y_val = y[train_idx], y[val_idx]\n",
    "\n",
    "        xgb_clf.fit(X_tr, y_tr)\n",
    "\n",
    "        y_pred = xgb_clf.predict_proba(X_val)[:, 1]\n",
    "\n",
    "        auc = roc_auc_score(y_val, y_pred)\n",
    "\n",
    "        all_scores.append(auc)\n",
    "\n",
    "    avg_auc = np.mean(all_scores)\n",
    "\n",
    "    return avg_auc\n",
    "\n",
    "study = optuna.create_study(direction=\"maximize\")\n",
    "study.optimize(objective, n_trials=30)\n",
    "\n"
   ]
  },
  {
   "cell_type": "code",
   "execution_count": 25,
   "id": "bcf887cc",
   "metadata": {},
   "outputs": [
    {
     "name": "stdout",
     "output_type": "stream",
     "text": [
      "Best trial:\n",
      "  Value: 0.8925369112106031\n",
      "  Params: \n",
      "    n_estimators: 186\n",
      "    max_depth: 4\n",
      "    learning_rate: 0.05095498627162097\n",
      "    min_child_weight: 3\n",
      "    subsample: 0.6720624526948957\n",
      "    colsample_bytree: 0.6254818459470338\n"
     ]
    },
    {
     "data": {
      "text/html": [
       "<style>#sk-container-id-2 {color: black;background-color: white;}#sk-container-id-2 pre{padding: 0;}#sk-container-id-2 div.sk-toggleable {background-color: white;}#sk-container-id-2 label.sk-toggleable__label {cursor: pointer;display: block;width: 100%;margin-bottom: 0;padding: 0.3em;box-sizing: border-box;text-align: center;}#sk-container-id-2 label.sk-toggleable__label-arrow:before {content: \"▸\";float: left;margin-right: 0.25em;color: #696969;}#sk-container-id-2 label.sk-toggleable__label-arrow:hover:before {color: black;}#sk-container-id-2 div.sk-estimator:hover label.sk-toggleable__label-arrow:before {color: black;}#sk-container-id-2 div.sk-toggleable__content {max-height: 0;max-width: 0;overflow: hidden;text-align: left;background-color: #f0f8ff;}#sk-container-id-2 div.sk-toggleable__content pre {margin: 0.2em;color: black;border-radius: 0.25em;background-color: #f0f8ff;}#sk-container-id-2 input.sk-toggleable__control:checked~div.sk-toggleable__content {max-height: 200px;max-width: 100%;overflow: auto;}#sk-container-id-2 input.sk-toggleable__control:checked~label.sk-toggleable__label-arrow:before {content: \"▾\";}#sk-container-id-2 div.sk-estimator input.sk-toggleable__control:checked~label.sk-toggleable__label {background-color: #d4ebff;}#sk-container-id-2 div.sk-label input.sk-toggleable__control:checked~label.sk-toggleable__label {background-color: #d4ebff;}#sk-container-id-2 input.sk-hidden--visually {border: 0;clip: rect(1px 1px 1px 1px);clip: rect(1px, 1px, 1px, 1px);height: 1px;margin: -1px;overflow: hidden;padding: 0;position: absolute;width: 1px;}#sk-container-id-2 div.sk-estimator {font-family: monospace;background-color: #f0f8ff;border: 1px dotted black;border-radius: 0.25em;box-sizing: border-box;margin-bottom: 0.5em;}#sk-container-id-2 div.sk-estimator:hover {background-color: #d4ebff;}#sk-container-id-2 div.sk-parallel-item::after {content: \"\";width: 100%;border-bottom: 1px solid gray;flex-grow: 1;}#sk-container-id-2 div.sk-label:hover label.sk-toggleable__label {background-color: #d4ebff;}#sk-container-id-2 div.sk-serial::before {content: \"\";position: absolute;border-left: 1px solid gray;box-sizing: border-box;top: 0;bottom: 0;left: 50%;z-index: 0;}#sk-container-id-2 div.sk-serial {display: flex;flex-direction: column;align-items: center;background-color: white;padding-right: 0.2em;padding-left: 0.2em;position: relative;}#sk-container-id-2 div.sk-item {position: relative;z-index: 1;}#sk-container-id-2 div.sk-parallel {display: flex;align-items: stretch;justify-content: center;background-color: white;position: relative;}#sk-container-id-2 div.sk-item::before, #sk-container-id-2 div.sk-parallel-item::before {content: \"\";position: absolute;border-left: 1px solid gray;box-sizing: border-box;top: 0;bottom: 0;left: 50%;z-index: -1;}#sk-container-id-2 div.sk-parallel-item {display: flex;flex-direction: column;z-index: 1;position: relative;background-color: white;}#sk-container-id-2 div.sk-parallel-item:first-child::after {align-self: flex-end;width: 50%;}#sk-container-id-2 div.sk-parallel-item:last-child::after {align-self: flex-start;width: 50%;}#sk-container-id-2 div.sk-parallel-item:only-child::after {width: 0;}#sk-container-id-2 div.sk-dashed-wrapped {border: 1px dashed gray;margin: 0 0.4em 0.5em 0.4em;box-sizing: border-box;padding-bottom: 0.4em;background-color: white;}#sk-container-id-2 div.sk-label label {font-family: monospace;font-weight: bold;display: inline-block;line-height: 1.2em;}#sk-container-id-2 div.sk-label-container {text-align: center;}#sk-container-id-2 div.sk-container {/* jupyter's `normalize.less` sets `[hidden] { display: none; }` but bootstrap.min.css set `[hidden] { display: none !important; }` so we also need the `!important` here to be able to override the default hidden behavior on the sphinx rendered scikit-learn.org. See: https://github.com/scikit-learn/scikit-learn/issues/21755 */display: inline-block !important;position: relative;}#sk-container-id-2 div.sk-text-repr-fallback {display: none;}</style><div id=\"sk-container-id-2\" class=\"sk-top-container\"><div class=\"sk-text-repr-fallback\"><pre>XGBClassifier(base_score=None, booster=None, callbacks=None,\n",
       "              colsample_bylevel=None, colsample_bynode=None,\n",
       "              colsample_bytree=0.6254818459470338, early_stopping_rounds=None,\n",
       "              enable_categorical=False, eval_metric=None, feature_types=None,\n",
       "              gamma=None, gpu_id=None, grow_policy=None, importance_type=None,\n",
       "              interaction_constraints=None, learning_rate=0.05095498627162097,\n",
       "              max_bin=None, max_cat_threshold=None, max_cat_to_onehot=None,\n",
       "              max_delta_step=None, max_depth=4, max_leaves=None,\n",
       "              min_child_weight=3, missing=nan, monotone_constraints=None,\n",
       "              n_estimators=186, n_jobs=None, num_parallel_tree=None,\n",
       "              predictor=None, random_state=None, ...)</pre><b>In a Jupyter environment, please rerun this cell to show the HTML representation or trust the notebook. <br />On GitHub, the HTML representation is unable to render, please try loading this page with nbviewer.org.</b></div><div class=\"sk-container\" hidden><div class=\"sk-item\"><div class=\"sk-estimator sk-toggleable\"><input class=\"sk-toggleable__control sk-hidden--visually\" id=\"sk-estimator-id-2\" type=\"checkbox\" checked><label for=\"sk-estimator-id-2\" class=\"sk-toggleable__label sk-toggleable__label-arrow\">XGBClassifier</label><div class=\"sk-toggleable__content\"><pre>XGBClassifier(base_score=None, booster=None, callbacks=None,\n",
       "              colsample_bylevel=None, colsample_bynode=None,\n",
       "              colsample_bytree=0.6254818459470338, early_stopping_rounds=None,\n",
       "              enable_categorical=False, eval_metric=None, feature_types=None,\n",
       "              gamma=None, gpu_id=None, grow_policy=None, importance_type=None,\n",
       "              interaction_constraints=None, learning_rate=0.05095498627162097,\n",
       "              max_bin=None, max_cat_threshold=None, max_cat_to_onehot=None,\n",
       "              max_delta_step=None, max_depth=4, max_leaves=None,\n",
       "              min_child_weight=3, missing=nan, monotone_constraints=None,\n",
       "              n_estimators=186, n_jobs=None, num_parallel_tree=None,\n",
       "              predictor=None, random_state=None, ...)</pre></div></div></div></div></div>"
      ],
      "text/plain": [
       "XGBClassifier(base_score=None, booster=None, callbacks=None,\n",
       "              colsample_bylevel=None, colsample_bynode=None,\n",
       "              colsample_bytree=0.6254818459470338, early_stopping_rounds=None,\n",
       "              enable_categorical=False, eval_metric=None, feature_types=None,\n",
       "              gamma=None, gpu_id=None, grow_policy=None, importance_type=None,\n",
       "              interaction_constraints=None, learning_rate=0.05095498627162097,\n",
       "              max_bin=None, max_cat_threshold=None, max_cat_to_onehot=None,\n",
       "              max_delta_step=None, max_depth=4, max_leaves=None,\n",
       "              min_child_weight=3, missing=nan, monotone_constraints=None,\n",
       "              n_estimators=186, n_jobs=None, num_parallel_tree=None,\n",
       "              predictor=None, random_state=None, ...)"
      ]
     },
     "execution_count": 25,
     "metadata": {},
     "output_type": "execute_result"
    }
   ],
   "source": [
    "print(\"Best trial:\")\n",
    "trial = study.best_trial\n",
    "print(\"  Value: {}\".format(trial.value))\n",
    "print(\"  Params: \")\n",
    "for key, value in trial.params.items():\n",
    "    print(\"    {}: {}\".format(key, value))\n",
    "\n",
    "xgb_best_params = trial.params\n",
    "xgb_clf = xgb.XGBClassifier(**xgb_best_params)\n",
    "xgb_clf.fit(X, y, verbose=0)"
   ]
  },
  {
   "cell_type": "code",
   "execution_count": 26,
   "id": "bf03840d",
   "metadata": {},
   "outputs": [
    {
     "name": "stdout",
     "output_type": "stream",
     "text": [
      "              precision    recall  f1-score   support\n",
      "\n",
      "           0       0.86      0.79      0.82      2946\n",
      "           1       0.53      0.65      0.58      1086\n",
      "\n",
      "    accuracy                           0.75      4032\n",
      "   macro avg       0.70      0.72      0.70      4032\n",
      "weighted avg       0.77      0.75      0.76      4032\n",
      "\n",
      "Accuracy_value:  0.751984126984127\n",
      "f1_score_value:  0.5843724023275145\n",
      "recall_value:  0.647329650092081\n"
     ]
    }
   ],
   "source": [
    "xgb_y_pred = xgb_clf.predict(X_test)\n",
    "print(classification_report(y_test,xgb_y_pred))\n",
    "print(\"Accuracy_value: \", accuracy_score(y_test, xgb_y_pred))\n",
    "print(\"f1_score_value: \", f1_score(y_test, xgb_y_pred))\n",
    "print(\"recall_value: \", recall_score(y_test, xgb_y_pred))"
   ]
  },
  {
   "cell_type": "code",
   "execution_count": 33,
   "id": "3db30b33",
   "metadata": {},
   "outputs": [
    {
     "data": {
      "text/plain": [
       "['xgb_model.joblib']"
      ]
     },
     "execution_count": 33,
     "metadata": {},
     "output_type": "execute_result"
    }
   ],
   "source": [
    "# Save the trained model to a file\n",
    "dump(xgb_clf, 'xgb_model.joblib')"
   ]
  },
  {
   "cell_type": "markdown",
   "id": "fc04ac44",
   "metadata": {},
   "source": [
    "# KNN"
   ]
  },
  {
   "cell_type": "code",
   "execution_count": 15,
   "id": "1a50a8e7",
   "metadata": {},
   "outputs": [
    {
     "name": "stderr",
     "output_type": "stream",
     "text": [
      "\u001b[32m[I 2023-05-02 22:56:47,594]\u001b[0m A new study created in memory with name: no-name-3514d92a-2ed7-43c2-bc37-2dce7632b39b\u001b[0m\n",
      "\u001b[32m[I 2023-05-02 22:56:54,468]\u001b[0m Trial 0 finished with value: 0.8718983559228878 and parameters: {'n_neighbors': 12, 'weights': 'uniform', 'p': 1}. Best is trial 0 with value: 0.8718983559228878.\u001b[0m\n",
      "\u001b[32m[I 2023-05-02 22:58:07,245]\u001b[0m Trial 1 finished with value: 0.8579243524585017 and parameters: {'n_neighbors': 8, 'weights': 'distance', 'p': 3}. Best is trial 0 with value: 0.8718983559228878.\u001b[0m\n",
      "\u001b[32m[I 2023-05-02 22:58:10,549]\u001b[0m Trial 2 finished with value: 0.875357548664254 and parameters: {'n_neighbors': 15, 'weights': 'uniform', 'p': 2}. Best is trial 2 with value: 0.875357548664254.\u001b[0m\n",
      "\u001b[32m[I 2023-05-02 22:58:13,481]\u001b[0m Trial 3 finished with value: 0.8740152751342236 and parameters: {'n_neighbors': 14, 'weights': 'uniform', 'p': 2}. Best is trial 2 with value: 0.875357548664254.\u001b[0m\n",
      "\u001b[32m[I 2023-05-02 22:58:21,155]\u001b[0m Trial 4 finished with value: 0.855184618628997 and parameters: {'n_neighbors': 6, 'weights': 'uniform', 'p': 1}. Best is trial 2 with value: 0.875357548664254.\u001b[0m\n",
      "\u001b[32m[I 2023-05-02 22:58:28,767]\u001b[0m Trial 5 finished with value: 0.8629814509803746 and parameters: {'n_neighbors': 10, 'weights': 'distance', 'p': 1}. Best is trial 2 with value: 0.875357548664254.\u001b[0m\n",
      "\u001b[32m[I 2023-05-02 22:58:36,871]\u001b[0m Trial 6 finished with value: 0.8595839574069652 and parameters: {'n_neighbors': 7, 'weights': 'uniform', 'p': 1}. Best is trial 2 with value: 0.875357548664254.\u001b[0m\n",
      "\u001b[32m[I 2023-05-02 22:58:39,491]\u001b[0m Trial 7 finished with value: 0.8402484213990971 and parameters: {'n_neighbors': 4, 'weights': 'uniform', 'p': 2}. Best is trial 2 with value: 0.875357548664254.\u001b[0m\n",
      "\u001b[32m[I 2023-05-02 22:59:56,360]\u001b[0m Trial 8 finished with value: 0.863284970718188 and parameters: {'n_neighbors': 10, 'weights': 'distance', 'p': 3}. Best is trial 2 with value: 0.875357548664254.\u001b[0m\n",
      "\u001b[32m[I 2023-05-02 22:59:58,985]\u001b[0m Trial 9 finished with value: 0.8545830948326628 and parameters: {'n_neighbors': 6, 'weights': 'uniform', 'p': 2}. Best is trial 2 with value: 0.875357548664254.\u001b[0m\n",
      "\u001b[32m[I 2023-05-02 23:00:01,900]\u001b[0m Trial 10 finished with value: 0.8701308879689096 and parameters: {'n_neighbors': 15, 'weights': 'distance', 'p': 2}. Best is trial 2 with value: 0.875357548664254.\u001b[0m\n",
      "\u001b[32m[I 2023-05-02 23:00:04,824]\u001b[0m Trial 11 finished with value: 0.875357548664254 and parameters: {'n_neighbors': 15, 'weights': 'uniform', 'p': 2}. Best is trial 2 with value: 0.875357548664254.\u001b[0m\n",
      "\u001b[32m[I 2023-05-02 23:00:07,617]\u001b[0m Trial 12 finished with value: 0.8732964232468495 and parameters: {'n_neighbors': 13, 'weights': 'uniform', 'p': 2}. Best is trial 2 with value: 0.875357548664254.\u001b[0m\n",
      "\u001b[32m[I 2023-05-02 23:00:10,666]\u001b[0m Trial 13 finished with value: 0.8720455930846571 and parameters: {'n_neighbors': 12, 'weights': 'uniform', 'p': 2}. Best is trial 2 with value: 0.875357548664254.\u001b[0m\n",
      "\u001b[32m[I 2023-05-02 23:00:13,689]\u001b[0m Trial 14 finished with value: 0.875357548664254 and parameters: {'n_neighbors': 15, 'weights': 'uniform', 'p': 2}. Best is trial 2 with value: 0.875357548664254.\u001b[0m\n",
      "\u001b[32m[I 2023-05-02 23:00:16,455]\u001b[0m Trial 15 finished with value: 0.8720455930846571 and parameters: {'n_neighbors': 12, 'weights': 'uniform', 'p': 2}. Best is trial 2 with value: 0.875357548664254.\u001b[0m\n",
      "\u001b[32m[I 2023-05-02 23:01:33,844]\u001b[0m Trial 16 finished with value: 0.875243907684915 and parameters: {'n_neighbors': 15, 'weights': 'uniform', 'p': 3}. Best is trial 2 with value: 0.875357548664254.\u001b[0m\n",
      "\u001b[32m[I 2023-05-02 23:01:36,551]\u001b[0m Trial 17 finished with value: 0.8686166091791995 and parameters: {'n_neighbors': 10, 'weights': 'uniform', 'p': 2}. Best is trial 2 with value: 0.875357548664254.\u001b[0m\n",
      "\u001b[32m[I 2023-05-02 23:01:39,460]\u001b[0m Trial 18 finished with value: 0.8680427836853999 and parameters: {'n_neighbors': 13, 'weights': 'distance', 'p': 2}. Best is trial 2 with value: 0.875357548664254.\u001b[0m\n",
      "\u001b[32m[I 2023-05-02 23:02:57,503]\u001b[0m Trial 19 finished with value: 0.8260650544396049 and parameters: {'n_neighbors': 3, 'weights': 'uniform', 'p': 3}. Best is trial 2 with value: 0.875357548664254.\u001b[0m\n",
      "\u001b[32m[I 2023-05-02 23:03:00,299]\u001b[0m Trial 20 finished with value: 0.8732964232468495 and parameters: {'n_neighbors': 13, 'weights': 'uniform', 'p': 2}. Best is trial 2 with value: 0.875357548664254.\u001b[0m\n",
      "\u001b[32m[I 2023-05-02 23:03:03,169]\u001b[0m Trial 21 finished with value: 0.875357548664254 and parameters: {'n_neighbors': 15, 'weights': 'uniform', 'p': 2}. Best is trial 2 with value: 0.875357548664254.\u001b[0m\n",
      "\u001b[32m[I 2023-05-02 23:03:06,078]\u001b[0m Trial 22 finished with value: 0.8740152751342236 and parameters: {'n_neighbors': 14, 'weights': 'uniform', 'p': 2}. Best is trial 2 with value: 0.875357548664254.\u001b[0m\n",
      "\u001b[32m[I 2023-05-02 23:03:08,914]\u001b[0m Trial 23 finished with value: 0.8740152751342236 and parameters: {'n_neighbors': 14, 'weights': 'uniform', 'p': 2}. Best is trial 2 with value: 0.875357548664254.\u001b[0m\n",
      "\u001b[32m[I 2023-05-02 23:03:11,609]\u001b[0m Trial 24 finished with value: 0.8703483301355883 and parameters: {'n_neighbors': 11, 'weights': 'uniform', 'p': 2}. Best is trial 2 with value: 0.875357548664254.\u001b[0m\n",
      "\u001b[32m[I 2023-05-02 23:03:14,428]\u001b[0m Trial 25 finished with value: 0.875357548664254 and parameters: {'n_neighbors': 15, 'weights': 'uniform', 'p': 2}. Best is trial 2 with value: 0.875357548664254.\u001b[0m\n",
      "\u001b[32m[I 2023-05-02 23:03:17,258]\u001b[0m Trial 26 finished with value: 0.8688866451465245 and parameters: {'n_neighbors': 14, 'weights': 'distance', 'p': 2}. Best is trial 2 with value: 0.875357548664254.\u001b[0m\n",
      "\u001b[32m[I 2023-05-02 23:03:25,125]\u001b[0m Trial 27 finished with value: 0.87342242953982 and parameters: {'n_neighbors': 13, 'weights': 'uniform', 'p': 1}. Best is trial 2 with value: 0.875357548664254.\u001b[0m\n",
      "\u001b[32m[I 2023-05-02 23:03:27,945]\u001b[0m Trial 28 finished with value: 0.8703483301355883 and parameters: {'n_neighbors': 11, 'weights': 'uniform', 'p': 2}. Best is trial 2 with value: 0.875357548664254.\u001b[0m\n",
      "\u001b[32m[I 2023-05-02 23:04:44,277]\u001b[0m Trial 29 finished with value: 0.875243907684915 and parameters: {'n_neighbors': 15, 'weights': 'uniform', 'p': 3}. Best is trial 2 with value: 0.875357548664254.\u001b[0m\n",
      "\u001b[32m[I 2023-05-02 23:04:51,664]\u001b[0m Trial 30 finished with value: 0.8703288004341798 and parameters: {'n_neighbors': 11, 'weights': 'uniform', 'p': 1}. Best is trial 2 with value: 0.875357548664254.\u001b[0m\n",
      "\u001b[32m[I 2023-05-02 23:04:54,503]\u001b[0m Trial 31 finished with value: 0.875357548664254 and parameters: {'n_neighbors': 15, 'weights': 'uniform', 'p': 2}. Best is trial 2 with value: 0.875357548664254.\u001b[0m\n",
      "\u001b[32m[I 2023-05-02 23:04:57,340]\u001b[0m Trial 32 finished with value: 0.8740152751342236 and parameters: {'n_neighbors': 14, 'weights': 'uniform', 'p': 2}. Best is trial 2 with value: 0.875357548664254.\u001b[0m\n",
      "\u001b[32m[I 2023-05-02 23:05:00,105]\u001b[0m Trial 33 finished with value: 0.8740152751342236 and parameters: {'n_neighbors': 14, 'weights': 'uniform', 'p': 2}. Best is trial 2 with value: 0.875357548664254.\u001b[0m\n",
      "\u001b[32m[I 2023-05-02 23:05:02,918]\u001b[0m Trial 34 finished with value: 0.875357548664254 and parameters: {'n_neighbors': 15, 'weights': 'uniform', 'p': 2}. Best is trial 2 with value: 0.875357548664254.\u001b[0m\n",
      "\u001b[32m[I 2023-05-02 23:05:05,689]\u001b[0m Trial 35 finished with value: 0.8680427836853999 and parameters: {'n_neighbors': 13, 'weights': 'distance', 'p': 2}. Best is trial 2 with value: 0.875357548664254.\u001b[0m\n",
      "\u001b[32m[I 2023-05-02 23:05:12,937]\u001b[0m Trial 36 finished with value: 0.8744416985954052 and parameters: {'n_neighbors': 14, 'weights': 'uniform', 'p': 1}. Best is trial 2 with value: 0.875357548664254.\u001b[0m\n",
      "\u001b[32m[I 2023-05-02 23:05:15,635]\u001b[0m Trial 37 finished with value: 0.8664409734634374 and parameters: {'n_neighbors': 9, 'weights': 'uniform', 'p': 2}. Best is trial 2 with value: 0.875357548664254.\u001b[0m\n",
      "\u001b[32m[I 2023-05-02 23:06:34,178]\u001b[0m Trial 38 finished with value: 0.8665025602194522 and parameters: {'n_neighbors': 12, 'weights': 'distance', 'p': 3}. Best is trial 2 with value: 0.875357548664254.\u001b[0m\n",
      "\u001b[32m[I 2023-05-02 23:06:38,147]\u001b[0m Trial 39 finished with value: 0.875357548664254 and parameters: {'n_neighbors': 15, 'weights': 'uniform', 'p': 2}. Best is trial 2 with value: 0.875357548664254.\u001b[0m\n"
     ]
    },
    {
     "name": "stderr",
     "output_type": "stream",
     "text": [
      "\u001b[32m[I 2023-05-02 23:06:48,488]\u001b[0m Trial 40 finished with value: 0.8635948754543129 and parameters: {'n_neighbors': 8, 'weights': 'uniform', 'p': 1}. Best is trial 2 with value: 0.875357548664254.\u001b[0m\n",
      "\u001b[32m[I 2023-05-02 23:06:52,477]\u001b[0m Trial 41 finished with value: 0.875357548664254 and parameters: {'n_neighbors': 15, 'weights': 'uniform', 'p': 2}. Best is trial 2 with value: 0.875357548664254.\u001b[0m\n",
      "\u001b[32m[I 2023-05-02 23:06:55,878]\u001b[0m Trial 42 finished with value: 0.875357548664254 and parameters: {'n_neighbors': 15, 'weights': 'uniform', 'p': 2}. Best is trial 2 with value: 0.875357548664254.\u001b[0m\n",
      "\u001b[32m[I 2023-05-02 23:06:59,291]\u001b[0m Trial 43 finished with value: 0.8740152751342236 and parameters: {'n_neighbors': 14, 'weights': 'uniform', 'p': 2}. Best is trial 2 with value: 0.875357548664254.\u001b[0m\n",
      "\u001b[32m[I 2023-05-02 23:07:02,464]\u001b[0m Trial 44 finished with value: 0.8732964232468495 and parameters: {'n_neighbors': 13, 'weights': 'uniform', 'p': 2}. Best is trial 2 with value: 0.875357548664254.\u001b[0m\n",
      "\u001b[32m[I 2023-05-02 23:07:05,475]\u001b[0m Trial 45 finished with value: 0.875357548664254 and parameters: {'n_neighbors': 15, 'weights': 'uniform', 'p': 2}. Best is trial 2 with value: 0.875357548664254.\u001b[0m\n",
      "\u001b[32m[I 2023-05-02 23:07:08,225]\u001b[0m Trial 46 finished with value: 0.8485613519649384 and parameters: {'n_neighbors': 5, 'weights': 'uniform', 'p': 2}. Best is trial 2 with value: 0.875357548664254.\u001b[0m\n",
      "\u001b[32m[I 2023-05-02 23:07:11,268]\u001b[0m Trial 47 finished with value: 0.8688866451465245 and parameters: {'n_neighbors': 14, 'weights': 'distance', 'p': 2}. Best is trial 2 with value: 0.875357548664254.\u001b[0m\n",
      "\u001b[32m[I 2023-05-02 23:08:29,925]\u001b[0m Trial 48 finished with value: 0.875243907684915 and parameters: {'n_neighbors': 15, 'weights': 'uniform', 'p': 3}. Best is trial 2 with value: 0.875357548664254.\u001b[0m\n",
      "\u001b[32m[I 2023-05-02 23:08:32,916]\u001b[0m Trial 49 finished with value: 0.8720455930846571 and parameters: {'n_neighbors': 12, 'weights': 'uniform', 'p': 2}. Best is trial 2 with value: 0.875357548664254.\u001b[0m\n"
     ]
    }
   ],
   "source": [
    "def objective(trial):\n",
    "    knn_params = {\n",
    "        \"n_neighbors\": trial.suggest_int(\"n_neighbors\", 3, 15),\n",
    "        \"weights\": trial.suggest_categorical(\"weights\", ['uniform', 'distance']),\n",
    "        \"p\": trial.suggest_categorical(\"p\", [1, 2, 3])\n",
    "    }\n",
    "\n",
    "    skf = StratifiedKFold(n_splits=10, shuffle=True, random_state=1337)\n",
    "    all_scores = []\n",
    "\n",
    "    for fold_id, (train_idx, val_idx) in enumerate(skf.split(X, y)):\n",
    "        X_tr, X_val = X[train_idx], X[val_idx]\n",
    "        y_tr, y_val = y[train_idx], y[val_idx]\n",
    "\n",
    "        knn_clf = KNeighborsClassifier(**knn_params)\n",
    "        knn_clf.fit(X_tr, y_tr)\n",
    "\n",
    "        y_pred = knn_clf.predict_proba(X_val)[:, 1]\n",
    "\n",
    "        auc = roc_auc_score(y_val, y_pred)\n",
    "\n",
    "        all_scores.append(auc)\n",
    "\n",
    "    avg_auc = np.mean(all_scores)\n",
    "\n",
    "    return avg_auc\n",
    "\n",
    "study = optuna.create_study(direction=\"maximize\")\n",
    "study.optimize(objective, n_trials=50)\n",
    "\n"
   ]
  },
  {
   "cell_type": "code",
   "execution_count": 16,
   "id": "44e10005",
   "metadata": {},
   "outputs": [
    {
     "name": "stdout",
     "output_type": "stream",
     "text": [
      "Best trial:\n",
      "  Value: 0.875357548664254\n",
      "  Params: \n",
      "    n_neighbors: 15\n",
      "    weights: uniform\n",
      "    p: 2\n"
     ]
    },
    {
     "data": {
      "text/html": [
       "<style>#sk-container-id-1 {color: black;background-color: white;}#sk-container-id-1 pre{padding: 0;}#sk-container-id-1 div.sk-toggleable {background-color: white;}#sk-container-id-1 label.sk-toggleable__label {cursor: pointer;display: block;width: 100%;margin-bottom: 0;padding: 0.3em;box-sizing: border-box;text-align: center;}#sk-container-id-1 label.sk-toggleable__label-arrow:before {content: \"▸\";float: left;margin-right: 0.25em;color: #696969;}#sk-container-id-1 label.sk-toggleable__label-arrow:hover:before {color: black;}#sk-container-id-1 div.sk-estimator:hover label.sk-toggleable__label-arrow:before {color: black;}#sk-container-id-1 div.sk-toggleable__content {max-height: 0;max-width: 0;overflow: hidden;text-align: left;background-color: #f0f8ff;}#sk-container-id-1 div.sk-toggleable__content pre {margin: 0.2em;color: black;border-radius: 0.25em;background-color: #f0f8ff;}#sk-container-id-1 input.sk-toggleable__control:checked~div.sk-toggleable__content {max-height: 200px;max-width: 100%;overflow: auto;}#sk-container-id-1 input.sk-toggleable__control:checked~label.sk-toggleable__label-arrow:before {content: \"▾\";}#sk-container-id-1 div.sk-estimator input.sk-toggleable__control:checked~label.sk-toggleable__label {background-color: #d4ebff;}#sk-container-id-1 div.sk-label input.sk-toggleable__control:checked~label.sk-toggleable__label {background-color: #d4ebff;}#sk-container-id-1 input.sk-hidden--visually {border: 0;clip: rect(1px 1px 1px 1px);clip: rect(1px, 1px, 1px, 1px);height: 1px;margin: -1px;overflow: hidden;padding: 0;position: absolute;width: 1px;}#sk-container-id-1 div.sk-estimator {font-family: monospace;background-color: #f0f8ff;border: 1px dotted black;border-radius: 0.25em;box-sizing: border-box;margin-bottom: 0.5em;}#sk-container-id-1 div.sk-estimator:hover {background-color: #d4ebff;}#sk-container-id-1 div.sk-parallel-item::after {content: \"\";width: 100%;border-bottom: 1px solid gray;flex-grow: 1;}#sk-container-id-1 div.sk-label:hover label.sk-toggleable__label {background-color: #d4ebff;}#sk-container-id-1 div.sk-serial::before {content: \"\";position: absolute;border-left: 1px solid gray;box-sizing: border-box;top: 0;bottom: 0;left: 50%;z-index: 0;}#sk-container-id-1 div.sk-serial {display: flex;flex-direction: column;align-items: center;background-color: white;padding-right: 0.2em;padding-left: 0.2em;position: relative;}#sk-container-id-1 div.sk-item {position: relative;z-index: 1;}#sk-container-id-1 div.sk-parallel {display: flex;align-items: stretch;justify-content: center;background-color: white;position: relative;}#sk-container-id-1 div.sk-item::before, #sk-container-id-1 div.sk-parallel-item::before {content: \"\";position: absolute;border-left: 1px solid gray;box-sizing: border-box;top: 0;bottom: 0;left: 50%;z-index: -1;}#sk-container-id-1 div.sk-parallel-item {display: flex;flex-direction: column;z-index: 1;position: relative;background-color: white;}#sk-container-id-1 div.sk-parallel-item:first-child::after {align-self: flex-end;width: 50%;}#sk-container-id-1 div.sk-parallel-item:last-child::after {align-self: flex-start;width: 50%;}#sk-container-id-1 div.sk-parallel-item:only-child::after {width: 0;}#sk-container-id-1 div.sk-dashed-wrapped {border: 1px dashed gray;margin: 0 0.4em 0.5em 0.4em;box-sizing: border-box;padding-bottom: 0.4em;background-color: white;}#sk-container-id-1 div.sk-label label {font-family: monospace;font-weight: bold;display: inline-block;line-height: 1.2em;}#sk-container-id-1 div.sk-label-container {text-align: center;}#sk-container-id-1 div.sk-container {/* jupyter's `normalize.less` sets `[hidden] { display: none; }` but bootstrap.min.css set `[hidden] { display: none !important; }` so we also need the `!important` here to be able to override the default hidden behavior on the sphinx rendered scikit-learn.org. See: https://github.com/scikit-learn/scikit-learn/issues/21755 */display: inline-block !important;position: relative;}#sk-container-id-1 div.sk-text-repr-fallback {display: none;}</style><div id=\"sk-container-id-1\" class=\"sk-top-container\"><div class=\"sk-text-repr-fallback\"><pre>KNeighborsClassifier(n_neighbors=15)</pre><b>In a Jupyter environment, please rerun this cell to show the HTML representation or trust the notebook. <br />On GitHub, the HTML representation is unable to render, please try loading this page with nbviewer.org.</b></div><div class=\"sk-container\" hidden><div class=\"sk-item\"><div class=\"sk-estimator sk-toggleable\"><input class=\"sk-toggleable__control sk-hidden--visually\" id=\"sk-estimator-id-1\" type=\"checkbox\" checked><label for=\"sk-estimator-id-1\" class=\"sk-toggleable__label sk-toggleable__label-arrow\">KNeighborsClassifier</label><div class=\"sk-toggleable__content\"><pre>KNeighborsClassifier(n_neighbors=15)</pre></div></div></div></div></div>"
      ],
      "text/plain": [
       "KNeighborsClassifier(n_neighbors=15)"
      ]
     },
     "execution_count": 16,
     "metadata": {},
     "output_type": "execute_result"
    }
   ],
   "source": [
    "print(\"Best trial:\")\n",
    "trial = study.best_trial\n",
    "print(\"  Value: {}\".format(trial.value))\n",
    "print(\"  Params: \")\n",
    "for key, value in trial.params.items():\n",
    "    print(\"    {}: {}\".format(key, value))\n",
    "\n",
    "knn_best_params = trial.params\n",
    "knn_clf = KNeighborsClassifier(**knn_best_params)\n",
    "knn_clf.fit(X, y)"
   ]
  },
  {
   "cell_type": "code",
   "execution_count": 17,
   "id": "a163af2e",
   "metadata": {},
   "outputs": [
    {
     "name": "stderr",
     "output_type": "stream",
     "text": [
      "C:\\Users\\Apiseg\\anaconda3\\envs\\churn\\lib\\site-packages\\sklearn\\base.py:432: UserWarning: X has feature names, but KNeighborsClassifier was fitted without feature names\n",
      "  warnings.warn(\n"
     ]
    },
    {
     "name": "stdout",
     "output_type": "stream",
     "text": [
      "              precision    recall  f1-score   support\n",
      "\n",
      "           0       0.87      0.74      0.80      2946\n",
      "           1       0.49      0.70      0.58      1086\n",
      "\n",
      "    accuracy                           0.73      4032\n",
      "   macro avg       0.68      0.72      0.69      4032\n",
      "weighted avg       0.77      0.73      0.74      4032\n",
      "\n",
      "Accuracy_value:  0.7261904761904762\n",
      "f1_score_value:  0.5779816513761468\n",
      "recall_value:  0.6961325966850829\n"
     ]
    }
   ],
   "source": [
    "knn_y_pred = knn_clf.predict(X_test)\n",
    "print(classification_report(y_test,knn_y_pred))\n",
    "print(\"Accuracy_value: \", accuracy_score(y_test, knn_y_pred))\n",
    "print(\"f1_score_value: \", f1_score(y_test, knn_y_pred))\n",
    "print(\"recall_value: \", recall_score(y_test, knn_y_pred))"
   ]
  },
  {
   "cell_type": "code",
   "execution_count": 18,
   "id": "b33159db",
   "metadata": {},
   "outputs": [
    {
     "data": {
      "text/plain": [
       "['knn_model.joblib']"
      ]
     },
     "execution_count": 18,
     "metadata": {},
     "output_type": "execute_result"
    }
   ],
   "source": [
    "# Save the trained model to a file\n",
    "dump(knn_clf, 'knn_model.joblib')"
   ]
  },
  {
   "cell_type": "markdown",
   "id": "6880f481",
   "metadata": {},
   "source": [
    "# SVM"
   ]
  },
  {
   "cell_type": "code",
   "execution_count": null,
   "id": "618e9dcb",
   "metadata": {},
   "outputs": [
    {
     "name": "stderr",
     "output_type": "stream",
     "text": [
      "\u001b[32m[I 2023-04-30 16:06:32,347]\u001b[0m A new study created in memory with name: no-name-051ed0f4-b092-4a6a-85f4-a60572c0f62c\u001b[0m\n",
      "C:\\Users\\Apiseg\\AppData\\Local\\Temp\\ipykernel_19636\\4219271124.py:4: FutureWarning: suggest_loguniform has been deprecated in v3.0.0. This feature will be removed in v6.0.0. See https://github.com/optuna/optuna/releases/tag/v3.0.0. Use :func:`~optuna.trial.Trial.suggest_float` instead.\n",
      "  'C': trial.suggest_loguniform('C', 1e-4, 100),\n",
      "C:\\Users\\Apiseg\\AppData\\Local\\Temp\\ipykernel_19636\\4219271124.py:6: FutureWarning: suggest_loguniform has been deprecated in v3.0.0. This feature will be removed in v6.0.0. See https://github.com/optuna/optuna/releases/tag/v3.0.0. Use :func:`~optuna.trial.Trial.suggest_float` instead.\n",
      "  'gamma': trial.suggest_loguniform('gamma', 1e-4, 100),\n",
      "C:\\Users\\Apiseg\\AppData\\Local\\Temp\\ipykernel_19636\\4219271124.py:8: FutureWarning: suggest_uniform has been deprecated in v3.0.0. This feature will be removed in v6.0.0. See https://github.com/optuna/optuna/releases/tag/v3.0.0. Use :func:`~optuna.trial.Trial.suggest_float` instead.\n",
      "  'coef0': trial.suggest_uniform('coef0', -1, 1)\n"
     ]
    }
   ],
   "source": [
    "def objective(trial):\n",
    "    # Define the hyperparameters to be tuned by Optuna\n",
    "    params = {\n",
    "        'C': trial.suggest_loguniform('C', 1e-4, 100),\n",
    "        'kernel': trial.suggest_categorical('kernel', ['linear', 'rbf']),\n",
    "        'gamma': trial.suggest_loguniform('gamma', 1e-4, 100),\n",
    "        'degree': trial.suggest_int('degree', 2, 5),\n",
    "        'coef0': trial.suggest_uniform('coef0', -1, 1)\n",
    "    }\n",
    "    \n",
    "    # Train and evaluate the SVC model using cross-validation\n",
    "    skf = StratifiedKFold(n_splits=10, shuffle=True, random_state=1337)\n",
    "    all_scores = []\n",
    "    \n",
    "    for fold_id, (train_idx, val_idx) in enumerate(skf.split(X, y)):\n",
    "        X_tr, X_val = X[train_idx], X[val_idx]\n",
    "        y_tr, y_val = y[train_idx], y[val_idx]\n",
    "        \n",
    "        model = SVC(**params, probability=True)\n",
    "        model.fit(X_tr, y_tr)\n",
    "        \n",
    "        y_pred = model.predict_proba(X_val)[:, 1]\n",
    "        auc = roc_auc_score(y_val, y_pred)\n",
    "        all_scores.append(auc)\n",
    "    \n",
    "    return np.mean(all_scores)\n",
    "\n",
    "study = optuna.create_study(direction='maximize')\n",
    "study.optimize(objective, n_trials=3)\n",
    "\n",
    "print(\"Best trial:\")\n",
    "trial = study.best_trial\n",
    "print(\"  Value: {}\".format(trial.value))\n",
    "print(\"  Params: \")\n",
    "for key, value in trial.params.items():\n",
    "    print(\"    {}: {}\".format(key, value))\n",
    "\n",
    "best_params = trial.params\n",
    "svm_clf = SVC(**best_params, probability=True)\n",
    "svm_clf.fit(X, y)"
   ]
  },
  {
   "cell_type": "code",
   "execution_count": 42,
   "id": "3ca63c1f",
   "metadata": {},
   "outputs": [
    {
     "name": "stdout",
     "output_type": "stream",
     "text": [
      "Fold 1 accuracy score: 0.8100\n",
      "Fold 1 f1 score: 0.8150\n",
      "Fold 1 recall score: 0.8343\n",
      "Fold 2 accuracy score: 0.8034\n",
      "Fold 2 f1 score: 0.8081\n",
      "Fold 2 recall score: 0.8317\n",
      "Fold 3 accuracy score: 0.8093\n",
      "Fold 3 f1 score: 0.8172\n",
      "Fold 3 recall score: 0.8360\n",
      "Fold 4 accuracy score: 0.8015\n",
      "Fold 4 f1 score: 0.8081\n",
      "Fold 4 recall score: 0.8396\n",
      "Fold 5 accuracy score: 0.8108\n",
      "Fold 5 f1 score: 0.8146\n",
      "Fold 5 recall score: 0.8431\n",
      "Average accuracy score: 0.8070\n",
      "Average F1 score: 0.8126\n",
      "Average Recall score: 0.8370\n"
     ]
    }
   ],
   "source": [
    "from sklearn.ensemble import RandomForestClassifier\n",
    "from sklearn.model_selection import KFold\n",
    "from sklearn.metrics import accuracy_score\n",
    "\n",
    "# Define the number of folds for cross validation\n",
    "k_folds = 5\n",
    "\n",
    "# Initialize a random forest classifier\n",
    "svm_clf = SVC(kernel='rbf', C=1, gamma=0.1, probability=True)\n",
    "\n",
    "\n",
    "# Initialize a KFold object\n",
    "kf = KFold(n_splits=k_folds, shuffle=True, random_state=42)\n",
    "\n",
    "# Initialize a list to store accuracy scores for each fold\n",
    "accuracy_scores = []\n",
    "F1_scores = []\n",
    "recall_scores = []\n",
    "\n",
    "# Perform k-fold cross validation\n",
    "for fold, (train_idx, test_idx) in enumerate(kf.split(X, y)):\n",
    "    # Split the data into training and testing sets for the current fold\n",
    "    X_train, y_train = X[train_idx], y[train_idx]\n",
    "    X_test2, y_test2 = X[test_idx], y[test_idx]\n",
    "    \n",
    "    # Fit the random forest classifier to the training data\n",
    "    svm_clf.fit(X_train, y_train)\n",
    "    \n",
    "    # Make predictions on the testing data\n",
    "    y_pred = svm_clf.predict(X_test2)\n",
    "    \n",
    "    # Calculate accuracy score for the current fold\n",
    "    accuracy = accuracy_score(y_test2, y_pred)\n",
    "    accuracy_scores.append(accuracy)\n",
    "    \n",
    "    f1 = f1_score(y_test2, y_pred)\n",
    "    F1_scores.append(f1)\n",
    "    \n",
    "    recall_value = recall_score(y_test2, y_pred)\n",
    "    recall_scores.append(recall_value)\n",
    "    \n",
    "    # Print the accuracy score for the current fold\n",
    "    print(f'Fold {fold+1} accuracy score: {accuracy:.4f}')\n",
    "    print(f'Fold {fold+1} f1 score: {f1:.4f}')\n",
    "    print(f'Fold {fold+1} recall score: {recall_value:.4f}')\n",
    "\n",
    "# Print the average accuracy score across all folds\n",
    "print(f'Average accuracy score: {np.mean(accuracy_scores):.4f}')\n",
    "print(f'Average F1 score: {np.mean(F1_scores):.4f}')\n",
    "print(f'Average Recall score: {np.mean(recall_scores):.4f}')"
   ]
  },
  {
   "cell_type": "code",
   "execution_count": 43,
   "id": "1ffd0984",
   "metadata": {},
   "outputs": [
    {
     "name": "stderr",
     "output_type": "stream",
     "text": [
      "C:\\Users\\Apiseg\\anaconda3\\envs\\churn\\lib\\site-packages\\sklearn\\base.py:432: UserWarning: X has feature names, but SVC was fitted without feature names\n",
      "  warnings.warn(\n"
     ]
    },
    {
     "name": "stdout",
     "output_type": "stream",
     "text": [
      "              precision    recall  f1-score   support\n",
      "\n",
      "           0       0.87      0.77      0.82      2946\n",
      "           1       0.52      0.68      0.59      1086\n",
      "\n",
      "    accuracy                           0.75      4032\n",
      "   macro avg       0.70      0.73      0.70      4032\n",
      "weighted avg       0.77      0.75      0.76      4032\n",
      "\n",
      "Accuracy_value:  0.7470238095238095\n",
      "f1_score_value:  0.5906902086677367\n",
      "recall_value:  0.6777163904235728\n"
     ]
    }
   ],
   "source": [
    "svm_y_pred = svm_clf.predict(X_test)\n",
    "print(classification_report(y_test,svm_y_pred))\n",
    "print(\"Accuracy_value: \", accuracy_score(y_test, svm_y_pred))\n",
    "print(\"f1_score_value: \", f1_score(y_test, svm_y_pred))\n",
    "print(\"recall_value: \", recall_score(y_test, svm_y_pred))"
   ]
  },
  {
   "cell_type": "code",
   "execution_count": 44,
   "id": "ab05dce8",
   "metadata": {},
   "outputs": [
    {
     "data": {
      "text/plain": [
       "['svm_model.joblib']"
      ]
     },
     "execution_count": 44,
     "metadata": {},
     "output_type": "execute_result"
    }
   ],
   "source": [
    "# Save the trained model to a file\n",
    "dump(svm_clf, 'svm_model.joblib')"
   ]
  },
  {
   "cell_type": "code",
   "execution_count": null,
   "id": "7bfac865",
   "metadata": {},
   "outputs": [],
   "source": []
  },
  {
   "cell_type": "code",
   "execution_count": null,
   "id": "794d3443",
   "metadata": {},
   "outputs": [],
   "source": []
  },
  {
   "cell_type": "markdown",
   "id": "9d62fa0a",
   "metadata": {},
   "source": [
    "# Stacked Ensemble"
   ]
  },
  {
   "cell_type": "code",
   "execution_count": 59,
   "id": "a114455c",
   "metadata": {},
   "outputs": [
    {
     "name": "stdout",
     "output_type": "stream",
     "text": [
      "126/126 [==============================] - 0s 2ms/step\n"
     ]
    },
    {
     "name": "stderr",
     "output_type": "stream",
     "text": [
      "C:\\Users\\Apiseg\\anaconda3\\envs\\churn\\lib\\site-packages\\sklearn\\base.py:432: UserWarning: X has feature names, but RandomForestClassifier was fitted without feature names\n",
      "  warnings.warn(\n",
      "C:\\Users\\Apiseg\\anaconda3\\envs\\churn\\lib\\site-packages\\sklearn\\base.py:432: UserWarning: X has feature names, but KNeighborsClassifier was fitted without feature names\n",
      "  warnings.warn(\n",
      "C:\\Users\\Apiseg\\anaconda3\\envs\\churn\\lib\\site-packages\\sklearn\\base.py:432: UserWarning: X has feature names, but SVC was fitted without feature names\n",
      "  warnings.warn(\n",
      "C:\\Users\\Apiseg\\anaconda3\\envs\\churn\\lib\\site-packages\\sklearn\\base.py:432: UserWarning: X has feature names, but LogisticRegression was fitted without feature names\n",
      "  warnings.warn(\n"
     ]
    }
   ],
   "source": [
    "# Get the predictions from the CNN model\n",
    "cnn_predictions = cnn_model.predict(X_test)\n",
    "cnn_predictions = [round(x[0]) for x in cnn_predictions]\n",
    "\n",
    "# Get the predictions from the other models\n",
    "rf_predictions = rfc.predict(X_test)\n",
    "knn_predictions = knn_clf.predict(X_test)\n",
    "svm_predictions = svm_clf.predict(X_test)\n",
    "xgb_predictions = xgb_clf.predict(X_test)\n",
    "lr_predictions = lr_clf.predict(X_test)"
   ]
  },
  {
   "cell_type": "code",
   "execution_count": 69,
   "id": "212dd718",
   "metadata": {},
   "outputs": [
    {
     "name": "stdout",
     "output_type": "stream",
     "text": [
      "Accuracy of the stacking classifier: 0.7653769841269841\n",
      "Ensemble F1: 0.5367286973555339\n",
      "Ensemble Recall: 0.5046040515653776\n"
     ]
    }
   ],
   "source": [
    "# Combine the predictions into a new dataframe\n",
    "predictions = np.column_stack((cnn_predictions,knn_predictions,rf_predictions,svm_predictions, xgb_predictions, lr_predictions))\n",
    "\n",
    "# Define the meta model\n",
    "meta_model = LogisticRegression()\n",
    "\n",
    "# Fit the meta model\n",
    "meta_model.fit(predictions, y_test)\n",
    "\n",
    "# Get the final predictions from the meta model\n",
    "final_predictions = meta_model.predict(predictions)\n",
    "\n",
    "# Calculate the accuracy of the stacking classifier\n",
    "accuracy = accuracy_score(y_test, final_predictions)\n",
    "print(\"Accuracy of the stacking classifier:\", accuracy)\n",
    "print(\"Ensemble F1:\", f1_score(y_test, final_predictions))\n",
    "print(\"Ensemble Recall:\", recall_score(y_test, final_predictions))"
   ]
  },
  {
   "cell_type": "code",
   "execution_count": 71,
   "id": "ca9d72cf",
   "metadata": {},
   "outputs": [
    {
     "data": {
      "text/plain": [
       "['stacked_ensemble_model.joblib']"
      ]
     },
     "execution_count": 71,
     "metadata": {},
     "output_type": "execute_result"
    }
   ],
   "source": [
    "# Save the trained model to a file\n",
    "dump(meta_model, 'stacked_ensemble_model.joblib')"
   ]
  },
  {
   "cell_type": "code",
   "execution_count": null,
   "id": "23d16641",
   "metadata": {},
   "outputs": [],
   "source": []
  },
  {
   "cell_type": "code",
   "execution_count": 52,
   "id": "9013c1b3",
   "metadata": {},
   "outputs": [],
   "source": [
    "from pathlib import Path\n",
    "# Load the json file that contains the model's structure\n",
    "f = Path(\"cnn_model_structure.json\")\n",
    "model_structure = f.read_text()\n",
    "\n",
    "from tensorflow.keras.models import model_from_json\n",
    "# Recreate the Keras model object from the json data\n",
    "cnn_model = model_from_json(model_structure)\n",
    "\n",
    "# Re-load the model's trained weights\n",
    "cnn_model.load_weights(\"cnn_model_weights.h5\")"
   ]
  },
  {
   "cell_type": "code",
   "execution_count": null,
   "id": "e21d98f7",
   "metadata": {},
   "outputs": [],
   "source": [
    "# Set the io_device option to '/job:localhost'\n",
    "options = tf.saved_model.LoadOptions(experimental_io_device='/job:localhost')\n",
    "\n",
    "# Load the SavedModel with the specified options\n",
    "model = tf.saved_model.load('path/to/saved_model', options=options)"
   ]
  },
  {
   "cell_type": "code",
   "execution_count": 15,
   "id": "70ee35f0",
   "metadata": {},
   "outputs": [],
   "source": [
    "# Load the json file that contains the model's structure\n",
    "from tensorflow.keras.models import model_from_json\n",
    "from joblib import load\n",
    "from pathlib import Path\n",
    "\n",
    "f = Path(\"cnn_model_structure.json\")\n",
    "model_structure = f.read_text()\n",
    "\n",
    "# Recreate the Keras model object from the json data\n",
    "cnn_model = model_from_json(model_structure)\n",
    "\n",
    "# Re-load the model's trained weights\n",
    "cnn_model.load_weights(\"cnn_model_weights.h5\")\n",
    "\n",
    "rfc_clf = load('rfc_model.joblib')\n",
    "    \n",
    "knn_clf = load('knn_model.joblib')\n",
    "  \n",
    "svm_clf = load('svm_model.joblib')\n",
    "\n",
    "xgb_clf = load('xgb_model.joblib')\n",
    "   \n",
    "lr_clf = load('lr_model.joblib')\n",
    " \n",
    "meta_model = load('stacked_ensemble_model.joblib')\n"
   ]
  },
  {
   "cell_type": "code",
   "execution_count": 29,
   "id": "ee1f907f",
   "metadata": {},
   "outputs": [
    {
     "name": "stderr",
     "output_type": "stream",
     "text": [
      "C:\\Users\\Apiseg\\AppData\\Local\\Temp\\ipykernel_26520\\1565497736.py:1: DeprecationWarning: KerasClassifier is deprecated, use Sci-Keras (https://github.com/adriangb/scikeras) instead. See https://www.adriangb.com/scikeras/stable/migration.html for help migrating.\n",
      "  model = KerasClassifier(cnn_model)\n"
     ]
    }
   ],
   "source": [
    "model = KerasClassifier(cnn_model)"
   ]
  },
  {
   "cell_type": "code",
   "execution_count": 59,
   "id": "9217e2f4",
   "metadata": {},
   "outputs": [
    {
     "name": "stdout",
     "output_type": "stream",
     "text": [
      "126/126 [==============================] - 0s 3ms/step\n"
     ]
    },
    {
     "name": "stderr",
     "output_type": "stream",
     "text": [
      "C:\\Users\\Apiseg\\anaconda3\\envs\\churn\\lib\\site-packages\\sklearn\\base.py:432: UserWarning: X has feature names, but RandomForestClassifier was fitted without feature names\n",
      "  warnings.warn(\n",
      "C:\\Users\\Apiseg\\anaconda3\\envs\\churn\\lib\\site-packages\\sklearn\\base.py:432: UserWarning: X has feature names, but KNeighborsClassifier was fitted without feature names\n",
      "  warnings.warn(\n",
      "C:\\Users\\Apiseg\\anaconda3\\envs\\churn\\lib\\site-packages\\sklearn\\base.py:432: UserWarning: X has feature names, but SVC was fitted without feature names\n",
      "  warnings.warn(\n",
      "C:\\Users\\Apiseg\\anaconda3\\envs\\churn\\lib\\site-packages\\sklearn\\base.py:432: UserWarning: X has feature names, but LogisticRegression was fitted without feature names\n",
      "  warnings.warn(\n"
     ]
    }
   ],
   "source": [
    "cnn_predictions = cnn_model.predict(X_test)\n",
    "cnn_predictions = [round(x[0]) for x in cnn_predictions]\n",
    "rf_predictions = rfc_clf.predict(X_test)\n",
    "knn_predictions = knn_clf.predict(X_test)\n",
    "svm_predictions = svm_clf.predict(X_test)\n",
    "xgb_predictions = xgb_clf.predict(X_test)\n",
    "lr_predictions = lr_clf.predict(X_test)\n",
    "predictions = np.column_stack((cnn_predictions,knn_predictions,rf_predictions,svm_predictions, xgb_predictions, lr_predictions))\n",
    "\n",
    "#     # Get the final predictions from the meta model\n",
    "final_predictions = meta_model.predict_proba(predictions)\n",
    "\n",
    "    # Combine the predictions into a new dataframe\n",
    "#     predictions = np.column_stack((cnn_predictions,knn_predictions,rf_predictions,svm_predictions, xgb_predictions, lr_predictions))\n",
    "\n",
    "#     # Get the final predictions from the meta model\n",
    "#     final_predictions = meta_model.predict(predictions)\n"
   ]
  },
  {
   "cell_type": "code",
   "execution_count": 60,
   "id": "ef183997",
   "metadata": {},
   "outputs": [
    {
     "name": "stderr",
     "output_type": "stream",
     "text": [
      "C:\\Users\\Apiseg\\anaconda3\\envs\\churn\\lib\\site-packages\\sklearn\\base.py:432: UserWarning: X has feature names, but RandomForestClassifier was fitted without feature names\n",
      "  warnings.warn(\n",
      "C:\\Users\\Apiseg\\anaconda3\\envs\\churn\\lib\\site-packages\\sklearn\\base.py:432: UserWarning: X has feature names, but KNeighborsClassifier was fitted without feature names\n",
      "  warnings.warn(\n",
      "C:\\Users\\Apiseg\\anaconda3\\envs\\churn\\lib\\site-packages\\sklearn\\base.py:432: UserWarning: X has feature names, but SVC was fitted without feature names\n",
      "  warnings.warn(\n"
     ]
    },
    {
     "name": "stdout",
     "output_type": "stream",
     "text": [
      " 34/126 [=======>......................] - ETA: 0s"
     ]
    },
    {
     "name": "stderr",
     "output_type": "stream",
     "text": [
      "C:\\Users\\Apiseg\\anaconda3\\envs\\churn\\lib\\site-packages\\sklearn\\base.py:432: UserWarning: X has feature names, but LogisticRegression was fitted without feature names\n",
      "  warnings.warn(\n"
     ]
    },
    {
     "name": "stdout",
     "output_type": "stream",
     "text": [
      "126/126 [==============================] - 0s 3ms/step\n"
     ]
    }
   ],
   "source": [
    "# predict probabilities\n",
    "pred_prob1 = rfc_clf.predict_proba(X_test)\n",
    "pred_prob2 = knn_clf.predict_proba(X_test)\n",
    "pred_prob3 = svm_clf.predict_proba(X_test)\n",
    "pred_prob4 = xgb_clf.predict_proba(X_test)\n",
    "pred_prob5 = lr_clf.predict_proba(X_test)\n",
    "# pred_prob6 = cnn_model.predict_proba(X_test)\n",
    "\n",
    "y_pred_prob = cnn_model.predict(X_test)\n",
    "pred_prob6 = y_pred_prob.flatten()\n",
    "\n",
    "    # Combine the predictions into a new dataframe\n",
    "predictions = np.column_stack((cnn_predictions,knn_predictions,rf_predictions,svm_predictions, xgb_predictions, lr_predictions))\n",
    "\n",
    "#     # Get the final predictions from the meta model\n",
    "pred_prob7 = meta_model.predict_proba(predictions)\n",
    "\n"
   ]
  },
  {
   "cell_type": "code",
   "execution_count": null,
   "id": "7ba29de8",
   "metadata": {},
   "outputs": [],
   "source": [
    "# roc curve for models\n",
    "fpr1, tpr1, thresh1 = roc_curve(y_test, pred_prob1[:,1], pos_label=1)\n",
    "fpr2, tpr2, thresh2 = roc_curve(y_test, pred_prob2[:,1], pos_label=1)\n",
    "fpr3, tpr3, thresh3 = roc_curve(y_test, pred_prob3[:,1], pos_label=1)\n",
    "fpr4, tpr4, thresh4 = roc_curve(y_test, pred_prob4[:,1], pos_label=1)\n",
    "fpr5, tpr5, thresh5 = roc_curve(y_test, pred_prob5[:,1], pos_label=1)\n",
    "fpr6, tpr6, thresh6 = roc_curve(y_test, pred_prob6, pos_label=1)\n",
    "fpr7, tpr7, thresh7 = roc_curve(y_test, pred_prob7[:,1], pos_label=1)\n",
    "#fpr8, tpr6, thresh6 = roc_curve(y_test, pred_prob6[:,1], pos_label=1)"
   ]
  },
  {
   "cell_type": "code",
   "execution_count": 20,
   "id": "b6148733",
   "metadata": {},
   "outputs": [],
   "source": [
    "# roc curve for tpr = fpr \n",
    "random_probs = [0 for i in range(len(y_test))]\n",
    "p_fpr, p_tpr, _ = roc_curve(y_test, random_probs, pos_label=1)"
   ]
  },
  {
   "cell_type": "code",
   "execution_count": 21,
   "id": "dacb9c5b",
   "metadata": {},
   "outputs": [],
   "source": [
    "# auc scores\n",
    "auc_score1 = roc_auc_score(y_test, pred_prob1[:,1])\n",
    "auc_score2 = roc_auc_score(y_test, pred_prob2[:,1])\n",
    "auc_score3 = roc_auc_score(y_test, pred_prob3[:,1])\n",
    "auc_score4 = roc_auc_score(y_test, pred_prob4[:,1])\n",
    "auc_score5 = roc_auc_score(y_test, pred_prob5[:,1])\n",
    "auc_score6 = roc_auc_score(y_test, pred_prob6)\n",
    "auc_score7 = roc_auc_score(y_test, pred_prob7[:,1])"
   ]
  },
  {
   "cell_type": "code",
   "execution_count": 22,
   "id": "2e8dfb50",
   "metadata": {},
   "outputs": [
    {
     "name": "stdout",
     "output_type": "stream",
     "text": [
      "Random Forest : 0.8064557367170142\n",
      "KNN      : 0.7883022395757147\n",
      "SVM: 0.7836177030627415\n",
      "XGBoost       : 0.8028673583058592\n",
      "Logistic Regression: 0.8038639651229811\n",
      "CNN      : 0.7314676766199197\n",
      "Ensembled           : 0.764501981023681\n"
     ]
    },
    {
     "name": "stderr",
     "output_type": "stream",
     "text": [
      "C:\\Users\\Apiseg\\AppData\\Local\\Temp\\ipykernel_26520\\4065633896.py:9: MatplotlibDeprecationWarning: The seaborn styles shipped by Matplotlib are deprecated since 3.6, as they no longer correspond to the styles shipped by seaborn. However, they will remain available as 'seaborn-v0_8-<style>'. Alternatively, directly use the seaborn API instead.\n",
      "  plt.style.use('seaborn')\n"
     ]
    }
   ],
   "source": [
    "\n",
    "# print classifier name and AUC score\n",
    "print(\"Random Forest :\", auc_score1)\n",
    "print(\"KNN      :\", auc_score2)\n",
    "print(\"SVM:\", auc_score3)\n",
    "print(\"XGBoost       :\", auc_score4)\n",
    "print(\"Logistic Regression:\", auc_score5)\n",
    "print(\"CNN      :\", auc_score6)\n",
    "print(\"Ensembled           :\", auc_score7)\n",
    "plt.style.use('seaborn')"
   ]
  },
  {
   "cell_type": "code",
   "execution_count": 23,
   "id": "74c4355e",
   "metadata": {},
   "outputs": [
    {
     "data": {
      "image/png": "[encoded data removed]",
      "text/plain": [
       "<Figure size 800x550 with 1 Axes>"
      ]
     },
     "metadata": {},
     "output_type": "display_data"
    }
   ],
   "source": [
    "# plot roc curves\n",
    "plt.plot(fpr1, tpr1, linestyle='-',color='orange', label='Random Forest')\n",
    "plt.plot(fpr2, tpr2, linestyle='-',color='green', label='KNN')\n",
    "plt.plot(fpr3, tpr3, linestyle='-',color='blue', label='SVM')\n",
    "plt.plot(fpr4, tpr4, linestyle='-',color='red', label='XGBoost')\n",
    "plt.plot(fpr5, tpr5, linestyle='-',color='purple', label='Logistic Regression')\n",
    "plt.plot(fpr6, tpr6, linestyle='-',color='yellow', label='CNN')\n",
    "plt.plot(fpr7, tpr7, linestyle='-',color='pink', label='Ensembled')\n",
    "\n",
    "plt.plot(p_fpr, p_tpr, linestyle='--', color='black')\n",
    "\n",
    "# title\n",
    "plt.title('AUC/ROC Curve')\n",
    "# x label\n",
    "plt.xlabel('False Positive Rate')\n",
    "# y label\n",
    "plt.ylabel('True Positive rate')\n",
    "\n",
    "plt.legend(loc='best')\n",
    "plt.savefig('ROC',dpi=300)\n",
    "plt.show();"
   ]
  },
  {
   "cell_type": "code",
   "execution_count": 61,
   "id": "14f4ff33",
   "metadata": {},
   "outputs": [],
   "source": [
    "# calculate recall scores\n",
    "recall_score1 = recall_score(y_test, np.round(pred_prob1[:, 1]))\n",
    "recall_score2 = recall_score(y_test, np.round(pred_prob2[:, 1]))\n",
    "recall_score3 = recall_score(y_test, np.round(pred_prob3[:, 1]))\n",
    "recall_score4 = recall_score(y_test, np.round(pred_prob4[:, 1]))\n",
    "recall_score5 = recall_score(y_test, np.round(pred_prob5[:, 1]))\n",
    "recall_score6 = recall_score(y_test, np.round(pred_prob6))\n",
    "recall_score7 = recall_score(y_test, np.round(pred_prob7[:, 1]))"
   ]
  },
  {
   "cell_type": "code",
   "execution_count": 62,
   "id": "839e7048",
   "metadata": {},
   "outputs": [
    {
     "name": "stdout",
     "output_type": "stream",
     "text": [
      "Random Forest : 0.6952117863720073\n",
      "KNN      : 0.6961325966850829\n",
      "SVM: 0.6712707182320442\n",
      "XGBoost       : 0.647329650092081\n",
      "Logistic Regression: 0.6464088397790055\n",
      "CNN      : 0.5994475138121547\n",
      "Ensembled           : 0.509208103130755\n"
     ]
    },
    {
     "name": "stderr",
     "output_type": "stream",
     "text": [
      "C:\\Users\\Apiseg\\AppData\\Local\\Temp\\ipykernel_26520\\472990115.py:9: MatplotlibDeprecationWarning: The seaborn styles shipped by Matplotlib are deprecated since 3.6, as they no longer correspond to the styles shipped by seaborn. However, they will remain available as 'seaborn-v0_8-<style>'. Alternatively, directly use the seaborn API instead.\n",
      "  plt.style.use('seaborn')\n"
     ]
    }
   ],
   "source": [
    "# print classifier name and recall score\n",
    "print(\"Random Forest :\", recall_score1)\n",
    "print(\"KNN      :\", recall_score2)\n",
    "print(\"SVM:\", recall_score3)\n",
    "print(\"XGBoost       :\", recall_score4)\n",
    "print(\"Logistic Regression:\", recall_score5)\n",
    "print(\"CNN      :\", recall_score6)\n",
    "print(\"Ensembled           :\", recall_score7)\n",
    "plt.style.use('seaborn')"
   ]
  },
  {
   "cell_type": "code",
   "execution_count": 63,
   "id": "54a42149",
   "metadata": {},
   "outputs": [],
   "source": [
    "# calculate f1 scores\n",
    "f1_score1 = f1_score(y_test, np.round(pred_prob1[:, 1]))\n",
    "f1_score2 = f1_score(y_test, np.round(pred_prob2[:, 1]))\n",
    "f1_score3 = f1_score(y_test, np.round(pred_prob3[:, 1]))\n",
    "f1_score4 = f1_score(y_test, np.round(pred_prob4[:, 1]))\n",
    "f1_score5 = f1_score(y_test, np.round(pred_prob5[:, 1]))\n",
    "f1_score6 = f1_score(y_test, np.round(pred_prob6))\n",
    "f1_score7 = f1_score(y_test, np.round(pred_prob7[:, 1]))"
   ]
  },
  {
   "cell_type": "code",
   "execution_count": 64,
   "id": "f53ee593",
   "metadata": {},
   "outputs": [
    {
     "name": "stdout",
     "output_type": "stream",
     "text": [
      "Random Forest : 0.5970739422696719\n",
      "KNN      : 0.5779816513761468\n",
      "SVM: 0.5955882352941178\n",
      "XGBoost       : 0.5843724023275145\n",
      "Logistic Regression: 0.5847563515201999\n",
      "CNN      : 0.5431789737171464\n",
      "Ensembled           : 0.5403028822667317\n"
     ]
    },
    {
     "name": "stderr",
     "output_type": "stream",
     "text": [
      "C:\\Users\\Apiseg\\AppData\\Local\\Temp\\ipykernel_26520\\4058476294.py:9: MatplotlibDeprecationWarning: The seaborn styles shipped by Matplotlib are deprecated since 3.6, as they no longer correspond to the styles shipped by seaborn. However, they will remain available as 'seaborn-v0_8-<style>'. Alternatively, directly use the seaborn API instead.\n",
      "  plt.style.use('seaborn')\n"
     ]
    }
   ],
   "source": [
    "# print classifier name and recall score\n",
    "print(\"Random Forest :\", f1_score1)\n",
    "print(\"KNN      :\", f1_score2)\n",
    "print(\"SVM:\", f1_score3)\n",
    "print(\"XGBoost       :\", f1_score4)\n",
    "print(\"Logistic Regression:\", f1_score5)\n",
    "print(\"CNN      :\", f1_score6)\n",
    "print(\"Ensembled           :\", f1_score7)\n",
    "plt.style.use('seaborn')"
   ]
  },
  {
   "cell_type": "code",
   "execution_count": null,
   "id": "443d0797",
   "metadata": {},
   "outputs": [],
   "source": []
  }
 ],
 "metadata": {
  "kernelspec": {
   "display_name": "Python 3",
   "language": "python",
   "name": "python3"
  },
  "language_info": {
   "codemirror_mode": {
    "name": "ipython",
    "version": 3
   },
   "file_extension": ".py",
   "mimetype": "text/x-python",
   "name": "python",
   "nbconvert_exporter": "python",
   "pygments_lexer": "ipython3",
   "version": "3.6.13"
  }
 },
 "nbformat": 4,
 "nbformat_minor": 5
}
