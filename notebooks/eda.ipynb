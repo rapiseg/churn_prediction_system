{
 "cells": [
  {
   "cell_type": "markdown",
   "source": [
    "In this step exploratory data analysis is performed on the dataset. The dataset is loaded and explored to get a better understanding of the data. Possible data types are noted and data is split into train and test set."
   ],
   "metadata": {
    "collapsed": false
   }
  },
  {
   "cell_type": "code",
   "execution_count": 1,
   "metadata": {
    "collapsed": true
   },
   "outputs": [],
   "source": [
    "# Importing the libraries\n",
    "import pandas as pd\n",
    "from matplotlib import pyplot as plt\n",
    "import numpy as np\n",
    "%matplotlib inline"
   ]
  },
  {
   "cell_type": "code",
   "execution_count": 6,
   "outputs": [
    {
     "data": {
      "text/plain": "   CustomerID Churn  MonthlyRevenue  MonthlyMinutes  TotalRecurringCharge  \\\n0     3000002   Yes           24.00           219.0                  22.0   \n1     3000010   Yes           16.99            10.0                  17.0   \n2     3000014    No           38.00             8.0                  38.0   \n3     3000022    No           82.28          1312.0                  75.0   \n4     3000026   Yes           17.14             0.0                  17.0   \n\n   DirectorAssistedCalls  OverageMinutes  RoamingCalls  PercChangeMinutes  \\\n0                   0.25             0.0           0.0             -157.0   \n1                   0.00             0.0           0.0               -4.0   \n2                   0.00             0.0           0.0               -2.0   \n3                   1.24             0.0           0.0              157.0   \n4                   0.00             0.0           0.0                0.0   \n\n   PercChangeRevenues  ...  ReferralsMadeBySubscriber  IncomeGroup  \\\n0               -19.0  ...                          0            4   \n1                 0.0  ...                          0            5   \n2                 0.0  ...                          0            6   \n3                 8.1  ...                          0            6   \n4                -0.2  ...                          0            9   \n\n   OwnsMotorcycle  AdjustmentsToCreditRating  HandsetPrice  \\\n0              No                          0            30   \n1              No                          0            30   \n2              No                          0       Unknown   \n3              No                          0            10   \n4              No                          1            10   \n\n   MadeCallToRetentionTeam  CreditRating  PrizmCode    Occupation  \\\n0                      Yes     1-Highest   Suburban  Professional   \n1                       No      4-Medium   Suburban  Professional   \n2                       No        3-Good       Town        Crafts   \n3                       No      4-Medium      Other         Other   \n4                       No     1-Highest      Other  Professional   \n\n   MaritalStatus  \n0             No  \n1            Yes  \n2            Yes  \n3             No  \n4            Yes  \n\n[5 rows x 58 columns]",
      "text/html": "<div>\n<style scoped>\n    .dataframe tbody tr th:only-of-type {\n        vertical-align: middle;\n    }\n\n    .dataframe tbody tr th {\n        vertical-align: top;\n    }\n\n    .dataframe thead th {\n        text-align: right;\n    }\n</style>\n<table border=\"1\" class=\"dataframe\">\n  <thead>\n    <tr style=\"text-align: right;\">\n      <th></th>\n      <th>CustomerID</th>\n      <th>Churn</th>\n      <th>MonthlyRevenue</th>\n      <th>MonthlyMinutes</th>\n      <th>TotalRecurringCharge</th>\n      <th>DirectorAssistedCalls</th>\n      <th>OverageMinutes</th>\n      <th>RoamingCalls</th>\n      <th>PercChangeMinutes</th>\n      <th>PercChangeRevenues</th>\n      <th>...</th>\n      <th>ReferralsMadeBySubscriber</th>\n      <th>IncomeGroup</th>\n      <th>OwnsMotorcycle</th>\n      <th>AdjustmentsToCreditRating</th>\n      <th>HandsetPrice</th>\n      <th>MadeCallToRetentionTeam</th>\n      <th>CreditRating</th>\n      <th>PrizmCode</th>\n      <th>Occupation</th>\n      <th>MaritalStatus</th>\n    </tr>\n  </thead>\n  <tbody>\n    <tr>\n      <th>0</th>\n      <td>3000002</td>\n      <td>Yes</td>\n      <td>24.00</td>\n      <td>219.0</td>\n      <td>22.0</td>\n      <td>0.25</td>\n      <td>0.0</td>\n      <td>0.0</td>\n      <td>-157.0</td>\n      <td>-19.0</td>\n      <td>...</td>\n      <td>0</td>\n      <td>4</td>\n      <td>No</td>\n      <td>0</td>\n      <td>30</td>\n      <td>Yes</td>\n      <td>1-Highest</td>\n      <td>Suburban</td>\n      <td>Professional</td>\n      <td>No</td>\n    </tr>\n    <tr>\n      <th>1</th>\n      <td>3000010</td>\n      <td>Yes</td>\n      <td>16.99</td>\n      <td>10.0</td>\n      <td>17.0</td>\n      <td>0.00</td>\n      <td>0.0</td>\n      <td>0.0</td>\n      <td>-4.0</td>\n      <td>0.0</td>\n      <td>...</td>\n      <td>0</td>\n      <td>5</td>\n      <td>No</td>\n      <td>0</td>\n      <td>30</td>\n      <td>No</td>\n      <td>4-Medium</td>\n      <td>Suburban</td>\n      <td>Professional</td>\n      <td>Yes</td>\n    </tr>\n    <tr>\n      <th>2</th>\n      <td>3000014</td>\n      <td>No</td>\n      <td>38.00</td>\n      <td>8.0</td>\n      <td>38.0</td>\n      <td>0.00</td>\n      <td>0.0</td>\n      <td>0.0</td>\n      <td>-2.0</td>\n      <td>0.0</td>\n      <td>...</td>\n      <td>0</td>\n      <td>6</td>\n      <td>No</td>\n      <td>0</td>\n      <td>Unknown</td>\n      <td>No</td>\n      <td>3-Good</td>\n      <td>Town</td>\n      <td>Crafts</td>\n      <td>Yes</td>\n    </tr>\n    <tr>\n      <th>3</th>\n      <td>3000022</td>\n      <td>No</td>\n      <td>82.28</td>\n      <td>1312.0</td>\n      <td>75.0</td>\n      <td>1.24</td>\n      <td>0.0</td>\n      <td>0.0</td>\n      <td>157.0</td>\n      <td>8.1</td>\n      <td>...</td>\n      <td>0</td>\n      <td>6</td>\n      <td>No</td>\n      <td>0</td>\n      <td>10</td>\n      <td>No</td>\n      <td>4-Medium</td>\n      <td>Other</td>\n      <td>Other</td>\n      <td>No</td>\n    </tr>\n    <tr>\n      <th>4</th>\n      <td>3000026</td>\n      <td>Yes</td>\n      <td>17.14</td>\n      <td>0.0</td>\n      <td>17.0</td>\n      <td>0.00</td>\n      <td>0.0</td>\n      <td>0.0</td>\n      <td>0.0</td>\n      <td>-0.2</td>\n      <td>...</td>\n      <td>0</td>\n      <td>9</td>\n      <td>No</td>\n      <td>1</td>\n      <td>10</td>\n      <td>No</td>\n      <td>1-Highest</td>\n      <td>Other</td>\n      <td>Professional</td>\n      <td>Yes</td>\n    </tr>\n  </tbody>\n</table>\n<p>5 rows × 58 columns</p>\n</div>"
     },
     "execution_count": 6,
     "metadata": {},
     "output_type": "execute_result"
    }
   ],
   "source": [
    "# load the dataset\n",
    "full_df = pd.read_csv('../dataset/cell2celltrain.csv')\n",
    "full_df.head()"
   ],
   "metadata": {
    "collapsed": false
   }
  },
  {
   "cell_type": "code",
   "execution_count": 7,
   "outputs": [
    {
     "name": "stdout",
     "output_type": "stream",
     "text": [
      "<class 'pandas.core.frame.DataFrame'>\n",
      "RangeIndex: 51047 entries, 0 to 51046\n",
      "Data columns (total 58 columns):\n",
      " #   Column                     Non-Null Count  Dtype  \n",
      "---  ------                     --------------  -----  \n",
      " 0   CustomerID                 51047 non-null  int64  \n",
      " 1   Churn                      51047 non-null  object \n",
      " 2   MonthlyRevenue             50891 non-null  float64\n",
      " 3   MonthlyMinutes             50891 non-null  float64\n",
      " 4   TotalRecurringCharge       50891 non-null  float64\n",
      " 5   DirectorAssistedCalls      50891 non-null  float64\n",
      " 6   OverageMinutes             50891 non-null  float64\n",
      " 7   RoamingCalls               50891 non-null  float64\n",
      " 8   PercChangeMinutes          50680 non-null  float64\n",
      " 9   PercChangeRevenues         50680 non-null  float64\n",
      " 10  DroppedCalls               51047 non-null  float64\n",
      " 11  BlockedCalls               51047 non-null  float64\n",
      " 12  UnansweredCalls            51047 non-null  float64\n",
      " 13  CustomerCareCalls          51047 non-null  float64\n",
      " 14  ThreewayCalls              51047 non-null  float64\n",
      " 15  ReceivedCalls              51047 non-null  float64\n",
      " 16  OutboundCalls              51047 non-null  float64\n",
      " 17  InboundCalls               51047 non-null  float64\n",
      " 18  PeakCallsInOut             51047 non-null  float64\n",
      " 19  OffPeakCallsInOut          51047 non-null  float64\n",
      " 20  DroppedBlockedCalls        51047 non-null  float64\n",
      " 21  CallForwardingCalls        51047 non-null  float64\n",
      " 22  CallWaitingCalls           51047 non-null  float64\n",
      " 23  MonthsInService            51047 non-null  int64  \n",
      " 24  UniqueSubs                 51047 non-null  int64  \n",
      " 25  ActiveSubs                 51047 non-null  int64  \n",
      " 26  ServiceArea                51023 non-null  object \n",
      " 27  Handsets                   51046 non-null  float64\n",
      " 28  HandsetModels              51046 non-null  float64\n",
      " 29  CurrentEquipmentDays       51046 non-null  float64\n",
      " 30  AgeHH1                     50138 non-null  float64\n",
      " 31  AgeHH2                     50138 non-null  float64\n",
      " 32  ChildrenInHH               51047 non-null  object \n",
      " 33  HandsetRefurbished         51047 non-null  object \n",
      " 34  HandsetWebCapable          51047 non-null  object \n",
      " 35  TruckOwner                 51047 non-null  object \n",
      " 36  RVOwner                    51047 non-null  object \n",
      " 37  Homeownership              51047 non-null  object \n",
      " 38  BuysViaMailOrder           51047 non-null  object \n",
      " 39  RespondsToMailOffers       51047 non-null  object \n",
      " 40  OptOutMailings             51047 non-null  object \n",
      " 41  NonUSTravel                51047 non-null  object \n",
      " 42  OwnsComputer               51047 non-null  object \n",
      " 43  HasCreditCard              51047 non-null  object \n",
      " 44  RetentionCalls             51047 non-null  int64  \n",
      " 45  RetentionOffersAccepted    51047 non-null  int64  \n",
      " 46  NewCellphoneUser           51047 non-null  object \n",
      " 47  NotNewCellphoneUser        51047 non-null  object \n",
      " 48  ReferralsMadeBySubscriber  51047 non-null  int64  \n",
      " 49  IncomeGroup                51047 non-null  int64  \n",
      " 50  OwnsMotorcycle             51047 non-null  object \n",
      " 51  AdjustmentsToCreditRating  51047 non-null  int64  \n",
      " 52  HandsetPrice               51047 non-null  object \n",
      " 53  MadeCallToRetentionTeam    51047 non-null  object \n",
      " 54  CreditRating               51047 non-null  object \n",
      " 55  PrizmCode                  51047 non-null  object \n",
      " 56  Occupation                 51047 non-null  object \n",
      " 57  MaritalStatus              51047 non-null  object \n",
      "dtypes: float64(26), int64(9), object(23)\n",
      "memory usage: 22.6+ MB\n"
     ]
    }
   ],
   "source": [
    "full_df.info()"
   ],
   "metadata": {
    "collapsed": false
   }
  },
  {
   "cell_type": "code",
   "execution_count": 8,
   "outputs": [
    {
     "data": {
      "text/plain": "CustomerID                     0\nChurn                          0\nMonthlyRevenue               156\nMonthlyMinutes               156\nTotalRecurringCharge         156\nDirectorAssistedCalls        156\nOverageMinutes               156\nRoamingCalls                 156\nPercChangeMinutes            367\nPercChangeRevenues           367\nDroppedCalls                   0\nBlockedCalls                   0\nUnansweredCalls                0\nCustomerCareCalls              0\nThreewayCalls                  0\nReceivedCalls                  0\nOutboundCalls                  0\nInboundCalls                   0\nPeakCallsInOut                 0\nOffPeakCallsInOut              0\nDroppedBlockedCalls            0\nCallForwardingCalls            0\nCallWaitingCalls               0\nMonthsInService                0\nUniqueSubs                     0\nActiveSubs                     0\nServiceArea                   24\nHandsets                       1\nHandsetModels                  1\nCurrentEquipmentDays           1\nAgeHH1                       909\nAgeHH2                       909\nChildrenInHH                   0\nHandsetRefurbished             0\nHandsetWebCapable              0\nTruckOwner                     0\nRVOwner                        0\nHomeownership                  0\nBuysViaMailOrder               0\nRespondsToMailOffers           0\nOptOutMailings                 0\nNonUSTravel                    0\nOwnsComputer                   0\nHasCreditCard                  0\nRetentionCalls                 0\nRetentionOffersAccepted        0\nNewCellphoneUser               0\nNotNewCellphoneUser            0\nReferralsMadeBySubscriber      0\nIncomeGroup                    0\nOwnsMotorcycle                 0\nAdjustmentsToCreditRating      0\nHandsetPrice                   0\nMadeCallToRetentionTeam        0\nCreditRating                   0\nPrizmCode                      0\nOccupation                     0\nMaritalStatus                  0\ndtype: int64"
     },
     "execution_count": 8,
     "metadata": {},
     "output_type": "execute_result"
    }
   ],
   "source": [
    "full_df.isna().sum()"
   ],
   "metadata": {
    "collapsed": false
   }
  },
  {
   "cell_type": "markdown",
   "source": [
    "The dataset has 51047 rows and 58 columns. Multiple of those columns seem to be of object type. Out of 58 columns only a handful of them contain missing values. Maximum number of missing values of a column is 909 from AgeHH1, AgeHH2."
   ],
   "metadata": {
    "collapsed": false
   }
  },
  {
   "cell_type": "code",
   "execution_count": 13,
   "outputs": [],
   "source": [
    "# explore the object type columns\n",
    "def print_unique_col_values_counts (df):\n",
    "    for column in df:\n",
    "        if df[column].dtypes==\"object\":\n",
    "            print(f'{column}: {df[column].value_counts()}')"
   ],
   "metadata": {
    "collapsed": false
   }
  },
  {
   "cell_type": "code",
   "execution_count": 14,
   "outputs": [
    {
     "name": "stdout",
     "output_type": "stream",
     "text": [
      "Churn: No     36336\n",
      "Yes    14711\n",
      "Name: Churn, dtype: int64\n",
      "ServiceArea: NYCBRO917    1684\n",
      "HOUHOU281    1510\n",
      "DALDAL214    1498\n",
      "NYCMAN917    1182\n",
      "APCFCH703     783\n",
      "             ... \n",
      "OHIRAV330       1\n",
      "OMANEW515       1\n",
      "KCYHES316       1\n",
      "AIRGEO843       1\n",
      "NCRDNN910       1\n",
      "Name: ServiceArea, Length: 747, dtype: int64\n",
      "ChildrenInHH: No     38679\n",
      "Yes    12368\n",
      "Name: ChildrenInHH, dtype: int64\n",
      "HandsetRefurbished: No     43956\n",
      "Yes     7091\n",
      "Name: HandsetRefurbished, dtype: int64\n",
      "HandsetWebCapable: Yes    46046\n",
      "No      5001\n",
      "Name: HandsetWebCapable, dtype: int64\n",
      "TruckOwner: No     41524\n",
      "Yes     9523\n",
      "Name: TruckOwner, dtype: int64\n",
      "RVOwner: No     46894\n",
      "Yes     4153\n",
      "Name: RVOwner, dtype: int64\n",
      "Homeownership: Known      33987\n",
      "Unknown    17060\n",
      "Name: Homeownership, dtype: int64\n",
      "BuysViaMailOrder: No     32596\n",
      "Yes    18451\n",
      "Name: BuysViaMailOrder, dtype: int64\n",
      "RespondsToMailOffers: No     31821\n",
      "Yes    19226\n",
      "Name: RespondsToMailOffers, dtype: int64\n",
      "OptOutMailings: No     50295\n",
      "Yes      752\n",
      "Name: OptOutMailings, dtype: int64\n",
      "NonUSTravel: No     48168\n",
      "Yes     2879\n",
      "Name: NonUSTravel, dtype: int64\n",
      "OwnsComputer: No     41583\n",
      "Yes     9464\n",
      "Name: OwnsComputer, dtype: int64\n",
      "HasCreditCard: Yes    34503\n",
      "No     16544\n",
      "Name: HasCreditCard, dtype: int64\n",
      "NewCellphoneUser: No     41223\n",
      "Yes     9824\n",
      "Name: NewCellphoneUser, dtype: int64\n",
      "NotNewCellphoneUser: No     44012\n",
      "Yes     7035\n",
      "Name: NotNewCellphoneUser, dtype: int64\n",
      "OwnsMotorcycle: No     50368\n",
      "Yes      679\n",
      "Name: OwnsMotorcycle, dtype: int64\n",
      "HandsetPrice: Unknown    28982\n",
      "30          7328\n",
      "150         4115\n",
      "130         2105\n",
      "80          1960\n",
      "10          1928\n",
      "60          1776\n",
      "200         1266\n",
      "100         1235\n",
      "40           249\n",
      "400           46\n",
      "250           20\n",
      "300           13\n",
      "180           10\n",
      "500            8\n",
      "240            6\n",
      "Name: HandsetPrice, dtype: int64\n",
      "MadeCallToRetentionTeam: No     49302\n",
      "Yes     1745\n",
      "Name: MadeCallToRetentionTeam, dtype: int64\n",
      "CreditRating: 2-High       18993\n",
      "1-Highest     8522\n",
      "3-Good        8410\n",
      "5-Low         6499\n",
      "4-Medium      5357\n",
      "7-Lowest      2114\n",
      "6-VeryLow     1152\n",
      "Name: CreditRating, dtype: int64\n",
      "PrizmCode: Other       24655\n",
      "Suburban    16378\n",
      "Town         7589\n",
      "Rural        2425\n",
      "Name: PrizmCode, dtype: int64\n",
      "Occupation: Other           37637\n",
      "Professional     8755\n",
      "Crafts           1519\n",
      "Clerical          986\n",
      "Self              879\n",
      "Retired           733\n",
      "Student           381\n",
      "Homemaker         157\n",
      "Name: Occupation, dtype: int64\n",
      "MaritalStatus: Unknown    19700\n",
      "Yes        18651\n",
      "No         12696\n",
      "Name: MaritalStatus, dtype: int64\n"
     ]
    }
   ],
   "source": [
    "print_unique_col_values_counts(full_df)"
   ],
   "metadata": {
    "collapsed": false
   }
  },
  {
   "cell_type": "markdown",
   "source": [
    "It can be observed that the object columns are categorical in nature.The missing values are represented by 'Unknown' in the dataset. ategorical features are converted to numerical features using one hot encoding later into the process."
   ],
   "metadata": {
    "collapsed": false
   }
  },
  {
   "cell_type": "code",
   "execution_count": null,
   "outputs": [],
   "source": [],
   "metadata": {
    "collapsed": false
   }
  }
 ],
 "metadata": {
  "kernelspec": {
   "display_name": "Python 3",
   "language": "python",
   "name": "python3"
  },
  "language_info": {
   "codemirror_mode": {
    "name": "ipython",
    "version": 2
   },
   "file_extension": ".py",
   "mimetype": "text/x-python",
   "name": "python",
   "nbconvert_exporter": "python",
   "pygments_lexer": "ipython2",
   "version": "2.7.6"
  }
 },
 "nbformat": 4,
 "nbformat_minor": 0
}
